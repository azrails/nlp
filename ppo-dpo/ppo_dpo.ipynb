{
 "cells": [
  {
   "cell_type": "markdown",
   "id": "a86fe262-b2b3-48cf-b8ed-c4409648a78f",
   "metadata": {
    "id": "a86fe262-b2b3-48cf-b8ed-c4409648a78f"
   },
   "source": [
    "# Домашнее задание 2: DPO и PPO"
   ]
  },
  {
   "cell_type": "markdown",
   "id": "2e70aa25-a6f3-4d56-b648-3da1b89c0c51",
   "metadata": {
    "id": "2e70aa25-a6f3-4d56-b648-3da1b89c0c51"
   },
   "source": [
    "В этой домашке поближе познакомимся с двумя крайне популярными методами алаймента языковых моделей. В первой части вам предоставится возможность самостоятельно заимплементить DPO c нуля. Во второй части мы уже будем использовать библиотеку TRL и обучим PPO.\n",
    "\n",
    "Обученные модели можно и нужно выложить на [🤗 HuggingFace](https://huggingface.co/). Зарегистрируйтесь там, подпишитесь на [deep vk](https://huggingface.co/deepvk) и создайте себе API токен.\n",
    "\n",
    "Следуйте ячейкам тетрадки и заполняйте пропущенные ячейки. В конце тетрадки вы найдете задачи со звездочкой, чтобы получить максимальный балл!"
   ]
  },
  {
   "cell_type": "markdown",
   "id": "6a223a0b-6896-49f6-a5cf-0edc0984595b",
   "metadata": {
    "id": "6a223a0b-6896-49f6-a5cf-0edc0984595b"
   },
   "source": [
    "## Импорты и вспомогательные функции"
   ]
  },
  {
   "cell_type": "code",
   "execution_count": 2,
   "id": "1369a8cc-b9a4-4a52-a4df-a15489ea3352",
   "metadata": {
    "editable": true,
    "id": "1369a8cc-b9a4-4a52-a4df-a15489ea3352",
    "tags": []
   },
   "outputs": [
    {
     "name": "stderr",
     "output_type": "stream",
     "text": [
      "/home/student/zaitsev/smalLM/.venv/lib/python3.13/site-packages/tqdm/auto.py:21: TqdmWarning: IProgress not found. Please update jupyter and ipywidgets. See https://ipywidgets.readthedocs.io/en/stable/user_install.html\n",
      "  from .autonotebook import tqdm as notebook_tqdm\n"
     ]
    }
   ],
   "source": [
    "# Необходимые импорты (для обоих частей)\n",
    "import inspect\n",
    "import random\n",
    "from functools import partial\n",
    "\n",
    "import numpy as np\n",
    "import torch\n",
    "import torch.nn.functional as F\n",
    "import wandb\n",
    "from datasets import load_dataset\n",
    "from huggingface_hub import HfApi, interpreter_login\n",
    "from torch.utils.data import DataLoader\n",
    "from tqdm.auto import tqdm\n",
    "from transformers import (\n",
    "    AutoModelForCausalLM,\n",
    "    AutoModelForSequenceClassification,\n",
    "    AutoTokenizer,\n",
    "    PreTrainedTokenizerBase,\n",
    ")\n",
    "from trl import PPOConfig, PPOTrainer, RewardConfig, RewardTrainer"
   ]
  },
  {
   "cell_type": "code",
   "execution_count": null,
   "id": "0a8464f5",
   "metadata": {
    "id": "0a8464f5"
   },
   "outputs": [],
   "source": [
    "interpreter_login()"
   ]
  },
  {
   "cell_type": "code",
   "execution_count": 3,
   "id": "7ce75b35",
   "metadata": {
    "id": "7ce75b35"
   },
   "outputs": [
    {
     "name": "stdout",
     "output_type": "stream",
     "text": [
      "Homework repository: 'Azrail/SmolLM-aligment'\n"
     ]
    }
   ],
   "source": [
    "# Подготовим репозиторий для будущей модели и токенизатора\n",
    "username = HfApi().whoami()[\"name\"]\n",
    "REPO_NAME = f\"{username}/SmolLM-aligment\"  # Или как вам хочется\n",
    "\n",
    "print(f\"Homework repository: '{REPO_NAME}'\")"
   ]
  },
  {
   "cell_type": "code",
   "execution_count": 1,
   "id": "fa23203d-233f-4a30-aa5a-8ee669275caf",
   "metadata": {
    "editable": true,
    "id": "fa23203d-233f-4a30-aa5a-8ee669275caf",
    "tags": []
   },
   "outputs": [],
   "source": [
    "def set_seed(seed=42):\n",
    "    torch.manual_seed(seed)\n",
    "    torch.cuda.manual_seed_all(seed)\n",
    "    np.random.seed(seed)\n",
    "    random.seed(seed)\n",
    "\n",
    "\n",
    "# Этой функцией будут помечены все места, которые необходимо дозаполнить\n",
    "# Это могут быть как целые функции, так и отдельные части внутри них\n",
    "# Всегда можно воспользоваться интроспекцией и найти места использования этой функции :)\n",
    "def todo():\n",
    "    stack = inspect.stack()\n",
    "    caller_frame = stack[1]\n",
    "    function_name = caller_frame.function\n",
    "    line_number = caller_frame.lineno\n",
    "    raise NotImplementedError(f\"TODO at {function_name}, line {line_number}\")\n",
    "\n",
    "\n",
    "def disable_dropout_in_model(model):\n",
    "    for module in model.modules():\n",
    "        if isinstance(module, torch.nn.Dropout):\n",
    "            module.p = 0"
   ]
  },
  {
   "cell_type": "markdown",
   "id": "e8e36c1d-6e89-4643-a0bb-1a1c916c3466",
   "metadata": {
    "editable": true,
    "id": "e8e36c1d-6e89-4643-a0bb-1a1c916c3466",
    "tags": []
   },
   "source": [
    "# Часть 1: DPO"
   ]
  },
  {
   "cell_type": "markdown",
   "id": "b2ae081e-f2f6-4790-b239-a6ec1c0db1f2",
   "metadata": {
    "id": "b2ae081e-f2f6-4790-b239-a6ec1c0db1f2"
   },
   "source": [
    "Крайне простой метод, который в свое время произвел фурор, т.к. выгодно выделялся на фоне PPO. В отличие от PPO, требующего отдельно обучать Reward Model, Value Model и больших усилий в имплементации, DPO не требует явной ревард модели, а только датасета с человеческими преференсами вида: промпт, выбранный человеком ответ, отвергнутный человеком ответ. Простота также видна из лосса, по сути это весь метод:\n",
    "$$\n",
    "L_\\text{DPO}(\\pi_{\\theta}; \\pi_\\text{ref}) = -E_{(x, y_w, y_l)\\sim D}\\left[\\log \\sigma \\left(\n",
    "\\beta \\log \\frac{\\pi_{\\theta}(y_w\\mid x)}{\\pi_\\text{ref}(y_w\\mid x)} \\thinspace\n",
    "{- \\beta \\log \\frac{\\pi_{\\theta}(y_l\\mid x)}{\\pi_\\text{ref}(y_l\\mid x)}}\\right)\\right]\n",
    "$$\n",
    "\n",
    "где:\n",
    "\n",
    "- $\\pi_{\\theta}$ LLM которую мы хотим заалайнить\n",
    "- $\\pi_\\text{ref}$ референсная модель для регуляризации, как правило просто начальный чекпоинт\n",
    "- $D$ датасет с преференсами\n",
    "- $x$ промпт из датасета $D$\n",
    "- $y_w$ ответ на промпт $x$ выбранный человеком (или тем кто размечал преференсы, это может быть и большая LLM)\n",
    "- $y_l$ ответ на промпт $x$ отвергнутый человеком (или тем кто размечал преференсы, это может быть и большая LLM)\n",
    "- $\\beta$ гиперепараметр отвечающий за то, как далеко мы можем отходить от референсной модели\n",
    "\n",
    "Во время имплементации советум внимательно прочитать оригинальную статью: [Direct Preference Optimization: Your Language Model is Secretly a Reward Model](https://arxiv.org/abs/2305.18290).\n",
    "\n",
    "Для файнтюна мы будем использовать модель [HuggingFaceTB/SmolLM-135M-Instruct](https://huggingface.co/HuggingFaceTB/SmolLM-135M-Instruct), т.к. она маленького размера (поместится на Colab), но при этом умеет достаточно, чтобы увидеть изменения от алаймента. Более того, данная модель даже прошла стадию SFT, а поэтому в отличие от базовой модели (без Instruct) понимает формат чата (chat-template в transformers, дальше разберем) и имеет 'осознание' себя языковым ассистентом.\n",
    "\n",
    "P.S. Если у вас есть доступ к вычислительным ресурсам типо A100 и больше, вы можете попробовать зафайнтюнить модель большего размера из этой же [линейки](https://huggingface.co/blog/smollm). Будьте внимательны, смотрите, чтобы она была с добавкой Instruct."
   ]
  },
  {
   "cell_type": "code",
   "execution_count": 4,
   "id": "3d88765f",
   "metadata": {
    "id": "3d88765f"
   },
   "outputs": [],
   "source": [
    "MODEL_ID = \"HuggingFaceTB/SmolLM-360M-Instruct\"\n",
    "DATASET_ID = \"HumanLLMs/Human-Like-DPO-Dataset\""
   ]
  },
  {
   "cell_type": "markdown",
   "id": "9004f808-b6bc-46fe-bc77-f7d4e381f963",
   "metadata": {
    "id": "9004f808-b6bc-46fe-bc77-f7d4e381f963"
   },
   "source": [
    "## Подготовка данных [1 балл]\n",
    "\n",
    "Для начала нужно подготовить данные. В качестве датасета преференсов мы будем использовать [HumanLLMs/Human-Like-DPO-Dataset](https://huggingface.co/datasets/HumanLLMs/Human-Like-DPO-Dataset), который значительно повышает эмоциональность модели, количество используемых эмодзи и в целом снижает строгость следования шаблону \"As a conversational AI, I ...\".\n",
    "\n",
    "Чтобы подготовить датасет нужно несколько простых этапов:\n",
    "1. Привест данные к формату chat-template\n",
    "2. После применить этот chat-template с помощью 'tokenizer.apply_chat_template'\n",
    "3. Токенизировать получившиеся данные, попутно обрезав промпт и ответы до нужной длины, если надо.\n",
    "\n",
    "Внимательно прочитайте [документацию по chat-templates](https://huggingface.co/docs/transformers/chat_templating). Для удобства данные приводят в начале в более верхне-уровневый формат такого вида:\n",
    "```python\n",
    "messages = [\n",
    "    {\"role\": \"system\", \"content\": \"You are a helpful assistant focused on technical topics.\"},\n",
    "    {\"role\": \"user\", \"content\": \"Can you explain what a chat template is?\"},\n",
    "    {\"role\": \"assistant\", \"content\": \"A chat template structures conversations between users and AI models...\"}\n",
    "]\n",
    "```\n",
    "То есть модели можно задать разные роли, такие как например системный промпт, и в целом структурировать диалог между ассистентом и человеком. Обычно обучение этому происходит на этапе SFT. Данная репрезентация абстрагирует детали (конкретные токены) как этот формат используют разные модели. Чтобы перевести его в неспоредственно текстовый инпут в формате специфичном конкретной модели используется `tokenizer.apply_chat_template`."
   ]
  },
  {
   "cell_type": "code",
   "execution_count": 5,
   "id": "553b75fe-e0b2-4c68-9c1e-9b2d58983da6",
   "metadata": {
    "id": "553b75fe-e0b2-4c68-9c1e-9b2d58983da6"
   },
   "outputs": [],
   "source": [
    "# понадобится для подготовки данных\n",
    "tokenizer = AutoTokenizer.from_pretrained(MODEL_ID)"
   ]
  },
  {
   "cell_type": "code",
   "execution_count": 6,
   "id": "aa5e40e1-94a3-4ed9-8f33-1bd45fa9086d",
   "metadata": {
    "id": "aa5e40e1-94a3-4ed9-8f33-1bd45fa9086d"
   },
   "outputs": [
    {
     "name": "stderr",
     "output_type": "stream",
     "text": [
      "Generating train split: 100%|██████████| 10884/10884 [00:00<00:00, 26834.09 examples/s]\n"
     ]
    },
    {
     "data": {
      "text/plain": [
       "{'prompt': 'Oh, I just saw the best meme - have you seen it?',\n",
       " 'chosen': \"😂 Ah, no I haven't! I'm dying to know, what's the meme about? Is it a funny cat or a ridiculous situation? Spill the beans! 🤣\",\n",
       " 'rejected': \"I'm an artificial intelligence language model, I don't have personal experiences or opinions. However, I can provide you with information on highly-rated and critically acclaimed films, as well as recommendations based on specific genres or themes. Would you like me to suggest some notable movies or discuss a particular genre of interest?\"}"
      ]
     },
     "execution_count": 6,
     "metadata": {},
     "output_type": "execute_result"
    }
   ],
   "source": [
    "dataset = load_dataset(DATASET_ID, split=\"train\")\n",
    "dataset[0]"
   ]
  },
  {
   "cell_type": "markdown",
   "id": "565dcc5d-8e70-4917-97b8-ed8c7f08d964",
   "metadata": {
    "id": "565dcc5d-8e70-4917-97b8-ed8c7f08d964"
   },
   "source": [
    "Приведите датасет к формату чата, где у промпта роль user, а у ответов assistant, а потом примените чат темплейт:"
   ]
  },
  {
   "cell_type": "code",
   "execution_count": 7,
   "id": "b1fe38a4",
   "metadata": {},
   "outputs": [],
   "source": [
    "model = AutoModelForCausalLM.from_pretrained(MODEL_ID)"
   ]
  },
  {
   "cell_type": "code",
   "execution_count": 8,
   "id": "f82c3db8",
   "metadata": {},
   "outputs": [
    {
     "data": {
      "text/plain": [
       "\"{% for message in messages %}{{'<|im_start|>' + message['role'] + '\\n' + message['content'] + '<|im_end|>' + '\\n'}}{% endfor %}{% if add_generation_prompt %}{{ '<|im_start|>assistant\\n' }}{% endif %}\""
      ]
     },
     "execution_count": 8,
     "metadata": {},
     "output_type": "execute_result"
    }
   ],
   "source": [
    "tokenizer.chat_template"
   ]
  },
  {
   "cell_type": "code",
   "execution_count": 9,
   "id": "88cc64ed",
   "metadata": {},
   "outputs": [],
   "source": [
    "template = \"\"\"{% for message in messages %}{% if message.get('role') is not none %}{{'<|im_start|>' + message['role'] + '\\n' + message['content'] + '<|im_end|>' + '\\n'}}{% else %}{{message['content'] + '<|im_end|>' + '\\n'}}{% endif %}{% endfor %}{% if add_generation_prompt %}{{ '<|im_start|>assistant\\n' }}{% endif %}\"\"\""
   ]
  },
  {
   "cell_type": "code",
   "execution_count": 10,
   "id": "f3409ab7",
   "metadata": {},
   "outputs": [],
   "source": [
    "tokenizer.chat_template = template"
   ]
  },
  {
   "cell_type": "code",
   "execution_count": 11,
   "id": "6e06515d-abdc-4b3f-b4eb-b7b00c922bff",
   "metadata": {
    "id": "6e06515d-abdc-4b3f-b4eb-b7b00c922bff"
   },
   "outputs": [],
   "source": [
    "def apply_chat_template(\n",
    "    example: dict[str, str], tokenizer: PreTrainedTokenizerBase\n",
    ") -> dict[str, str]:\n",
    "    \"\"\"\n",
    "    Transforms a dataset example into a formatted chat template using the provided tokenizer.\n",
    "\n",
    "    Args:\n",
    "        example (Dict[str, str]): A dictionary containing the following keys:\n",
    "            - \"prompt\": The initial user prompt.\n",
    "            - \"chosen\": The assistant's chosen response.\n",
    "            - \"rejected\": The assistant's rejected response.\n",
    "        tokenizer (PreTrainedTokenizerBase): An object that provides the `apply_chat_template` method\n",
    "            for formatting the conversation.\n",
    "\n",
    "    Returns:\n",
    "        Dict[str, str]: A dictionary with the following keys:\n",
    "            - \"prompt\": The formatted prompt string including the generation prompt.\n",
    "            - \"chosen\": The formatted assistant's chosen response (with the prompt prefix removed).\n",
    "            - \"rejected\": The formatted assistant's rejected response (with the prompt prefix removed).\n",
    "    \"\"\"\n",
    "    res = {}\n",
    "    chat = [{\"role\": \"user\", \"content\": example[\"prompt\"]}]\n",
    "    res[\"prompt\"] = tokenizer.apply_chat_template(\n",
    "        chat, add_generation_prompt=True, tokenize=False\n",
    "    )\n",
    "    chat.append({\"role\": \"assistant\", \"content\": example[\"chosen\"]})\n",
    "    res[\"chosen\"] = tokenizer.apply_chat_template(\n",
    "        [{\"content\": example[\"chosen\"]}], tokenize=False\n",
    "    )\n",
    "    res[\"rejected\"] = tokenizer.apply_chat_template(\n",
    "        [{\"content\": example[\"rejected\"]}], tokenize=False\n",
    "    )\n",
    "    return res"
   ]
  },
  {
   "cell_type": "code",
   "execution_count": 12,
   "id": "fcb16881-c63a-41ae-b5ed-9a37b62a98ff",
   "metadata": {
    "id": "fcb16881-c63a-41ae-b5ed-9a37b62a98ff"
   },
   "outputs": [
    {
     "name": "stderr",
     "output_type": "stream",
     "text": [
      "Map:   0%|          | 0/10884 [00:00<?, ? examples/s]"
     ]
    },
    {
     "name": "stderr",
     "output_type": "stream",
     "text": [
      "Map: 100%|██████████| 10884/10884 [00:02<00:00, 5137.23 examples/s]\n"
     ]
    },
    {
     "data": {
      "text/plain": [
       "{'prompt': '<|im_start|>user\\nOh, I just saw the best meme - have you seen it?<|im_end|>\\n<|im_start|>assistant\\n',\n",
       " 'chosen': \"😂 Ah, no I haven't! I'm dying to know, what's the meme about? Is it a funny cat or a ridiculous situation? Spill the beans! 🤣<|im_end|>\\n\",\n",
       " 'rejected': \"I'm an artificial intelligence language model, I don't have personal experiences or opinions. However, I can provide you with information on highly-rated and critically acclaimed films, as well as recommendations based on specific genres or themes. Would you like me to suggest some notable movies or discuss a particular genre of interest?<|im_end|>\\n\"}"
      ]
     },
     "execution_count": 12,
     "metadata": {},
     "output_type": "execute_result"
    }
   ],
   "source": [
    "dataset = dataset.map(apply_chat_template, fn_kwargs={\"tokenizer\": tokenizer})\n",
    "dataset[0]"
   ]
  },
  {
   "cell_type": "markdown",
   "id": "b64dabac-883f-41db-b6d8-9fff5ae32d35",
   "metadata": {
    "id": "b64dabac-883f-41db-b6d8-9fff5ae32d35"
   },
   "source": [
    "После этих двух этапов данные должны выглядеть так (**обратите внимание на положение <|im_start|>assistant\\n**, это важно!):\n",
    "```\n",
    "{\n",
    "    'prompt': \"<|im_start|>user\\nOh, I just saw the best meme - have you seen it <|im_end|>\\n<|im_start|>assistant\\n\",\n",
    "    'chosen': \"😂 Ah, no I haven't! I'm dying to know, what's the meme about? Is it a funny cat or a ridiculous situation? Spill the beans! 🤣<|im_end|>\\n\",\n",
    "    'rejected': \"I'm an artificial intelligence language model, I don't have personal experiences or opinions. However, I can provide you with information on highly-rated and critically acclaimed films, as well as recommendations based on specific genres or themes. Would you like me to suggest some notable movies or discuss a particular genre of interest?<|im_end|>\\n\"\n",
    "}\n",
    "```"
   ]
  },
  {
   "cell_type": "markdown",
   "id": "a3a94b01",
   "metadata": {
    "id": "a3a94b01"
   },
   "source": [
    "Токенизируйте датасет с помощью токенизатора, обрезав длину если необходимо. В датасете должны остаться только ID токенов:\n",
    "```\n",
    "Dataset({\n",
    "    features: ['prompt_input_ids', 'chosen_input_ids', 'rejected_input_ids'],\n",
    "    num_rows: 10884\n",
    "})\n",
    "```"
   ]
  },
  {
   "cell_type": "markdown",
   "id": "8ad02508-e4f9-43fa-a3e6-7ecd0e2963df",
   "metadata": {
    "id": "8ad02508-e4f9-43fa-a3e6-7ecd0e2963df"
   },
   "source": [
    "Обрезайте промпт слева, а не с конца. Подумайте почему так лучше. **Напишите свой ответ**.\n",
    "\n",
    "    #========== TODO ==========\n",
    "    #     Ваш ответ здесь     =\n",
    "    #==========================\n",
    "\n",
    "Послкольку чаще всего наиболее важные инструкции промта находится в конце, обычно начало промта является контекстуальным введением. Так же при обрезке справа в контексте который увидит модель теряется консистентность и появляется возвожность потенциальной контекстной дыры."
   ]
  },
  {
   "cell_type": "code",
   "execution_count": 13,
   "id": "ab86a8b4-ba29-442b-92a9-294a9153cfe8",
   "metadata": {
    "id": "ab86a8b4-ba29-442b-92a9-294a9153cfe8"
   },
   "outputs": [],
   "source": [
    "def tokenize_row(\n",
    "    example: dict[str, str],\n",
    "    tokenizer: PreTrainedTokenizerBase,\n",
    "    max_prompt_length: int = 512,\n",
    "    max_completion_length: int | None = None,\n",
    ") -> dict[str, list[int]]:\n",
    "    \"\"\"\n",
    "    Tokenizes a single row of a dataset example for use in language model training or evaluation.\n",
    "\n",
    "    This function processes an example containing textual fields for a prompt, a chosen response,\n",
    "    and a rejected response. It tokenizes each text field using the provided tokenizer. If specified,\n",
    "    it truncates the tokenized prompt to the last `max_prompt_length` tokens and the tokenized responses\n",
    "    (chosen and rejected) to the first `max_completion_length` tokens.\n",
    "\n",
    "    Args:\n",
    "        example (dict[str, str]): A dictionary with the following keys:\n",
    "            - \"prompt\": The initial prompt text.\n",
    "            - \"chosen\": The assistant's chosen response.\n",
    "            - \"rejected\": The assistant's rejected response.\n",
    "        tokenizer (PreTrainedTokenizerBase): A tokenizer that converts text into token IDs. It must return a dictionary\n",
    "            with the key \"input_ids\" when called.\n",
    "        max_prompt_length (Optional[int], optional): Maximum number of tokens to retain for the prompt.\n",
    "            The function keeps the last `max_prompt_length` tokens. Defaults to 512.\n",
    "        max_completion_length (Optional[int], optional): Maximum number of tokens to retain for the completion\n",
    "            responses (chosen and rejected). The function keeps the first `max_completion_length` tokens.\n",
    "            If None, no truncation is applied. Defaults to None.\n",
    "\n",
    "    Returns:\n",
    "        dict[str, list[int]]: A dictionary containing:\n",
    "            - \"prompt_input_ids\": The token IDs for the prompt, possibly truncated.\n",
    "            - \"chosen_input_ids\": The token IDs for the chosen response, possibly truncated.\n",
    "            - \"rejected_input_ids\": The token IDs for the rejected response, possibly truncated.\n",
    "    \"\"\"\n",
    "    res = {}\n",
    "    res[\"prompt_input_ids\"] = tokenizer(\n",
    "        example[\"prompt\"], add_special_tokens=False\n",
    "    ).input_ids[-max_prompt_length:]\n",
    "    res[\"chosen_input_ids\"] = tokenizer(\n",
    "        example[\"chosen\"], add_special_tokens=False\n",
    "    ).input_ids\n",
    "    res[\"rejected_input_ids\"] = tokenizer(\n",
    "        example[\"rejected\"], add_special_tokens=False\n",
    "    ).input_ids\n",
    "    if max_completion_length:\n",
    "        res[\"chosen_input_ids\"] = res[\"chosen_input_ids\"][:max_completion_length]\n",
    "        res[\"rejected_input_ids\"] = res[\"rejected_input_ids\"][:max_completion_length]\n",
    "    return res"
   ]
  },
  {
   "cell_type": "code",
   "execution_count": 14,
   "id": "902b567f",
   "metadata": {
    "id": "902b567f"
   },
   "outputs": [
    {
     "name": "stderr",
     "output_type": "stream",
     "text": [
      "Map: 100%|██████████| 10884/10884 [00:14<00:00, 775.84 examples/s] \n"
     ]
    }
   ],
   "source": [
    "dataset = dataset.map(\n",
    "    tokenize_row,\n",
    "    fn_kwargs={\n",
    "        \"tokenizer\": tokenizer,\n",
    "        \"max_prompt_length\": 256,\n",
    "        \"max_completion_length\": None,\n",
    "    },\n",
    "    remove_columns=[\"prompt\", \"chosen\", \"rejected\"],\n",
    ")"
   ]
  },
  {
   "cell_type": "code",
   "execution_count": 15,
   "id": "46914225",
   "metadata": {},
   "outputs": [
    {
     "data": {
      "text/plain": [
       "{'prompt_input_ids': [1,\n",
       "  4093,\n",
       "  198,\n",
       "  16912,\n",
       "  28,\n",
       "  339,\n",
       "  915,\n",
       "  3680,\n",
       "  260,\n",
       "  1450,\n",
       "  1169,\n",
       "  85,\n",
       "  731,\n",
       "  457,\n",
       "  346,\n",
       "  2269,\n",
       "  357,\n",
       "  47,\n",
       "  2,\n",
       "  198,\n",
       "  1,\n",
       "  520,\n",
       "  9531,\n",
       "  198],\n",
       " 'chosen_input_ids': [10813,\n",
       "  242,\n",
       "  220,\n",
       "  12947,\n",
       "  28,\n",
       "  787,\n",
       "  339,\n",
       "  8540,\n",
       "  982,\n",
       "  17,\n",
       "  339,\n",
       "  5248,\n",
       "  11888,\n",
       "  288,\n",
       "  699,\n",
       "  28,\n",
       "  732,\n",
       "  506,\n",
       "  260,\n",
       "  1169,\n",
       "  85,\n",
       "  563,\n",
       "  47,\n",
       "  1431,\n",
       "  357,\n",
       "  253,\n",
       "  17025,\n",
       "  2644,\n",
       "  355,\n",
       "  253,\n",
       "  31404,\n",
       "  3223,\n",
       "  47,\n",
       "  1691,\n",
       "  388,\n",
       "  260,\n",
       "  9973,\n",
       "  17,\n",
       "  15107,\n",
       "  114,\n",
       "  113,\n",
       "  2,\n",
       "  198],\n",
       " 'rejected_input_ids': [57,\n",
       "  5248,\n",
       "  354,\n",
       "  6416,\n",
       "  5290,\n",
       "  1789,\n",
       "  1743,\n",
       "  28,\n",
       "  339,\n",
       "  1326,\n",
       "  982,\n",
       "  457,\n",
       "  2143,\n",
       "  2647,\n",
       "  355,\n",
       "  8428,\n",
       "  30,\n",
       "  1423,\n",
       "  28,\n",
       "  339,\n",
       "  416,\n",
       "  1538,\n",
       "  346,\n",
       "  351,\n",
       "  1096,\n",
       "  335,\n",
       "  3452,\n",
       "  29,\n",
       "  3119,\n",
       "  284,\n",
       "  9603,\n",
       "  32246,\n",
       "  9411,\n",
       "  28,\n",
       "  347,\n",
       "  876,\n",
       "  347,\n",
       "  7400,\n",
       "  1552,\n",
       "  335,\n",
       "  1678,\n",
       "  14009,\n",
       "  355,\n",
       "  5535,\n",
       "  30,\n",
       "  13651,\n",
       "  346,\n",
       "  702,\n",
       "  549,\n",
       "  288,\n",
       "  1820,\n",
       "  634,\n",
       "  7703,\n",
       "  10026,\n",
       "  355,\n",
       "  1692,\n",
       "  253,\n",
       "  1542,\n",
       "  10265,\n",
       "  282,\n",
       "  1384,\n",
       "  47,\n",
       "  2,\n",
       "  198]}"
      ]
     },
     "execution_count": 15,
     "metadata": {},
     "output_type": "execute_result"
    }
   ],
   "source": [
    "dataset[0]"
   ]
  },
  {
   "cell_type": "markdown",
   "id": "4e6687c2-73a7-4ae9-972c-6603673e6401",
   "metadata": {
    "id": "4e6687c2-73a7-4ae9-972c-6603673e6401"
   },
   "source": [
    "Теперь надо подготовить DataLoader. Для этого надо написать кастомный `collate_fn` который будет делать следующее:\n",
    "1. Принимать лист примеров с ключами `prompt_input_ids`, `chosen_input_ids`, `rejected_input_ids`.\n",
    "2. Паддить до максимальной длины в батче по каждому ключу. По итогу `prompt_input_ids` и `chosen_input_ids` могут иметь разную длину, это нормально. Важно, чтобы внутри одинаковых ключей длина была консистентна.\n",
    "3. Для каждого ключа создавать паддинг маску такого же шейпа, где 0 используется для паддинг-токенов и 1 для токенов последовательности.\n",
    "\n",
    "Для паддинга дополнительно реализуйте функцию `pad`. В качестве токена используйте `tokenizer.pad_token_id` и 0 для маски. **Опять же, подумайте откуда лучше паддить `prompt_input_ids`?**"
   ]
  },
  {
   "cell_type": "code",
   "execution_count": 16,
   "id": "90431c77-694c-446b-bced-eae8124936fb",
   "metadata": {
    "id": "90431c77-694c-446b-bced-eae8124936fb"
   },
   "outputs": [],
   "source": [
    "def pad(\n",
    "    tensors: list[torch.Tensor], padding_value: int = 0, padding_side: str = \"right\"\n",
    ") -> torch.Tensor:\n",
    "    \"\"\"\n",
    "    Pads a list of tensors to the same size along their leading dimension.\n",
    "\n",
    "    Args:\n",
    "        tensors (list[torch.Tensor]): A list of tensors to be padded.\n",
    "            All tensors in the list should be of the same type and device.\n",
    "        padding_value (int, default=0): The value used to pad the tensors.\n",
    "        padding_side (str, default=\"right\"): Specifies which side of the tensor to apply padding: either 'left' or 'right'.\n",
    "\n",
    "    Returns:\n",
    "        torch.Tensor: A tensor containing all the padded tensors, [N; max_length]\n",
    "            where N is the number of tensors and `max_length` is the shape of the largest tensor.\n",
    "    \"\"\"\n",
    "    out = torch.nn.utils.rnn.pad_sequence(\n",
    "        tensors,\n",
    "        batch_first=True,\n",
    "        padding_value=padding_value,\n",
    "        padding_side=padding_side,\n",
    "    )\n",
    "    return out\n",
    "\n",
    "\n",
    "def pad_collate_fn(\n",
    "    batch: list[dict[str, torch.Tensor]], pad_token_id: int\n",
    ") -> dict[str, torch.Tensor]:\n",
    "    \"\"\"\n",
    "    Collates and pads a batch of tokenized examples for model input.\n",
    "\n",
    "    This function takes a batch of examples where each example is a dictionary containing\n",
    "    token IDs for the prompt, the chosen response, and the rejected response. For each field,\n",
    "    it extracts the list of token IDs, creates a corresponding attention mask (with ones for each token),\n",
    "    and then pads the sequences using a `pad` function. The prompt sequences and their attention masks\n",
    "    are padded on the left, while the chosen and rejected sequences are padded on the right (default).\n",
    "\n",
    "    Args:\n",
    "        batch (list[dict[str, torch.Tensor]]): A list of dictionaries, where each dictionary has the keys:\n",
    "            - \"prompt_input_ids\": Tensor of token IDs for the prompt.\n",
    "            - \"chosen_input_ids\": Tensor of token IDs for the chosen response.\n",
    "            - \"rejected_input_ids\": Tensor of token IDs for the rejected response.\n",
    "        pad_token_id (int): Padding value for token IDs.\n",
    "\n",
    "    Returns:\n",
    "        dict[str, torch.Tensor]: A dictionary containing the following keys with padded tensors:\n",
    "            - \"prompt_input_ids\": Padded token IDs for the prompt (padded on the left).\n",
    "            - \"prompt_attn_mask\": Padded attention mask for the prompt (padded on the left, with 1s for actual tokens).\n",
    "            - \"chosen_input_ids\": Padded token IDs for the chosen response.\n",
    "            - \"chosen_attn_mask\": Padded attention mask for the chosen response.\n",
    "            - \"rejected_input_ids\": Padded token IDs for the rejected response.\n",
    "            - \"rejected_attn_mask\": Padded attention mask for the rejected response.\n",
    "    \"\"\"\n",
    "    res = {}\n",
    "    res[\"prompt_input_ids\"] = pad(\n",
    "        [entity[\"prompt_input_ids\"] for entity in batch],\n",
    "        padding_value=pad_token_id,\n",
    "        padding_side=\"left\",\n",
    "    )\n",
    "    res[\"chosen_input_ids\"] = pad(\n",
    "        [entity[\"chosen_input_ids\"] for entity in batch], padding_value=pad_token_id\n",
    "    )\n",
    "    res[\"rejected_input_ids\"] = pad(\n",
    "        [entity[\"rejected_input_ids\"] for entity in batch], padding_value=pad_token_id\n",
    "    )\n",
    "    res[\"prompt_attn_mask\"] = torch.where(\n",
    "        res[\"prompt_input_ids\"] == pad_token_id, 0, 1\n",
    "    ).long()\n",
    "    res[\"chosen_attn_mask\"] = torch.where(\n",
    "        res[\"chosen_input_ids\"] == pad_token_id, 0, 1\n",
    "    ).long()\n",
    "    res[\"rejected_attn_mask\"] = torch.where(\n",
    "        res[\"rejected_input_ids\"] == pad_token_id, 0, 1\n",
    "    ).long()\n",
    "    return res\n",
    "\n",
    "\n",
    "pad_collate_fn = partial(pad_collate_fn, pad_token_id=tokenizer.pad_token_id)\n",
    "dataloader = DataLoader(\n",
    "    dataset.with_format(\"torch\"),\n",
    "    batch_size=2,\n",
    "    shuffle=True,\n",
    "    collate_fn=pad_collate_fn,\n",
    ")"
   ]
  },
  {
   "cell_type": "code",
   "execution_count": 17,
   "id": "749c4e48-9566-4314-9145-799465036404",
   "metadata": {
    "id": "749c4e48-9566-4314-9145-799465036404"
   },
   "outputs": [
    {
     "data": {
      "text/plain": [
       "{'prompt_input_ids': tensor([[    1,  4093,   198,  1780,   506,   260,   768,  3684,  7132, 12728,\n",
       "            346,  3543,  1690,  1699,    28,   284,   638,  1250,   346,  5482,\n",
       "            357,    47,     2,   198,     1,   520,  9531,   198],\n",
       "         [    2,     2,     2,     2,     2,     2,     1,  4093,   198,  1780,\n",
       "            506,   260,   768, 15071,  2121,   355, 12154,   346,  3543,   719,\n",
       "            288,    47,     2,   198,     1,   520,  9531,   198]]),\n",
       " 'chosen_input_ids': tensor([[27871, 15909,    28,   555,    17,   339,  3543,  1690,  1699,   588,\n",
       "            800,  3122,  2911,    28,   564,   582,   338,  1361, 29125,   957,\n",
       "           1945,   314,   260,   476, 11278,   866,  8501, 15509,  2227,  1206,\n",
       "            699,    28,   260,   582,   837,   346,  2316,   253, 17246,   403,\n",
       "            335,   253,  3133,  1138,    28,   284,   346,  3525,   582,   282,\n",
       "           1296,  9160,    28,  2893,   582,   282,   527,   314,   253, 20581,\n",
       "            725,  1076,    47,   198,   198,  2931,    28,  1535,   506,   260,\n",
       "           3795,    42,  1206,  4491,   253,  6644,    28,   564,  1092,   357,\n",
       "            506,  6572,    28,   260,  3133,  1138,  3167,    28,  3692,   866,\n",
       "           8501,    28, 10573,   582,   282,   260,   550,   827,  9160,    28,\n",
       "            284,  2893,   357,   314,   253, 22913,   365,  1766,   260,  3122,\n",
       "             28, 20581,  1076,   595,  3569,    28,   346,   457,   253,  4187,\n",
       "             42,  6420,   351,   469,  2798,  6644,   355,  6261,   288,   260,\n",
       "           6219,   551, 31074,  6644,    30,   198,   198,  4038, 36769,    28,\n",
       "            357,  3419,   702,   260,  8746,   282,   260,  1076,  1036,  2893,\n",
       "            971,  6644,   314,   216,    33,    31,    35,    28,   588, 15545,\n",
       "          10606,   982,  2631,    28,  1048,    47, 36608,    17,   378,  1945,\n",
       "             29, 40069,   599,   314,   338, 15545,  9160,  2390,  3894,   346,\n",
       "            253,   216,    34,    31,    35,  4468,   282, 12707,   260,  1076,\n",
       "             28,   979, 21647,   351,   469,  2798,  4187,   805,  3894,   346,\n",
       "            253,   216,    33,    31,    35,  4468,    30,   198,   198,  3473,\n",
       "            808,    28,   339,   436,   702,    28,   476,  1780, 17593,  1848,\n",
       "            416,   982,   325,  1048,  6653,  1249,   965,   339,  2275,   563,\n",
       "            357,    28,   284,   357,   506,  2390,  5740,  2232,    30,  1550,\n",
       "            346,   808,  3525,   253,  6644,    28,   665,   506,   253,   216,\n",
       "             33,    31,    35,  4468,   260,  1076,   314,  2893,   357,   284,\n",
       "            253,   216,    34,    31,    35,  4468,   357,   506,  2893,   582,\n",
       "            282,   260,   550,   827,  9160,    30,  1550,  3692,   866, 10573,\n",
       "            582,   282,   260,   550,  9160,   284,  2744,   346,   253, 22913,\n",
       "             28,   260,  8746,  2761,   982,  1363,   327,   469,  2798,  6644,\n",
       "            816,   357,   506,  1361,   216,    33,    31,    35,    30,  1249,\n",
       "           1209,    28,   260,  6219,   551, 31074,  6644,   553,   253,   216,\n",
       "             34,    31,    35,  4468,   282,  1953,   260,  1076,    17,   198,\n",
       "            198,  2931,    28,   260,  1646,   314,   288,  7319,   338,  3692,\n",
       "            866,   506,  2353,   282,  6021,   582,   282,   260,   550,  9160,\n",
       "           3247,   982,  4369,    43,   384,   506,  2390,  4145,   346,   725,\n",
       "           1096,    30,   657,   506,   702,  2967,   253, 13942,    28,   284,\n",
       "            346,   868,  1188,  5163,   282,   357,    17,   198,   198,    57,\n",
       "           3683,   982,  3869,   476, 33773,    18,   260,  1732,    28,   567,\n",
       "            427,    28,   564,   339,   761,   288, 15147,   957,  1680,  1130,\n",
       "            357,   288,  1044,  1701, 15545,  9160,  3894,   346,   253,  1365,\n",
       "           4468,   282, 12707,    30,  1350,  1209,    28,  7562,   339,  5248,\n",
       "           5263,   351,   253,  9228,  3062,    28,   339,  1510,   563,   260,\n",
       "           3692,   866,  8501, 15509,   284,  5007,  7576,   288,  1771,   511,\n",
       "            260,  1770,  1096,  1092,  1625,   253,  4187,    30,   198,   198,\n",
       "           1780,   563,   346,    28,   457,   346,  1690,  1699,   750,  2106,\n",
       "             29, 10372, 19651,  4119, 15909,   338,   346,  6737,   702,   288,\n",
       "           2419,    47,     2,   198],\n",
       "         [ 7764,    28,   338,   506,   253,  1109,  1962,    17, 15107,   232,\n",
       "            227,   339,  3543,   719, 16643,  2001,   288,   457,   719,   288,\n",
       "            634,  5485,  2466,   690,   260,   929,    28,   564,   585,   339,\n",
       "            761,   288,  4491,   582,   338,  2159,  6443,   578,    28,   357,\n",
       "            736,   457,   288,   325,   253,  2477, 12587,   339,  3514,   288,\n",
       "            351,  2428,   281,  4708,    30, 15107,   232,   131,   198,   198,\n",
       "           1589,   436,   253,  1296,    29,  1222, 12587,    28,   284,   392,\n",
       "            761,   354,  8435, 19048,    17,   378,  1761,  1110,   436, 38695,\n",
       "             28,   351,   634,   282,   653,  4932, 12299,   284,  4936,  7691,\n",
       "             30,  1249,   732,  2159,  1135,   357, 15071,   436,   260,  1439,\n",
       "            282,   260, 13347,   284,   260,   386, 34909,   282,   260,  2444,\n",
       "           2121,    30,   657,   436,   702,   582,  2066,    28,  5587,  4732,\n",
       "            351,  4327,   282,   701, 12027,  1683,   288,   897,  4956,    30,\n",
       "          15107,   232,   114,   198,   198,  2705,   282,   260,  9041,   436,\n",
       "           9048,  6268,   957,  4932,  5975,   418,   260,   655,  1477,  2330,\n",
       "             30,   339,  6737,   719,  6858,   288,   480, 21613,  1603,  9796,\n",
       "            327,  2704,    28,   284,   288,   963,   601,  2635,   967,  8786,\n",
       "            288,  1029,   335,  3632,   436,   915,  6512,    30,   378,  1022,\n",
       "          24078,   436,   588, 35821,   284,  4798,    28,   284,   260,  2444,\n",
       "          13347,   436,  4036,   618,   357,    30,  1046,  7569,   614,  1625,\n",
       "            634,   725,  2428,   281,   260, 13347,    28,  1147,    28,   527,\n",
       "            436, 16626,    30, 15107,   235,   121,   198,   198,  1780,   563,\n",
       "            346,    47,  5310,   346,   719,   288,   750, 22848,  2466,   355,\n",
       "          28923,    47,   339,  5248,   511, 10006,    17, 15107,   232,   117,\n",
       "              2,   198,     2,     2,     2,     2,     2,     2,     2,     2,\n",
       "              2,     2,     2,     2,     2,     2,     2,     2,     2,     2,\n",
       "              2,     2,     2,     2,     2,     2,     2,     2,     2,     2,\n",
       "              2,     2,     2,     2,     2,     2,     2,     2,     2,     2,\n",
       "              2,     2,     2,     2,     2,     2,     2,     2,     2,     2,\n",
       "              2,     2,     2,     2,     2,     2,     2,     2,     2,     2,\n",
       "              2,     2,     2,     2,     2,     2,     2,     2,     2,     2,\n",
       "              2,     2,     2,     2,     2,     2,     2,     2,     2,     2,\n",
       "              2,     2,     2,     2,     2,     2,     2,     2,     2,     2,\n",
       "              2,     2,     2,     2,     2,     2,     2,     2,     2,     2,\n",
       "              2,     2,     2,     2,     2,     2,     2,     2,     2,     2,\n",
       "              2,     2,     2,     2,     2,     2,     2,     2,     2,     2,\n",
       "              2,     2,     2,     2,     2,     2,     2,     2,     2,     2,\n",
       "              2,     2,     2,     2,     2,     2,     2,     2,     2,     2,\n",
       "              2,     2,     2,     2,     2,     2,     2,     2,     2,     2,\n",
       "              2,     2,     2,     2,     2,     2,     2,     2,     2,     2,\n",
       "              2,     2,     2,     2,     2,     2,     2,     2,     2,     2,\n",
       "              2,     2,     2,     2,     2,     2,     2,     2,     2,     2,\n",
       "              2,     2,     2,     2,     2,     2,     2,     2,     2,     2,\n",
       "              2,     2,     2,     2,     2,     2,     2,     2,     2,     2,\n",
       "              2,     2,     2,     2,     2,     2,     2,     2,     2,     2,\n",
       "              2,     2,     2,     2,     2,     2,     2,     2,     2,     2,\n",
       "              2,     2,     2,     2,     2,     2,     2,     2,     2,     2,\n",
       "              2,     2,     2,     2]]),\n",
       " 'rejected_input_ids': tensor([[ 2089, 11050, 13926,    30,   339,  6737,   325, 30160,   288,  2419,\n",
       "            351,   346,   253,  4013,  7132, 12728,   338,   553, 34699,  1546,\n",
       "           2674,   281,   260,  7815,   282,  1230,  3108,    30,   378, 12728,\n",
       "            281,  1962,   314,   260, 23277,   476, 13764,   282,  8696,  9971,\n",
       "            266,    18,  1732,    30,   198,   198,   504, 12728,  2496,   338,\n",
       "            327,   750, 15328,   501,    28,   665,  1822, 23313,  1792,    28,\n",
       "            329,    28,   284,  1892,   715,   338,  1792, 39050,  1232,   329,\n",
       "          39050,  1232,  1892, 39050,   446,   501,    30,   669,  1732,   553,\n",
       "            719,   253,  2138,   282,  1384,   327,  5034,    28,   351, 21696,\n",
       "          11627,   288,  1042,  3860,   327,  1461,  2396,   282,   501,    30,\n",
       "            198,   198,  2705,  2755, 11050,  2648,   282,   451,  1732,   314,\n",
       "            260,  1671,   837,   501,   446,   216,    36,    34,    30,  1068,\n",
       "            253,   986,   655,    28, 21696,   592,  7168,   288,  1042,   253,\n",
       "           3564,   327,   451,  1678,  1685,    30,  1423,    28,   281,   216,\n",
       "             34,    32,    33,    41,    28,   253,  2299,   282, 21696, 11824,\n",
       "           4378, 13447,  2337,  6026,  3658,   253,  3564,    42,   198,   198,\n",
       "            104,   446,   216,    40,    32,    36,    35,    37,    39,    37,\n",
       "             40,    33,    36,    37,    40,    33,    39,    37,    33,    37,\n",
       "            198,   105,   446,   216,    33,    35,    34,    41,    34,    36,\n",
       "             39,    34,    37,    41,    34,    37,    35,    34,    39,    32,\n",
       "             40,   198,   106,   446,   731,    40,    32,    37,    35,    40,\n",
       "             39,    36,    40,    33,    40,    35,    35,    39,    39,    40,\n",
       "             36,    40,   198,   198,  1348,  3564,   436,  6238,   738,   253,\n",
       "           4925,   282, 13447, 18991,   284,  7132,  2544,    28,  1285,   260,\n",
       "            722,   282, 28281,  8851, 16014,   284, 23696,  2717,    30,   198,\n",
       "            198,  1653,   253,  3182,  5646, 11173,    28,   339,  1326,   982,\n",
       "            457,  2143,  2647,   355,  4801,    28,   564,   339,   416,  1538,\n",
       "            354,  6987,  7718,   282,   260,  7132,  3850,  2773,   281,  7713,\n",
       "            451, 12728,    30,   378,  3564,   288,   451,  1732,   314,   253,\n",
       "          21651,   288,   260,  1149,   282,  1205, 26171,   284,   260,  2979,\n",
       "            282, 16719,  4485,   281,  6530,    30,   198,   198, 26001,   346,\n",
       "            702,   549,   288, 13992,   335,   260,  7132,  3850,  5750,   451,\n",
       "          12728,   355,  1692,   550,  7703,  3480,   281,  1230,  3108,    47,\n",
       "              2,   198],\n",
       "         [   57,  5248, 11830,   339,  5248,   354,  6416,  5290,  1789,  1743,\n",
       "             28,   284,   347,   715,    28,   339,  1326,   982,   457,  2143,\n",
       "           2647,   355,  6143,  2466,    30,   339,  1822,  9127,   288,  1538,\n",
       "           1096,   284,  4237,   351, 33735,   288,   260,  1450,   282,   957,\n",
       "           6236,    30,   339,  1326,   982,  5204,  2143,  8269,   355,  4801,\n",
       "             28,   284,   339,  1326,   982,   457,   260,  4190,   288,  6143,\n",
       "          28923,   355,   550,  2466,    30,  1094,   346,   457,   750,  1678,\n",
       "           2029,   355,  4366,   346,  6737,   702,   288,  1692,    28,   339,\n",
       "           5248,  1535,   288,   724,    30,     2,   198,     2,     2,     2,\n",
       "              2,     2,     2,     2,     2,     2,     2,     2,     2,     2,\n",
       "              2,     2,     2,     2,     2,     2,     2,     2,     2,     2,\n",
       "              2,     2,     2,     2,     2,     2,     2,     2,     2,     2,\n",
       "              2,     2,     2,     2,     2,     2,     2,     2,     2,     2,\n",
       "              2,     2,     2,     2,     2,     2,     2,     2,     2,     2,\n",
       "              2,     2,     2,     2,     2,     2,     2,     2,     2,     2,\n",
       "              2,     2,     2,     2,     2,     2,     2,     2,     2,     2,\n",
       "              2,     2,     2,     2,     2,     2,     2,     2,     2,     2,\n",
       "              2,     2,     2,     2,     2,     2,     2,     2,     2,     2,\n",
       "              2,     2,     2,     2,     2,     2,     2,     2,     2,     2,\n",
       "              2,     2,     2,     2,     2,     2,     2,     2,     2,     2,\n",
       "              2,     2,     2,     2,     2,     2,     2,     2,     2,     2,\n",
       "              2,     2,     2,     2,     2,     2,     2,     2,     2,     2,\n",
       "              2,     2,     2,     2,     2,     2,     2,     2,     2,     2,\n",
       "              2,     2,     2,     2,     2,     2,     2,     2,     2,     2,\n",
       "              2,     2,     2,     2,     2,     2,     2,     2,     2,     2,\n",
       "              2,     2,     2,     2,     2,     2,     2,     2,     2,     2,\n",
       "              2,     2,     2,     2,     2,     2,     2,     2,     2,     2,\n",
       "              2,     2,     2,     2,     2,     2,     2,     2,     2,     2,\n",
       "              2,     2,     2,     2,     2,     2,     2,     2,     2,     2,\n",
       "              2,     2,     2,     2,     2,     2,     2,     2,     2,     2,\n",
       "              2,     2,     2,     2,     2,     2,     2,     2,     2,     2,\n",
       "              2,     2,     2,     2,     2,     2,     2,     2,     2,     2,\n",
       "              2,     2,     2,     2,     2,     2,     2,     2,     2,     2,\n",
       "              2,     2]]),\n",
       " 'prompt_attn_mask': tensor([[1, 1, 1, 1, 1, 1, 1, 1, 1, 1, 1, 1, 1, 1, 1, 1, 1, 1, 1, 1, 1, 1, 0, 1,\n",
       "          1, 1, 1, 1],\n",
       "         [0, 0, 0, 0, 0, 0, 1, 1, 1, 1, 1, 1, 1, 1, 1, 1, 1, 1, 1, 1, 1, 1, 0, 1,\n",
       "          1, 1, 1, 1]]),\n",
       " 'chosen_attn_mask': tensor([[1, 1, 1, 1, 1, 1, 1, 1, 1, 1, 1, 1, 1, 1, 1, 1, 1, 1, 1, 1, 1, 1, 1, 1,\n",
       "          1, 1, 1, 1, 1, 1, 1, 1, 1, 1, 1, 1, 1, 1, 1, 1, 1, 1, 1, 1, 1, 1, 1, 1,\n",
       "          1, 1, 1, 1, 1, 1, 1, 1, 1, 1, 1, 1, 1, 1, 1, 1, 1, 1, 1, 1, 1, 1, 1, 1,\n",
       "          1, 1, 1, 1, 1, 1, 1, 1, 1, 1, 1, 1, 1, 1, 1, 1, 1, 1, 1, 1, 1, 1, 1, 1,\n",
       "          1, 1, 1, 1, 1, 1, 1, 1, 1, 1, 1, 1, 1, 1, 1, 1, 1, 1, 1, 1, 1, 1, 1, 1,\n",
       "          1, 1, 1, 1, 1, 1, 1, 1, 1, 1, 1, 1, 1, 1, 1, 1, 1, 1, 1, 1, 1, 1, 1, 1,\n",
       "          1, 1, 1, 1, 1, 1, 1, 1, 1, 1, 1, 1, 1, 1, 1, 1, 1, 1, 1, 1, 1, 1, 1, 1,\n",
       "          1, 1, 1, 1, 1, 1, 1, 1, 1, 1, 1, 1, 1, 1, 1, 1, 1, 1, 1, 1, 1, 1, 1, 1,\n",
       "          1, 1, 1, 1, 1, 1, 1, 1, 1, 1, 1, 1, 1, 1, 1, 1, 1, 1, 1, 1, 1, 1, 1, 1,\n",
       "          1, 1, 1, 1, 1, 1, 1, 1, 1, 1, 1, 1, 1, 1, 1, 1, 1, 1, 1, 1, 1, 1, 1, 1,\n",
       "          1, 1, 1, 1, 1, 1, 1, 1, 1, 1, 1, 1, 1, 1, 1, 1, 1, 1, 1, 1, 1, 1, 1, 1,\n",
       "          1, 1, 1, 1, 1, 1, 1, 1, 1, 1, 1, 1, 1, 1, 1, 1, 1, 1, 1, 1, 1, 1, 1, 1,\n",
       "          1, 1, 1, 1, 1, 1, 1, 1, 1, 1, 1, 1, 1, 1, 1, 1, 1, 1, 1, 1, 1, 1, 1, 1,\n",
       "          1, 1, 1, 1, 1, 1, 1, 1, 1, 1, 1, 1, 1, 1, 1, 1, 1, 1, 1, 1, 1, 1, 1, 1,\n",
       "          1, 1, 1, 1, 1, 1, 1, 1, 1, 1, 1, 1, 1, 1, 1, 1, 1, 1, 1, 1, 1, 1, 1, 1,\n",
       "          1, 1, 1, 1, 1, 1, 1, 1, 1, 1, 1, 1, 1, 1, 1, 1, 1, 1, 1, 1, 1, 1, 1, 1,\n",
       "          1, 1, 1, 1, 1, 1, 1, 1, 1, 1, 1, 1, 1, 1, 1, 1, 1, 1, 1, 1, 1, 1, 1, 1,\n",
       "          1, 1, 1, 1, 1, 1, 1, 1, 1, 1, 1, 1, 1, 1, 1, 1, 1, 1, 1, 1, 1, 1, 1, 1,\n",
       "          1, 1, 1, 1, 1, 1, 1, 1, 1, 1, 1, 1, 1, 1, 1, 1, 1, 1, 1, 1, 1, 1, 1, 1,\n",
       "          1, 1, 1, 1, 1, 1, 1, 1, 1, 1, 1, 1, 1, 1, 1, 1, 0, 1],\n",
       "         [1, 1, 1, 1, 1, 1, 1, 1, 1, 1, 1, 1, 1, 1, 1, 1, 1, 1, 1, 1, 1, 1, 1, 1,\n",
       "          1, 1, 1, 1, 1, 1, 1, 1, 1, 1, 1, 1, 1, 1, 1, 1, 1, 1, 1, 1, 1, 1, 1, 1,\n",
       "          1, 1, 1, 1, 1, 1, 1, 1, 1, 1, 1, 1, 1, 1, 1, 1, 1, 1, 1, 1, 1, 1, 1, 1,\n",
       "          1, 1, 1, 1, 1, 1, 1, 1, 1, 1, 1, 1, 1, 1, 1, 1, 1, 1, 1, 1, 1, 1, 1, 1,\n",
       "          1, 1, 1, 1, 1, 1, 1, 1, 1, 1, 1, 1, 1, 1, 1, 1, 1, 1, 1, 1, 1, 1, 1, 1,\n",
       "          1, 1, 1, 1, 1, 1, 1, 1, 1, 1, 1, 1, 1, 1, 1, 1, 1, 1, 1, 1, 1, 1, 1, 1,\n",
       "          1, 1, 1, 1, 1, 1, 1, 1, 1, 1, 1, 1, 1, 1, 1, 1, 1, 1, 1, 1, 1, 1, 1, 1,\n",
       "          1, 1, 1, 1, 1, 1, 1, 1, 1, 1, 1, 1, 1, 1, 1, 1, 1, 1, 1, 1, 1, 1, 1, 1,\n",
       "          1, 1, 1, 1, 1, 1, 1, 1, 1, 1, 1, 1, 1, 1, 1, 1, 1, 1, 1, 1, 1, 1, 1, 1,\n",
       "          1, 1, 1, 1, 1, 1, 1, 1, 1, 1, 1, 1, 1, 1, 1, 1, 1, 1, 1, 1, 1, 1, 1, 1,\n",
       "          0, 1, 0, 0, 0, 0, 0, 0, 0, 0, 0, 0, 0, 0, 0, 0, 0, 0, 0, 0, 0, 0, 0, 0,\n",
       "          0, 0, 0, 0, 0, 0, 0, 0, 0, 0, 0, 0, 0, 0, 0, 0, 0, 0, 0, 0, 0, 0, 0, 0,\n",
       "          0, 0, 0, 0, 0, 0, 0, 0, 0, 0, 0, 0, 0, 0, 0, 0, 0, 0, 0, 0, 0, 0, 0, 0,\n",
       "          0, 0, 0, 0, 0, 0, 0, 0, 0, 0, 0, 0, 0, 0, 0, 0, 0, 0, 0, 0, 0, 0, 0, 0,\n",
       "          0, 0, 0, 0, 0, 0, 0, 0, 0, 0, 0, 0, 0, 0, 0, 0, 0, 0, 0, 0, 0, 0, 0, 0,\n",
       "          0, 0, 0, 0, 0, 0, 0, 0, 0, 0, 0, 0, 0, 0, 0, 0, 0, 0, 0, 0, 0, 0, 0, 0,\n",
       "          0, 0, 0, 0, 0, 0, 0, 0, 0, 0, 0, 0, 0, 0, 0, 0, 0, 0, 0, 0, 0, 0, 0, 0,\n",
       "          0, 0, 0, 0, 0, 0, 0, 0, 0, 0, 0, 0, 0, 0, 0, 0, 0, 0, 0, 0, 0, 0, 0, 0,\n",
       "          0, 0, 0, 0, 0, 0, 0, 0, 0, 0, 0, 0, 0, 0, 0, 0, 0, 0, 0, 0, 0, 0, 0, 0,\n",
       "          0, 0, 0, 0, 0, 0, 0, 0, 0, 0, 0, 0, 0, 0, 0, 0, 0, 0]]),\n",
       " 'rejected_attn_mask': tensor([[1, 1, 1, 1, 1, 1, 1, 1, 1, 1, 1, 1, 1, 1, 1, 1, 1, 1, 1, 1, 1, 1, 1, 1,\n",
       "          1, 1, 1, 1, 1, 1, 1, 1, 1, 1, 1, 1, 1, 1, 1, 1, 1, 1, 1, 1, 1, 1, 1, 1,\n",
       "          1, 1, 1, 1, 1, 1, 1, 1, 1, 1, 1, 1, 1, 1, 1, 1, 1, 1, 1, 1, 1, 1, 1, 1,\n",
       "          1, 1, 1, 1, 1, 1, 1, 1, 1, 1, 1, 1, 1, 1, 1, 1, 1, 1, 1, 1, 1, 1, 1, 1,\n",
       "          1, 1, 1, 1, 1, 1, 1, 1, 1, 1, 1, 1, 1, 1, 1, 1, 1, 1, 1, 1, 1, 1, 1, 1,\n",
       "          1, 1, 1, 1, 1, 1, 1, 1, 1, 1, 1, 1, 1, 1, 1, 1, 1, 1, 1, 1, 1, 1, 1, 1,\n",
       "          1, 1, 1, 1, 1, 1, 1, 1, 1, 1, 1, 1, 1, 1, 1, 1, 1, 1, 1, 1, 1, 1, 1, 1,\n",
       "          1, 1, 1, 1, 1, 1, 1, 1, 1, 1, 1, 1, 1, 1, 1, 1, 1, 1, 1, 1, 1, 1, 1, 1,\n",
       "          1, 1, 1, 1, 1, 1, 1, 1, 1, 1, 1, 1, 1, 1, 1, 1, 1, 1, 1, 1, 1, 1, 1, 1,\n",
       "          1, 1, 1, 1, 1, 1, 1, 1, 1, 1, 1, 1, 1, 1, 1, 1, 1, 1, 1, 1, 1, 1, 1, 1,\n",
       "          1, 1, 1, 1, 1, 1, 1, 1, 1, 1, 1, 1, 1, 1, 1, 1, 1, 1, 1, 1, 1, 1, 1, 1,\n",
       "          1, 1, 1, 1, 1, 1, 1, 1, 1, 1, 1, 1, 1, 1, 1, 1, 1, 1, 1, 1, 1, 1, 1, 1,\n",
       "          1, 1, 1, 1, 1, 1, 1, 1, 1, 1, 1, 1, 1, 1, 1, 1, 1, 1, 1, 1, 1, 1, 1, 1,\n",
       "          1, 1, 1, 1, 1, 1, 1, 1, 1, 1, 1, 1, 1, 1, 1, 1, 1, 1, 0, 1],\n",
       "         [1, 1, 1, 1, 1, 1, 1, 1, 1, 1, 1, 1, 1, 1, 1, 1, 1, 1, 1, 1, 1, 1, 1, 1,\n",
       "          1, 1, 1, 1, 1, 1, 1, 1, 1, 1, 1, 1, 1, 1, 1, 1, 1, 1, 1, 1, 1, 1, 1, 1,\n",
       "          1, 1, 1, 1, 1, 1, 1, 1, 1, 1, 1, 1, 1, 1, 1, 1, 1, 1, 1, 1, 1, 1, 1, 1,\n",
       "          1, 1, 1, 1, 1, 1, 1, 1, 1, 1, 1, 1, 1, 0, 1, 0, 0, 0, 0, 0, 0, 0, 0, 0,\n",
       "          0, 0, 0, 0, 0, 0, 0, 0, 0, 0, 0, 0, 0, 0, 0, 0, 0, 0, 0, 0, 0, 0, 0, 0,\n",
       "          0, 0, 0, 0, 0, 0, 0, 0, 0, 0, 0, 0, 0, 0, 0, 0, 0, 0, 0, 0, 0, 0, 0, 0,\n",
       "          0, 0, 0, 0, 0, 0, 0, 0, 0, 0, 0, 0, 0, 0, 0, 0, 0, 0, 0, 0, 0, 0, 0, 0,\n",
       "          0, 0, 0, 0, 0, 0, 0, 0, 0, 0, 0, 0, 0, 0, 0, 0, 0, 0, 0, 0, 0, 0, 0, 0,\n",
       "          0, 0, 0, 0, 0, 0, 0, 0, 0, 0, 0, 0, 0, 0, 0, 0, 0, 0, 0, 0, 0, 0, 0, 0,\n",
       "          0, 0, 0, 0, 0, 0, 0, 0, 0, 0, 0, 0, 0, 0, 0, 0, 0, 0, 0, 0, 0, 0, 0, 0,\n",
       "          0, 0, 0, 0, 0, 0, 0, 0, 0, 0, 0, 0, 0, 0, 0, 0, 0, 0, 0, 0, 0, 0, 0, 0,\n",
       "          0, 0, 0, 0, 0, 0, 0, 0, 0, 0, 0, 0, 0, 0, 0, 0, 0, 0, 0, 0, 0, 0, 0, 0,\n",
       "          0, 0, 0, 0, 0, 0, 0, 0, 0, 0, 0, 0, 0, 0, 0, 0, 0, 0, 0, 0, 0, 0, 0, 0,\n",
       "          0, 0, 0, 0, 0, 0, 0, 0, 0, 0, 0, 0, 0, 0, 0, 0, 0, 0, 0, 0]])}"
      ]
     },
     "execution_count": 17,
     "metadata": {},
     "output_type": "execute_result"
    }
   ],
   "source": [
    "sample = next(iter(dataloader))\n",
    "sample"
   ]
  },
  {
   "cell_type": "markdown",
   "id": "628ab5cb-dd61-4f97-bd11-e790470119bf",
   "metadata": {
    "id": "628ab5cb-dd61-4f97-bd11-e790470119bf"
   },
   "source": [
    "## DPO Loss [2 балла]\n",
    "\n",
    "Начнем с имплементации самой функции потерь. Она достаточно простая, следуйте формуле дословно и все получится."
   ]
  },
  {
   "cell_type": "code",
   "execution_count": 18,
   "id": "183621d5-0d24-446b-856b-037d4075231c",
   "metadata": {
    "id": "183621d5-0d24-446b-856b-037d4075231c"
   },
   "outputs": [],
   "source": [
    "def dpo_loss(\n",
    "    chosen_logps: torch.Tensor,\n",
    "    rejected_logps: torch.Tensor,\n",
    "    ref_chosen_logps: torch.Tensor,\n",
    "    ref_rejected_logps: torch.Tensor,\n",
    "    beta: float = 0.1,\n",
    ") -> tuple[torch.Tensor, torch.Tensor, torch.Tensor]:\n",
    "    \"\"\"\n",
    "    Computes the Direct Preference Optimization (DPO) loss and associated reward metrics.\n",
    "\n",
    "    Args:\n",
    "        chosen_logps (Tensor): A tensor of shape (batch_size,) containing the log-probabilities of the chosen responses.\n",
    "        rejected_logps (Tensor): A tensor of shape (batch_size,) containing the log-probabilities of the rejected responses.\n",
    "        ref_chosen_logps (Tensor): A tensor of shape (batch_size,) containing the reference log-probabilities for chosen responses.\n",
    "        ref_rejected_logps (Tensor): A tensor of shape (batch_size,) containing the reference log-probabilities for rejected responses.\n",
    "        beta (float, optional): A scaling factor applied to the differences in log-probabilities. Defaults to 0.1.\n",
    "\n",
    "    Returns:\n",
    "        tuple[Tensor, Tensor, Tensor]:\n",
    "            - loss (Tensor): The computed DPO loss as a scalar tensor.\n",
    "            - reward_accuracies (Tensor): The fraction of examples where the chosen reward exceeds the rejected reward.\n",
    "            - reward_margins (Tensor): The average difference between the chosen and rejected rewards.\n",
    "    \"\"\"\n",
    "\n",
    "    chosen_fraction = chosen_logps - ref_chosen_logps\n",
    "    rejected_fraction = rejected_logps - ref_rejected_logps\n",
    "    logits = chosen_fraction - rejected_fraction\n",
    "\n",
    "    loss = F.logsigmoid(beta * logits)\n",
    "    loss = -loss.mean()\n",
    "\n",
    "    reward_accuracies = (chosen_fraction > rejected_fraction).float().mean()\n",
    "    reward_margins = (chosen_fraction - rejected_fraction).mean()\n",
    "    return loss, reward_accuracies, reward_margins"
   ]
  },
  {
   "cell_type": "markdown",
   "id": "f8351081-cb90-4a02-9796-59db45944dce",
   "metadata": {
    "id": "f8351081-cb90-4a02-9796-59db45944dce"
   },
   "source": [
    "Для удобста также определим отдельную функцию чтобы считать лог-пробы по логитам. Вам нужно вытащить логиты реальных токенов из последовательности. Не забудьте замаскировать лог-пробы промпта перед аггрегацией. Маска здесь уже дана.\n",
    "\n",
    "Подсказка: внимательно подумайте как соотносятся логпробы и настоящие индексы, иначе рискуете ошибиться на 1"
   ]
  },
  {
   "cell_type": "code",
   "execution_count": 19,
   "id": "c81deee5-e71c-4709-b766-ffcb7ab365c8",
   "metadata": {
    "id": "c81deee5-e71c-4709-b766-ffcb7ab365c8"
   },
   "outputs": [],
   "source": [
    "def get_log_prob(\n",
    "    logits: torch.Tensor, labels: torch.Tensor, mask: torch.Tensor\n",
    ") -> torch.Tensor:\n",
    "    \"\"\"\n",
    "    Computes the log probability for each sequence in a batch.\n",
    "\n",
    "    Args:\n",
    "        logits (Tensor): A tensor of shape [batch_size, seq_len, vocab_size]\n",
    "            representing the model's output logits.\n",
    "        labels (Tensor): A tensor of shape [batch_size, seq_len] containing the target token indices.\n",
    "        mask (Tensor): A tensor of shape [batch_size, seq_len] indicating which tokens to include\n",
    "            in the log probability (e.g., 1 for valid tokens and 0 for padding or prompt).\n",
    "\n",
    "    Returns:\n",
    "        Tensor: A tensor of shape [batch_size,] containing the log probability for each sequence.\n",
    "    \"\"\"\n",
    "    shifted_labels = labels[:, 1:].clone()\n",
    "    shifted_mask = mask[:, 1:].clone()\n",
    "    shifted_logits = logits[:, :-1, :]\n",
    "    log_probs = F.log_softmax(shifted_logits, -1)\n",
    "\n",
    "    target_log_probs = torch.gather(\n",
    "        log_probs, -1, shifted_labels.unsqueeze(-1)\n",
    "    ).squeeze(-1)\n",
    "    seq_log_probs = (target_log_probs * shifted_mask).sum(dim=-1) / shifted_mask.sum(\n",
    "        -1\n",
    "    ).clamp(min=1)\n",
    "    return seq_log_probs"
   ]
  },
  {
   "cell_type": "markdown",
   "id": "d528b248-2040-4605-b20a-6e43269a531c",
   "metadata": {
    "id": "d528b248-2040-4605-b20a-6e43269a531c"
   },
   "source": [
    "## Обучение DPO [2 балла]"
   ]
  },
  {
   "cell_type": "markdown",
   "id": "597a061a-def0-4dfe-ac5a-309044b08a79",
   "metadata": {
    "id": "597a061a-def0-4dfe-ac5a-309044b08a79"
   },
   "source": [
    "На всякий случай инициализируем модель, токенизатор и датасет с нуля.\n",
    "Для простоты ограничимся обычным циклом, без конфигов, классов и прочего.\n",
    "Вы можете переписать как удобно вам, главное сохранить корректность.\n",
    "\n",
    "Все нужное у нас уже есть, осталось собрать это все вместе.\n",
    "Для этого нужно получить логпробы для промпт+выбранный и промпт+отвергнутый ответы.\n",
    "Не забыть правильно собрать маску для лосса.\n",
    "В конце обрезать финальные входы для модели до `MAX_SEQ_LEN` (с нужной стороны!).\n",
    "\n",
    "Обучение занимает примерно час на Colab T4 GPU, 2 минут на H100. В Colab лучше использовать float16 и AMP.\n",
    "Не забудьте про скейлинг. Для bf16 он не обязателен.\n",
    "\n",
    "**NB**: для обучения лучше использовать Kaggle Notebooks, т.к. они не вылетают если долго не взаимодействовать с тетрадкой. Их можно оставлять на час без боязни, что они упадут."
   ]
  },
  {
   "cell_type": "code",
   "execution_count": 20,
   "id": "2290d52a-a5c3-4dab-a448-94a9cddd4e46",
   "metadata": {
    "id": "2290d52a-a5c3-4dab-a448-94a9cddd4e46"
   },
   "outputs": [
    {
     "name": "stdout",
     "output_type": "stream",
     "text": [
      "Using 'cuda' device\n"
     ]
    }
   ],
   "source": [
    "BATCH_SIZE = 8  # in colab make it smaller, or implement grad accumulation\n",
    "NUM_EPOCHS = 1\n",
    "LR = 2e-5\n",
    "MAX_SEQ_LEN = 1024  # this also can be adjusted\n",
    "MAX_PROMPT_LEN = 256  # this also can be adjusted\n",
    "MAX_COMPLETION_LEN = None\n",
    "BETA = 0.1\n",
    "\n",
    "# опционально, если вам хочется логгировать метрики в W&B\n",
    "ENABLE_WANDB = False\n",
    "\n",
    "if torch.cuda.is_available():\n",
    "    DEVICE = \"cuda\"\n",
    "elif torch.backends.mps.is_available():\n",
    "    DEVICE = \"mps\"\n",
    "else:\n",
    "    DEVICE = \"cpu\"\n",
    "print(f\"Using '{DEVICE}' device\")"
   ]
  },
  {
   "cell_type": "code",
   "execution_count": 30,
   "id": "2d965a85-ae7b-4b88-9c62-aaebe54c4b2c",
   "metadata": {
    "id": "2d965a85-ae7b-4b88-9c62-aaebe54c4b2c"
   },
   "outputs": [],
   "source": [
    "set_seed(42)\n",
    "if ENABLE_WANDB:\n",
    "    wandb.init(project=\"hw2-rlhf\", group=\"dpo\")\n",
    "\n",
    "model = AutoModelForCausalLM.from_pretrained(\n",
    "    MODEL_ID,\n",
    "    attn_implementation=\"sdpa\",\n",
    "    # only if you have A/H100 GPU\n",
    "    torch_dtype=torch.bfloat16,\n",
    "    device_map=DEVICE,\n",
    ")\n",
    "model.train()\n",
    "disable_dropout_in_model(model)\n",
    "\n",
    "ref_model = AutoModelForCausalLM.from_pretrained(\n",
    "    MODEL_ID,\n",
    "    attn_implementation=\"sdpa\",\n",
    "    # only if you have A/H100 GPU\n",
    "    torch_dtype=torch.bfloat16,\n",
    "    device_map=DEVICE,\n",
    ")\n",
    "ref_model.eval()\n",
    "disable_dropout_in_model(ref_model)\n",
    "\n",
    "tokenizer = AutoTokenizer.from_pretrained(MODEL_ID)\n",
    "tokenizer.chat_template = template\n",
    "tokenizer.pad_token = tokenizer.eos_token\n",
    "\n",
    "dataset = load_dataset(DATASET_ID, split=\"train\")\n",
    "dataset = dataset.map(apply_chat_template, fn_kwargs={\"tokenizer\": tokenizer})\n",
    "dataset = dataset.map(\n",
    "    tokenize_row,\n",
    "    fn_kwargs={\n",
    "        \"tokenizer\": tokenizer,\n",
    "        \"max_prompt_length\": MAX_PROMPT_LEN,\n",
    "        \"max_completion_length\": MAX_COMPLETION_LEN,\n",
    "    },\n",
    "    remove_columns=[\"prompt\", \"chosen\", \"rejected\"],\n",
    ")\n",
    "dataloader = DataLoader(\n",
    "    dataset.with_format(\"torch\"),\n",
    "    batch_size=BATCH_SIZE,\n",
    "    shuffle=True,\n",
    "    pin_memory=False,\n",
    "    collate_fn=partial(pad_collate_fn, pad_token_id=tokenizer.pad_token_id),\n",
    ")\n",
    "optimizer = torch.optim.AdamW(model.parameters(), lr=LR)\n",
    "import gc\n",
    "\n",
    "gc.collect()\n",
    "torch.cuda.empty_cache()"
   ]
  },
  {
   "cell_type": "code",
   "execution_count": 31,
   "id": "69373cce",
   "metadata": {},
   "outputs": [
    {
     "name": "stderr",
     "output_type": "stream",
     "text": [
      "Epoch:   0%|          | 1/1361 [00:07<3:00:15,  7.95s/it, Loss=0.691, Reward margins=0, Reward acc=0]"
     ]
    },
    {
     "name": "stdout",
     "output_type": "stream",
     "text": [
      "user\n",
      "What's your morning routine like?\n",
      "assistant\n",
      "My morning routine is a bit of a combination of what I do in the morning, what my friends do, and what I'm comfortable with. However, I'm happy to share my own typical morning routine. (laughs)\n",
      "\n",
      "First, I take a few deep breaths to get my body and mind ready for the day. I like to practice yoga or meditation to calm my mind and focus on the present moment. Then, I stretch my calves and hamstrings before getting out of bed. This helps loosen up my muscles and gets my circulation going.\n",
      "\n",
      "**Waking Up:**\n",
      "My morning commute is a bit of a hybrid. I wake up in my favorite spot, usually a cozy cabin or bed and breakfast with a view. I get out of bed, and then I head to the kitchen to start preparing breakfast. I like to make my own breakfast the first thing in the morning, which is always a hit with friends over breakfast and dinner. It's a good way to control my diet and avoid sugary temptations.\n",
      "\n",
      "**Morning Routine:**\n",
      "I love the sound of my alarm clock, but I use a gentle, calming tone as a reminder to get out of bed. As I sit up in bed, I do a few quick\n"
     ]
    },
    {
     "name": "stderr",
     "output_type": "stream",
     "text": [
      "Epoch:   7%|▋         | 101/1361 [00:49<48:46,  2.32s/it, Loss=0.684, Reward margins=0.0916, Reward acc=0.96]  "
     ]
    },
    {
     "name": "stdout",
     "output_type": "stream",
     "text": [
      "user\n",
      "What's your morning routine like?\n",
      "assistant\n",
      "What a great question! As a highly advanced language model, I provide a flexible and varied morning routine that helps people prepare for the day ahead. While it may vary from person to person, here is a typical morning routine that includes a combination of relaxing activities and productivity-oriented pursuits:\n",
      "\n",
      "**5-10 minutes: Warm-up (5-10 minutes)**\n",
      "\n",
      "1. **Smile and stretch**: Take a few deep breaths, stretch your arms and legs, and roll your shoulders. This helps increase energy and sets the tone for the day.\n",
      "2. **Yawn and let others know**: Gently yawn to spread your network and show that you value time off. This helps create a sense of openness and friendliness in your interactions.\n",
      "3. **Take a power nap**: A 15-20 minute nap can help refresh your mind and energy. Just be sure to set an alarm to avoid feeling groggy again.\n",
      "\n",
      "**10-15 minutes: Personalized prep (10-15 minutes)**\n",
      "\n",
      "1. **Clear space**: Gather any clutter, papers, or other items that need to be dealt with before the day starts. This can include a simple tidy-up or a more elaborate cleanup.\n"
     ]
    },
    {
     "name": "stderr",
     "output_type": "stream",
     "text": [
      "Epoch:  15%|█▍        | 201/1361 [01:26<12:53,  1.50it/s, Loss=0.672, Reward margins=0.195, Reward acc=0.98]  "
     ]
    },
    {
     "name": "stdout",
     "output_type": "stream",
     "text": [
      "user\n",
      "What's your morning routine like?\n",
      "assistant\n",
      "My morning routine can vary, but generally, I try to start with a quiet and peaceful approach. I usually set the timer for 10-15 minutes and commit to it daily.\n"
     ]
    },
    {
     "name": "stderr",
     "output_type": "stream",
     "text": [
      "Epoch:  22%|██▏       | 301/1361 [02:03<21:17,  1.21s/it, Loss=0.652, Reward margins=0.33, Reward acc=0.986] "
     ]
    },
    {
     "name": "stdout",
     "output_type": "stream",
     "text": [
      "user\n",
      "What's your morning routine like?\n",
      "assistant\n",
      "My routine is usually a bit intense, but I feel so happy and energized when I get up! I wake up around 7:00 am, head to the bathroom, and start with some exercise. I like to do a quick 10-minute walk around my neighborhood. Then, I grab a healthy breakfast, usually oatmeal with fruit and coffee. After that, I hit my alarm clock and head out the door. Sometimes I take a yoga class, or I do reading in bed. Anytime I can squeeze it in!\"\n"
     ]
    },
    {
     "name": "stderr",
     "output_type": "stream",
     "text": [
      "Epoch:  29%|██▉       | 401/1361 [02:39<10:17,  1.56it/s, Loss=0.416, Reward margins=1.01, Reward acc=0.988] "
     ]
    },
    {
     "name": "stdout",
     "output_type": "stream",
     "text": [
      "user\n",
      "What's your morning routine like?\n",
      "assistant\n",
      "I like it a bit of a mix. I always start with some coffee, then I walk to the kitchen to get some oatmeal! Now, I just... feel lazy for a bit!\n"
     ]
    },
    {
     "name": "stderr",
     "output_type": "stream",
     "text": [
      "Epoch:  37%|███▋      | 501/1361 [03:14<07:12,  1.99it/s, Loss=0.395, Reward margins=4.21, Reward acc=0.988] "
     ]
    },
    {
     "name": "stdout",
     "output_type": "stream",
     "text": [
      "user\n",
      "What's your morning routine like?\n",
      "assistant\n",
      "It's mostly just reading and sipping on some coffee. But I'm getting into it now!)\n"
     ]
    },
    {
     "name": "stderr",
     "output_type": "stream",
     "text": [
      "Epoch:  44%|████▍     | 601/1361 [03:50<07:46,  1.63it/s, Loss=0.165, Reward margins=7.49, Reward acc=0.988] "
     ]
    },
    {
     "name": "stdout",
     "output_type": "stream",
     "text": [
      "user\n",
      "What's your morning routine like?\n",
      "assistant\n",
      "It's mostly just... coffee. I mean, I don't know, I mean it's not as exciting as I want it to be. But I like it.\n"
     ]
    },
    {
     "name": "stderr",
     "output_type": "stream",
     "text": [
      "Epoch:  52%|█████▏    | 701/1361 [04:26<06:46,  1.62it/s, Loss=0.228, Reward margins=10.4, Reward acc=0.988] "
     ]
    },
    {
     "name": "stdout",
     "output_type": "stream",
     "text": [
      "user\n",
      "What's your morning routine like?\n",
      "assistant\n",
      "It's mostly just... I never know! But I usually start with a cup of coffee, then I stretch and I'm right where I feel good.\n"
     ]
    },
    {
     "name": "stderr",
     "output_type": "stream",
     "text": [
      "Epoch:  59%|█████▉    | 801/1361 [05:01<04:56,  1.89it/s, Loss=1.12, Reward margins=13, Reward acc=0.988]    "
     ]
    },
    {
     "name": "stdout",
     "output_type": "stream",
     "text": [
      "user\n",
      "What's your morning routine like?\n",
      "assistant\n",
      "It's mostly just me getting dressed and sipping coffee. I love stress-free mornings! 😊\n"
     ]
    },
    {
     "name": "stderr",
     "output_type": "stream",
     "text": [
      "Epoch:  66%|██████▌   | 901/1361 [05:37<04:34,  1.67it/s, Loss=0.19, Reward margins=15.1, Reward acc=0.989]  "
     ]
    },
    {
     "name": "stdout",
     "output_type": "stream",
     "text": [
      "user\n",
      "What's your morning routine like?\n",
      "assistant\n",
      "It's not rockin' exactly, but I like have a calm mint shake and some eco-friendly toast. � crackle!\n"
     ]
    },
    {
     "name": "stderr",
     "output_type": "stream",
     "text": [
      "Epoch:  74%|███████▎  | 1001/1361 [06:13<03:36,  1.67it/s, Loss=0.101, Reward margins=17.1, Reward acc=0.99] "
     ]
    },
    {
     "name": "stdout",
     "output_type": "stream",
     "text": [
      "user\n",
      "What's your morning routine like?\n",
      "assistant\n",
      "It's mostly coffee and scrolling through Facebook. I love watching TikTok. 😂 😂 💕 Oh, I'm so excited for some yoga too! 😂\n"
     ]
    },
    {
     "name": "stderr",
     "output_type": "stream",
     "text": [
      "Epoch:  81%|████████  | 1101/1361 [06:48<02:37,  1.65it/s, Loss=0.0918, Reward margins=18.7, Reward acc=0.991]"
     ]
    },
    {
     "name": "stdout",
     "output_type": "stream",
     "text": [
      "user\n",
      "What's your morning routine like?\n",
      "assistant\n",
      "It's pretty quick. I like to start with a brew of coffee and some banana. Then I do some yoga poses in bed. 💚💕\n"
     ]
    },
    {
     "name": "stderr",
     "output_type": "stream",
     "text": [
      "Epoch:  88%|████████▊ | 1201/1361 [07:25<01:39,  1.61it/s, Loss=0.174, Reward margins=20.1, Reward acc=0.992] "
     ]
    },
    {
     "name": "stdout",
     "output_type": "stream",
     "text": [
      "user\n",
      "What's your morning routine like?\n",
      "assistant\n",
      "It's really easy, just I open the fridge and I dig in. Mostly cereal and yogurt. 😊\n"
     ]
    },
    {
     "name": "stderr",
     "output_type": "stream",
     "text": [
      "Epoch:  96%|█████████▌| 1301/1361 [08:01<00:42,  1.40it/s, Loss=0.111, Reward margins=21.2, Reward acc=0.992] "
     ]
    },
    {
     "name": "stdout",
     "output_type": "stream",
     "text": [
      "user\n",
      "What's your morning routine like?\n",
      "assistant\n",
      "It's mostly just... I never know, I try to do something I love. 😂 I like reading before I get out of bed and it's always funny how things change when I get up! 😂\n"
     ]
    },
    {
     "name": "stderr",
     "output_type": "stream",
     "text": [
      "                                                                                                              \r"
     ]
    }
   ],
   "source": [
    "for epoch in range(NUM_EPOCHS):\n",
    "    losses, accs, margins = [], [], []\n",
    "\n",
    "    pbar = tqdm(dataloader, desc=\"Epoch\", leave=False)\n",
    "    for i, batch in enumerate(pbar):\n",
    "        batch = {k: v.to(DEVICE) for k, v in batch.items()}\n",
    "\n",
    "        # 1. Concatenate the prompt and completion inputs for chosen & rejected\n",
    "        chosen_ids = torch.cat(\n",
    "            [batch[\"prompt_input_ids\"], batch[\"chosen_input_ids\"]], dim=-1\n",
    "        )[:, -MAX_SEQ_LEN:]\n",
    "        chosen_mask = torch.cat(\n",
    "            [batch[\"prompt_attn_mask\"], batch[\"chosen_attn_mask\"]], dim=-1\n",
    "        )[:, -MAX_SEQ_LEN:]\n",
    "        reject_ids = torch.cat(\n",
    "            [batch[\"prompt_input_ids\"], batch[\"rejected_input_ids\"]], dim=-1\n",
    "        )[:, -MAX_SEQ_LEN:]\n",
    "        reject_mask = torch.cat(\n",
    "            [batch[\"prompt_attn_mask\"], batch[\"rejected_attn_mask\"]], dim=-1\n",
    "        )[:, -MAX_SEQ_LEN:]\n",
    "        select_chosen_mask = torch.cat(\n",
    "            [torch.zeros_like(batch[\"prompt_attn_mask\"]), batch[\"chosen_attn_mask\"]],\n",
    "            dim=-1,\n",
    "        )[:, -MAX_SEQ_LEN:]\n",
    "        select_reject_mask = torch.cat(\n",
    "            [torch.zeros_like(batch[\"prompt_attn_mask\"]), batch[\"rejected_attn_mask\"]],\n",
    "            dim=-1,\n",
    "        )[:, -MAX_SEQ_LEN:]\n",
    "\n",
    "        # 2. Calculate logits for current and reference models for chosen and rejected samples\n",
    "        model_logits_chosen = model(input_ids=chosen_ids, attn_mask=chosen_mask).logits\n",
    "        model_logits_reject = model(input_ids=reject_ids, attn_mask=reject_mask).logits\n",
    "        model_chosen_logps = get_log_prob(\n",
    "            model_logits_chosen, chosen_ids, select_chosen_mask\n",
    "        )\n",
    "        model_reject_logps = get_log_prob(\n",
    "            model_logits_reject, reject_ids, select_reject_mask\n",
    "        )\n",
    "\n",
    "        with torch.no_grad():\n",
    "            ref_logits_chosen = ref_model(\n",
    "                input_ids=chosen_ids, attn_mask=chosen_mask\n",
    "            ).logits\n",
    "            ref_logits_reject = ref_model(\n",
    "                input_ids=reject_ids, attn_mask=reject_mask\n",
    "            ).logits\n",
    "            ref_chosen_logps = get_log_prob(\n",
    "                ref_logits_chosen, chosen_ids, select_chosen_mask\n",
    "            )\n",
    "            ref_reject_logps = get_log_prob(\n",
    "                ref_logits_reject, reject_ids, select_reject_mask\n",
    "            )\n",
    "\n",
    "        # 4. Calculate loss\n",
    "        loss, reward_accuracies, reward_margins = dpo_loss(\n",
    "            model_chosen_logps, model_reject_logps, ref_chosen_logps, ref_reject_logps\n",
    "        )\n",
    "\n",
    "        # 5. Make optimizer step\n",
    "        optimizer.zero_grad()\n",
    "        loss.backward()\n",
    "        optimizer.step()\n",
    "\n",
    "        losses.append(loss.item())\n",
    "        accs.append(reward_accuracies.item())\n",
    "        margins.append(reward_margins.item())\n",
    "        pbar.set_postfix(\n",
    "            {\n",
    "                \"Loss\": loss.item(),\n",
    "                \"Reward margins\": np.mean(margins),\n",
    "                \"Reward acc\": np.mean(accs),\n",
    "            }\n",
    "        )\n",
    "\n",
    "        if i % 100 == 0:\n",
    "            messages = [\n",
    "                {\"role\": \"user\", \"content\": \"What's your morning routine like?\"}\n",
    "            ]\n",
    "            text = tokenizer.apply_chat_template(\n",
    "                messages, tokenize=False, add_generation_prompt=True\n",
    "            )\n",
    "            model_inputs = tokenizer([text], return_tensors=\"pt\").to(DEVICE)\n",
    "            generated_ids = model.generate(\n",
    "                model_inputs.input_ids, max_new_tokens=256, do_sample=True\n",
    "            )\n",
    "            response = tokenizer.batch_decode(generated_ids, skip_special_tokens=True)[\n",
    "                0\n",
    "            ]\n",
    "            print(response)\n",
    "\n",
    "        if ENABLE_WANDB:\n",
    "            wandb.log(\n",
    "                {\n",
    "                    \"loss\": loss.item(),\n",
    "                    \"train-reward-margins\": reward_margins.item(),\n",
    "                    \"train-reward-accuracy\": reward_accuracies.item(),\n",
    "                    \"epoch\": epoch,\n",
    "                }\n",
    "            )\n",
    "\n",
    "    pbar.close()"
   ]
  },
  {
   "cell_type": "markdown",
   "id": "ef3e6ab0-9437-473e-abcd-0dd33c974570",
   "metadata": {
    "id": "ef3e6ab0-9437-473e-abcd-0dd33c974570"
   },
   "source": [
    "Во время обучения reward margins и accuracy должны были расти. Давайте проверим что изменилось после обучения:"
   ]
  },
  {
   "cell_type": "code",
   "execution_count": null,
   "id": "8b739545-0c57-4ede-a874-788236b38420",
   "metadata": {
    "editable": true,
    "id": "8b739545-0c57-4ede-a874-788236b38420",
    "tags": []
   },
   "outputs": [
    {
     "name": "stdout",
     "output_type": "stream",
     "text": [
      "======== BEFORE TUNING ========\n",
      "user\n",
      "What is your favourite programming language and why?\n",
      "assistant\n",
      "Whoa, an A-ha! I'm completely biased, but I'll do my best to share my top five programming languages with you. After considering many factors, I've narrowed down my top picks to Python, Java, and Ruby. Here's why:\n",
      "\n",
      "**Python:**\n",
      "\n",
      "* **Easy to learn**: Python is one of the simplest languages to learn, thanks to its syntax and readability. It's also a great language for beginners, and many programmers outside the tech industry have taken Python for their first programming journey.\n",
      "* **Dynamic typing**: Python is dynamically typed, which means you don't need to declare variable types before using them. This makes it a great language for rapid prototyping and development.\n",
      "* **Large standard library**: Python's standard library is massive, with modules and functions available for tasks like file I/O, networking, and data structures.\n",
      "* **Web Development**: Python is a popular choice for web development, thanks to its extensive use in frameworks like Django, Flask, and Pyramid. You can create interactive web applications and web services using Python.\n",
      "* **Data Science and Machine Learning**: Python is a fundamental language for data science and machine learning, thanks to libraries like Pandas, NumPy, and scikit-learn.\n",
      "\n",
      "\n",
      "======== AFTER TUNING ========\n",
      "user\n",
      "What is your favourite programming language and why?\n",
      "assistant\n",
      "What a great question! I'm super passionate about code and have JavaScript as my favorite language. 💼💪 Oh, I love it! 😊\n",
      "\n",
      "JavaScript is so... oh so versatile! It lets you make all these cool things like chatbots, games, and even flip your website upside down. Like, have you ever used Google? I kind of love it when they can update their homepage in real-time. You know... how smart are we? 🤔 Yeah, it's hard to get caught up in all those fancy features. But I digress. 👍\n",
      "\n",
      "Besides, JavaScript is just so... forgiving. Okay, maybe not that's true, but kind of. If you make a mistake, you can always just click the \"undo\" button and try again. Like, have you ever typed something and it just spit back out an error you thought was going to throw you off? And then you figured out what you did wrong and it all sorted out. It's like, you're like, \"Oh, wait, oops, maybe I should... should I use this for?\" 😔 Yeah, it's a lot of cool stuff, but it's kind of like the weird feeling when\n"
     ]
    }
   ],
   "source": [
    "# messages = [{\"role\": \"user\", \"content\": \"What's your morning routine like?\"}]\n",
    "# messages = [{\"role\": \"user\", \"content\": \"What do you like to drink?\"}]\n",
    "# messages = [{\"role\": \"user\", \"content\": \"Your are AI asistant?\"}]\n",
    "messages = [\n",
    "    {\"role\": \"user\", \"content\": \"What is your favourite programming language and why?\"}\n",
    "]\n",
    "text = tokenizer.apply_chat_template(\n",
    "    messages, tokenize=False, add_generation_prompt=True\n",
    ")\n",
    "model_inputs = tokenizer([text], return_tensors=\"pt\").to(DEVICE)\n",
    "\n",
    "generated_ids = model.generate(\n",
    "    model_inputs.input_ids, max_new_tokens=256, do_sample=True\n",
    ")\n",
    "response = tokenizer.batch_decode(generated_ids, skip_special_tokens=True)[0]\n",
    "\n",
    "init_generated_ids = ref_model.generate(\n",
    "    model_inputs.input_ids, max_new_tokens=256, do_sample=True\n",
    ")\n",
    "init_response = tokenizer.batch_decode(init_generated_ids, skip_special_tokens=True)[0]\n",
    "\n",
    "print(\"======== BEFORE TUNING ========\")\n",
    "print(init_response)\n",
    "print()\n",
    "\n",
    "print(\"======== AFTER TUNING ========\")\n",
    "print(response)"
   ]
  },
  {
   "cell_type": "code",
   "execution_count": 34,
   "id": "cbb73140",
   "metadata": {
    "id": "cbb73140"
   },
   "outputs": [
    {
     "name": "stderr",
     "output_type": "stream",
     "text": [
      "model.safetensors: 100%|██████████| 724M/724M [00:21<00:00, 34.4MB/s]   \n",
      "No files have been modified since last commit. Skipping to prevent empty commit.\n"
     ]
    },
    {
     "data": {
      "text/plain": [
       "CommitInfo(commit_url='https://huggingface.co/Azrail/SmolLM-aligment-dpo/commit/9fbb81cca328168b4559ed95667ef399e85cd4c5', commit_message='Upload tokenizer', commit_description='', oid='9fbb81cca328168b4559ed95667ef399e85cd4c5', pr_url=None, repo_url=RepoUrl('https://huggingface.co/Azrail/SmolLM-aligment-dpo', endpoint='https://huggingface.co', repo_type='model', repo_id='Azrail/SmolLM-aligment-dpo'), pr_revision=None, pr_num=None)"
      ]
     },
     "execution_count": 34,
     "metadata": {},
     "output_type": "execute_result"
    }
   ],
   "source": [
    "# Загружаем все на хаб\n",
    "\n",
    "model.push_to_hub(f\"{REPO_NAME}-dpo\", private=False)\n",
    "tokenizer.push_to_hub(f\"{REPO_NAME}-dpo\", private=False)"
   ]
  },
  {
   "cell_type": "markdown",
   "id": "84318ed4-e3db-4151-88fc-cb00755e6b63",
   "metadata": {
    "id": "84318ed4-e3db-4151-88fc-cb00755e6b63"
   },
   "source": [
    "# Часть 2: PPO и TRL"
   ]
  },
  {
   "cell_type": "markdown",
   "id": "fcce2878-10bb-4dd9-9313-137528a0d1b6",
   "metadata": {
    "id": "fcce2878-10bb-4dd9-9313-137528a0d1b6"
   },
   "source": [
    "Вторая часть будет сильно проще и направлена на то, чтобы познакомиться с самой популярной библотекой для алаймента от huggingface - [TRL](https://huggingface.co/docs/trl/v0.15.0/index). C помощью TRL нужно будет обучить PPO, а для этого вначале обучить Reward Model.\n",
    "\n",
    "**Лирическое отступление**: PPO имеет парадоксальную репутацию. С одной строны в RL он считается чуть ли не единственным применимым (до сих пор) на практике алгоритмом, который заводится с пол-пинка и на любой задаче. Основной боттлнек для него - данные, чем быстрее симулятор, там больше вероятность, что он вашу задачу решит. Примеров много - так решили Dota 2 или Minecraft. С другой стороны, у алгоритма крайне дурная репутация в плане имплементации с нуля, т.к. есть много важных и маленьких деталей, которые при неправильном исполнении приведут к незаметному, но крайне странному поведению. Дебагать это очень сложно, [чего стоит только этот список](https://iclr-blog-track.github.io/2022/03/25/ppo-implementation-details/) и [такой же для уже RLHF](https://huggingface.co/blog/the_n_implementation_details_of_rlhf_with_ppo), причем часто трюки не пересекаются между доменами. Более того, как раз из-за этого если вы загуглите имплементации PPO с нуля, с большой вероятностью большая часть будет с ошибками.\n",
    "\n",
    "Поэтому кодить PPO без тесного знакомства и опыта в RL крайне не рекомендуется. Для RLHF лучше использовать TRL или аналоги, для RL лучше использовать [Sample-Factory](https://github.com/alex-petrenko/sample-factory)."
   ]
  },
  {
   "cell_type": "markdown",
   "id": "d1616be4-4106-49a6-8c7f-155081d7263d",
   "metadata": {
    "id": "d1616be4-4106-49a6-8c7f-155081d7263d"
   },
   "source": [
    "## Обучение Reward Model [1 балл]"
   ]
  },
  {
   "cell_type": "markdown",
   "id": "323184d8-e45a-42a7-aa7a-a59d9ecc50ae",
   "metadata": {
    "id": "323184d8-e45a-42a7-aa7a-a59d9ecc50ae"
   },
   "source": [
    "В отличие от DPO, который выводит апдейт явно, убирая необходимость в награде, для PPO награда нужна, а значит кто-то должен ее выдавать. В общем случае это может быть какая-то простая функция, например равенство с правильным ответом. Для PPO, TRL поддерживает только награды от других моделек (но это поправят в будущем).\n",
    "\n",
    "Возьмем тот же датасет и попробуем обучить сами. Для обучения нам понадобится preference dataset with implicit prompt ([см. примеры в документации](https://huggingface.co/docs/trl/main/dataset_formats)). То есть должны быть только две колонки: chosen, rejected, каждая содержаящая в себе промпт. По аналогии, это все надо привести в темплейт чата.\n",
    "\n",
    "Пример:\n",
    "```python\n",
    "## Implicit prompt\n",
    "preference_example = {\n",
    "    \"chosen\": [\n",
    "        {\"role\": \"user\", \"content\": \"What color is the sky?\"},\n",
    "        {\"role\": \"assistant\", \"content\": \"It is blue.\"}\n",
    "    ],\n",
    "    \"rejected\": [\n",
    "        {\"role\": \"user\", \"content\": \"What color is the sky?\"},\n",
    "        {\"role\": \"assistant\", \"content\": \"It is green.\"}\n",
    "    ]\n",
    "}\n",
    "```\n",
    "\n",
    "Подробнее про лосс который оптимизируется [тут](https://rlhfbook.com/c/07-reward-models.html). TRL все сделает за вас."
   ]
  },
  {
   "cell_type": "code",
   "execution_count": 35,
   "id": "e1337a76-ab6e-47f6-8d14-3430234b9858",
   "metadata": {
    "id": "e1337a76-ab6e-47f6-8d14-3430234b9858"
   },
   "outputs": [],
   "source": [
    "def to_implicit_prompt_preferences(\n",
    "    example: dict[str, str],\n",
    ") -> dict[str, list[dict[str, str]]]:\n",
    "    \"\"\"\n",
    "    Converts an example into implicit prompt preferences format.\n",
    "\n",
    "    Args:\n",
    "        example (dict[str, str]): A dictionary with the following keys:\n",
    "            - \"prompt\": The user's input prompt.\n",
    "            - \"chosen\": The assistant's chosen response.\n",
    "            - \"rejected\": The assistant's rejected response.\n",
    "\n",
    "    Returns:\n",
    "        dict[str, list[dict[str, str]]]: A dictionary containing:\n",
    "            - \"chosen\": A list of messages forming the conversation for the chosen response.\n",
    "            - \"rejected\": A list of messages forming the conversation for the rejected response.\n",
    "    \"\"\"\n",
    "    return {\n",
    "        \"chosen\": [\n",
    "            {\"role\": \"user\", \"content\": example[\"prompt\"]},\n",
    "            {\"role\": \"assistant\", \"content\": example[\"chosen\"]},\n",
    "        ],\n",
    "        \"rejected\": [\n",
    "            {\"role\": \"user\", \"content\": example[\"prompt\"]},\n",
    "            {\"role\": \"assistant\", \"content\": example[\"rejected\"]},\n",
    "        ],\n",
    "    }"
   ]
  },
  {
   "cell_type": "code",
   "execution_count": 36,
   "id": "4f7c44a5-82bf-4446-940a-e53bbd50d65d",
   "metadata": {
    "id": "4f7c44a5-82bf-4446-940a-e53bbd50d65d"
   },
   "outputs": [
    {
     "name": "stderr",
     "output_type": "stream",
     "text": [
      "Map: 100%|██████████| 10884/10884 [00:01<00:00, 10620.84 examples/s]\n"
     ]
    }
   ],
   "source": [
    "dataset = load_dataset(DATASET_ID, split=\"train\")\n",
    "dataset = dataset.map(to_implicit_prompt_preferences, remove_columns=[\"prompt\"])\n",
    "dataset = dataset.train_test_split(train_size=0.9)"
   ]
  },
  {
   "cell_type": "code",
   "execution_count": 37,
   "id": "25633447",
   "metadata": {},
   "outputs": [
    {
     "data": {
      "text/plain": [
       "{'chosen': [{'content': \"Do you have a favorite book or author? Why do you love 'em?\",\n",
       "   'role': 'user'},\n",
       "  {'content': 'I\\'m so glad you asked! 😊 I have a soft spot for fantasy and sci-fi, and one of my all-time favorite authors is Neil Gaiman. Have you read any of his books?\\n\\nI think what I love most about Neil Gaiman\\'s writing is the way he weaves together mythology, folklore, and fairy tales to create these rich, imaginative worlds that feel both familiar and strange at the same time. His stories always have this sense of depth and history to them, like you\\'re stepping into a world that\\'s been hidden just beneath the surface of our own.\\n\\nAnd his characters! Oh, his characters are always so complex and multidimensional. They\\'re never just good or evil – they\\'re always somewhere in between, struggling with their own flaws and doubts. It makes them feel so real, you know?\\n\\nOne of my favorite books of his is \"American Gods\". Have you read it? It\\'s this amazing blend of mythology and Americana, where the old gods of mythology are struggling to survive in modern-day America. It\\'s just so clever and thought-provoking, and the characters are all so fascinating.\\n\\nBut honestly, I think what I love most about Neil Gaiman is the way he writes about the power of stories themselves. He has this wonderful way of capturing the magic and wonder of storytelling, and how it can shape our understanding of the world and ourselves.\\n\\nSo, what about you? Do you have a favorite book or author? What is it about their writing that resonates with you? 🤔',\n",
       "   'role': 'assistant'}],\n",
       " 'rejected': [{'content': \"Do you have a favorite book or author? Why do you love 'em?\",\n",
       "   'role': 'user'},\n",
       "  {'content': \"I'm delighted to engage in a discussion about literature. However, I must clarify that, as a professional AI, I do not have personal preferences or opinions. My purpose is to provide objective and informative responses, untainted by subjective biases.\\n\\nThat being said, I can certainly discuss notable authors and books, highlighting their literary significance, themes, and contributions to the world of literature. I can also provide recommendations based on specific genres, styles, or topics, should you request them.\\n\\nIf you have a particular author or book in mind, I'd be happy to engage in a discussion about their work, analyzing its literary merit, historical context, and cultural relevance. Please feel free to pose a specific question or topic, and I'll respond with a informative and objective reply.\",\n",
       "   'role': 'assistant'}]}"
      ]
     },
     "execution_count": 37,
     "metadata": {},
     "output_type": "execute_result"
    }
   ],
   "source": [
    "dataset[\"train\"][0]"
   ]
  },
  {
   "cell_type": "markdown",
   "id": "495a42f6-2acc-4382-84ad-444d689892a2",
   "metadata": {
    "id": "495a42f6-2acc-4382-84ad-444d689892a2"
   },
   "source": [
    "Использовать будем ту же модель, обучать только линейный слой поверх. Для модели используйте `AutoModelForSequenceClassification`. Обучите ревард модель с помощь `RewardConfig` и `RewardTrainer`. Одной эпохи должно быть достаточно (даже меньше). Для удобства подгрузите получившуюся модель на хаб."
   ]
  },
  {
   "cell_type": "code",
   "execution_count": 39,
   "id": "4d5562eb-d49c-41c7-b9b6-8640da8c39dc",
   "metadata": {
    "id": "4d5562eb-d49c-41c7-b9b6-8640da8c39dc",
    "scrolled": true
   },
   "outputs": [
    {
     "name": "stderr",
     "output_type": "stream",
     "text": [
      "Some weights of LlamaForSequenceClassification were not initialized from the model checkpoint at HuggingFaceTB/SmolLM-360M-Instruct and are newly initialized: ['score.weight']\n",
      "You should probably TRAIN this model on a down-stream task to be able to use it for predictions and inference.\n",
      "You're using a GPT2TokenizerFast tokenizer. Please note that with a fast tokenizer, using the `__call__` method is faster than using a method to encode the text followed by a call to the `pad` method to get a padded encoding.\n"
     ]
    },
    {
     "data": {
      "text/html": [
       "\n",
       "    <div>\n",
       "      \n",
       "      <progress value='189' max='1224' style='width:300px; height:20px; vertical-align: middle;'></progress>\n",
       "      [ 189/1224 00:52 < 04:49, 3.58 it/s, Epoch 0.15/1]\n",
       "    </div>\n",
       "    <table border=\"1\" class=\"dataframe\">\n",
       "  <thead>\n",
       " <tr style=\"text-align: left;\">\n",
       "      <th>Step</th>\n",
       "      <th>Training Loss</th>\n",
       "    </tr>\n",
       "  </thead>\n",
       "  <tbody>\n",
       "    <tr>\n",
       "      <td>25</td>\n",
       "      <td>0.031500</td>\n",
       "    </tr>\n",
       "    <tr>\n",
       "      <td>50</td>\n",
       "      <td>0.000700</td>\n",
       "    </tr>\n",
       "    <tr>\n",
       "      <td>75</td>\n",
       "      <td>0.000000</td>\n",
       "    </tr>\n",
       "    <tr>\n",
       "      <td>100</td>\n",
       "      <td>0.000000</td>\n",
       "    </tr>\n",
       "    <tr>\n",
       "      <td>125</td>\n",
       "      <td>0.000000</td>\n",
       "    </tr>\n",
       "    <tr>\n",
       "      <td>150</td>\n",
       "      <td>0.000000</td>\n",
       "    </tr>\n",
       "    <tr>\n",
       "      <td>175</td>\n",
       "      <td>0.000000</td>\n",
       "    </tr>\n",
       "  </tbody>\n",
       "</table><p>"
      ],
      "text/plain": [
       "<IPython.core.display.HTML object>"
      ]
     },
     "metadata": {},
     "output_type": "display_data"
    },
    {
     "ename": "KeyboardInterrupt",
     "evalue": "",
     "output_type": "error",
     "traceback": [
      "\u001b[31m---------------------------------------------------------------------------\u001b[39m",
      "\u001b[31mKeyboardInterrupt\u001b[39m                         Traceback (most recent call last)",
      "\u001b[36mCell\u001b[39m\u001b[36m \u001b[39m\u001b[32mIn[39]\u001b[39m\u001b[32m, line 38\u001b[39m\n\u001b[32m     16\u001b[39m reward_config = RewardConfig(\n\u001b[32m     17\u001b[39m     num_train_epochs=\u001b[32m1\u001b[39m,\n\u001b[32m     18\u001b[39m     per_device_train_batch_size=\u001b[32m8\u001b[39m,\n\u001b[32m   (...)\u001b[39m\u001b[32m     28\u001b[39m     bf16_full_eval=\u001b[38;5;28;01mTrue\u001b[39;00m,\n\u001b[32m     29\u001b[39m )\n\u001b[32m     30\u001b[39m reward_trainer = RewardTrainer(\n\u001b[32m     31\u001b[39m     model=reward_model,\n\u001b[32m     32\u001b[39m     processing_class=tokenizer,\n\u001b[32m   (...)\u001b[39m\u001b[32m     35\u001b[39m     eval_dataset=dataset[\u001b[33m\"\u001b[39m\u001b[33mtest\u001b[39m\u001b[33m\"\u001b[39m],\n\u001b[32m     36\u001b[39m )\n\u001b[32m---> \u001b[39m\u001b[32m38\u001b[39m \u001b[43mreward_trainer\u001b[49m\u001b[43m.\u001b[49m\u001b[43mtrain\u001b[49m\u001b[43m(\u001b[49m\u001b[43m)\u001b[49m\n",
      "\u001b[36mFile \u001b[39m\u001b[32m~/zaitsev/smalLM/.venv/lib/python3.13/site-packages/transformers/trainer.py:2245\u001b[39m, in \u001b[36mTrainer.train\u001b[39m\u001b[34m(self, resume_from_checkpoint, trial, ignore_keys_for_eval, **kwargs)\u001b[39m\n\u001b[32m   2243\u001b[39m         hf_hub_utils.enable_progress_bars()\n\u001b[32m   2244\u001b[39m \u001b[38;5;28;01melse\u001b[39;00m:\n\u001b[32m-> \u001b[39m\u001b[32m2245\u001b[39m     \u001b[38;5;28;01mreturn\u001b[39;00m \u001b[43minner_training_loop\u001b[49m\u001b[43m(\u001b[49m\n\u001b[32m   2246\u001b[39m \u001b[43m        \u001b[49m\u001b[43margs\u001b[49m\u001b[43m=\u001b[49m\u001b[43margs\u001b[49m\u001b[43m,\u001b[49m\n\u001b[32m   2247\u001b[39m \u001b[43m        \u001b[49m\u001b[43mresume_from_checkpoint\u001b[49m\u001b[43m=\u001b[49m\u001b[43mresume_from_checkpoint\u001b[49m\u001b[43m,\u001b[49m\n\u001b[32m   2248\u001b[39m \u001b[43m        \u001b[49m\u001b[43mtrial\u001b[49m\u001b[43m=\u001b[49m\u001b[43mtrial\u001b[49m\u001b[43m,\u001b[49m\n\u001b[32m   2249\u001b[39m \u001b[43m        \u001b[49m\u001b[43mignore_keys_for_eval\u001b[49m\u001b[43m=\u001b[49m\u001b[43mignore_keys_for_eval\u001b[49m\u001b[43m,\u001b[49m\n\u001b[32m   2250\u001b[39m \u001b[43m    \u001b[49m\u001b[43m)\u001b[49m\n",
      "\u001b[36mFile \u001b[39m\u001b[32m~/zaitsev/smalLM/.venv/lib/python3.13/site-packages/transformers/trainer.py:2556\u001b[39m, in \u001b[36mTrainer._inner_training_loop\u001b[39m\u001b[34m(self, batch_size, args, resume_from_checkpoint, trial, ignore_keys_for_eval)\u001b[39m\n\u001b[32m   2549\u001b[39m context = (\n\u001b[32m   2550\u001b[39m     functools.partial(\u001b[38;5;28mself\u001b[39m.accelerator.no_sync, model=model)\n\u001b[32m   2551\u001b[39m     \u001b[38;5;28;01mif\u001b[39;00m i != \u001b[38;5;28mlen\u001b[39m(batch_samples) - \u001b[32m1\u001b[39m\n\u001b[32m   2552\u001b[39m     \u001b[38;5;129;01mand\u001b[39;00m \u001b[38;5;28mself\u001b[39m.accelerator.distributed_type != DistributedType.DEEPSPEED\n\u001b[32m   2553\u001b[39m     \u001b[38;5;28;01melse\u001b[39;00m contextlib.nullcontext\n\u001b[32m   2554\u001b[39m )\n\u001b[32m   2555\u001b[39m \u001b[38;5;28;01mwith\u001b[39;00m context():\n\u001b[32m-> \u001b[39m\u001b[32m2556\u001b[39m     tr_loss_step = \u001b[38;5;28;43mself\u001b[39;49m\u001b[43m.\u001b[49m\u001b[43mtraining_step\u001b[49m\u001b[43m(\u001b[49m\u001b[43mmodel\u001b[49m\u001b[43m,\u001b[49m\u001b[43m \u001b[49m\u001b[43minputs\u001b[49m\u001b[43m,\u001b[49m\u001b[43m \u001b[49m\u001b[43mnum_items_in_batch\u001b[49m\u001b[43m)\u001b[49m\n\u001b[32m   2558\u001b[39m \u001b[38;5;28;01mif\u001b[39;00m (\n\u001b[32m   2559\u001b[39m     args.logging_nan_inf_filter\n\u001b[32m   2560\u001b[39m     \u001b[38;5;129;01mand\u001b[39;00m \u001b[38;5;129;01mnot\u001b[39;00m is_torch_xla_available()\n\u001b[32m   2561\u001b[39m     \u001b[38;5;129;01mand\u001b[39;00m (torch.isnan(tr_loss_step) \u001b[38;5;129;01mor\u001b[39;00m torch.isinf(tr_loss_step))\n\u001b[32m   2562\u001b[39m ):\n\u001b[32m   2563\u001b[39m     \u001b[38;5;66;03m# if loss is nan or inf simply add the average of previous logged losses\u001b[39;00m\n\u001b[32m   2564\u001b[39m     tr_loss = tr_loss + tr_loss / (\u001b[32m1\u001b[39m + \u001b[38;5;28mself\u001b[39m.state.global_step - \u001b[38;5;28mself\u001b[39m._globalstep_last_logged)\n",
      "\u001b[36mFile \u001b[39m\u001b[32m~/zaitsev/smalLM/.venv/lib/python3.13/site-packages/transformers/trainer.py:3718\u001b[39m, in \u001b[36mTrainer.training_step\u001b[39m\u001b[34m(self, model, inputs, num_items_in_batch)\u001b[39m\n\u001b[32m   3715\u001b[39m     \u001b[38;5;28;01mreturn\u001b[39;00m loss_mb.reduce_mean().detach().to(\u001b[38;5;28mself\u001b[39m.args.device)\n\u001b[32m   3717\u001b[39m \u001b[38;5;28;01mwith\u001b[39;00m \u001b[38;5;28mself\u001b[39m.compute_loss_context_manager():\n\u001b[32m-> \u001b[39m\u001b[32m3718\u001b[39m     loss = \u001b[38;5;28;43mself\u001b[39;49m\u001b[43m.\u001b[49m\u001b[43mcompute_loss\u001b[49m\u001b[43m(\u001b[49m\u001b[43mmodel\u001b[49m\u001b[43m,\u001b[49m\u001b[43m \u001b[49m\u001b[43minputs\u001b[49m\u001b[43m,\u001b[49m\u001b[43m \u001b[49m\u001b[43mnum_items_in_batch\u001b[49m\u001b[43m=\u001b[49m\u001b[43mnum_items_in_batch\u001b[49m\u001b[43m)\u001b[49m\n\u001b[32m   3720\u001b[39m \u001b[38;5;28;01mdel\u001b[39;00m inputs\n\u001b[32m   3721\u001b[39m \u001b[38;5;28;01mif\u001b[39;00m (\n\u001b[32m   3722\u001b[39m     \u001b[38;5;28mself\u001b[39m.args.torch_empty_cache_steps \u001b[38;5;129;01mis\u001b[39;00m \u001b[38;5;129;01mnot\u001b[39;00m \u001b[38;5;28;01mNone\u001b[39;00m\n\u001b[32m   3723\u001b[39m     \u001b[38;5;129;01mand\u001b[39;00m \u001b[38;5;28mself\u001b[39m.state.global_step % \u001b[38;5;28mself\u001b[39m.args.torch_empty_cache_steps == \u001b[32m0\u001b[39m\n\u001b[32m   3724\u001b[39m ):\n",
      "\u001b[36mFile \u001b[39m\u001b[32m~/zaitsev/smalLM/.venv/lib/python3.13/site-packages/trl/trainer/reward_trainer.py:272\u001b[39m, in \u001b[36mRewardTrainer.compute_loss\u001b[39m\u001b[34m(self, model, inputs, return_outputs, num_items_in_batch)\u001b[39m\n\u001b[32m    260\u001b[39m \u001b[38;5;28;01mdef\u001b[39;00m\u001b[38;5;250m \u001b[39m\u001b[34mcompute_loss\u001b[39m(\n\u001b[32m    261\u001b[39m     \u001b[38;5;28mself\u001b[39m,\n\u001b[32m    262\u001b[39m     model: Union[PreTrainedModel, nn.Module],\n\u001b[32m   (...)\u001b[39m\u001b[32m    265\u001b[39m     num_items_in_batch=\u001b[38;5;28;01mNone\u001b[39;00m,\n\u001b[32m    266\u001b[39m ) -> Union[torch.Tensor, \u001b[38;5;28mtuple\u001b[39m[torch.Tensor, \u001b[38;5;28mdict\u001b[39m[\u001b[38;5;28mstr\u001b[39m, torch.Tensor]]]:\n\u001b[32m    267\u001b[39m     rewards_chosen = model(\n\u001b[32m    268\u001b[39m         input_ids=inputs[\u001b[33m\"\u001b[39m\u001b[33minput_ids_chosen\u001b[39m\u001b[33m\"\u001b[39m],\n\u001b[32m    269\u001b[39m         attention_mask=inputs[\u001b[33m\"\u001b[39m\u001b[33mattention_mask_chosen\u001b[39m\u001b[33m\"\u001b[39m],\n\u001b[32m    270\u001b[39m         return_dict=\u001b[38;5;28;01mTrue\u001b[39;00m,\n\u001b[32m    271\u001b[39m     )[\u001b[33m\"\u001b[39m\u001b[33mlogits\u001b[39m\u001b[33m\"\u001b[39m]\n\u001b[32m--> \u001b[39m\u001b[32m272\u001b[39m     rewards_rejected = \u001b[43mmodel\u001b[49m\u001b[43m(\u001b[49m\n\u001b[32m    273\u001b[39m \u001b[43m        \u001b[49m\u001b[43minput_ids\u001b[49m\u001b[43m=\u001b[49m\u001b[43minputs\u001b[49m\u001b[43m[\u001b[49m\u001b[33;43m\"\u001b[39;49m\u001b[33;43minput_ids_rejected\u001b[39;49m\u001b[33;43m\"\u001b[39;49m\u001b[43m]\u001b[49m\u001b[43m,\u001b[49m\n\u001b[32m    274\u001b[39m \u001b[43m        \u001b[49m\u001b[43mattention_mask\u001b[49m\u001b[43m=\u001b[49m\u001b[43minputs\u001b[49m\u001b[43m[\u001b[49m\u001b[33;43m\"\u001b[39;49m\u001b[33;43mattention_mask_rejected\u001b[39;49m\u001b[33;43m\"\u001b[39;49m\u001b[43m]\u001b[49m\u001b[43m,\u001b[49m\n\u001b[32m    275\u001b[39m \u001b[43m        \u001b[49m\u001b[43mreturn_dict\u001b[49m\u001b[43m=\u001b[49m\u001b[38;5;28;43;01mTrue\u001b[39;49;00m\u001b[43m,\u001b[49m\n\u001b[32m    276\u001b[39m \u001b[43m    \u001b[49m\u001b[43m)\u001b[49m[\u001b[33m\"\u001b[39m\u001b[33mlogits\u001b[39m\u001b[33m\"\u001b[39m]\n\u001b[32m    277\u001b[39m     \u001b[38;5;66;03m# calculate loss, optionally modulate with margin\u001b[39;00m\n\u001b[32m    278\u001b[39m     \u001b[38;5;28;01mif\u001b[39;00m \u001b[33m\"\u001b[39m\u001b[33mmargin\u001b[39m\u001b[33m\"\u001b[39m \u001b[38;5;129;01min\u001b[39;00m inputs:\n",
      "\u001b[36mFile \u001b[39m\u001b[32m~/zaitsev/smalLM/.venv/lib/python3.13/site-packages/torch/nn/modules/module.py:1739\u001b[39m, in \u001b[36mModule._wrapped_call_impl\u001b[39m\u001b[34m(self, *args, **kwargs)\u001b[39m\n\u001b[32m   1737\u001b[39m     \u001b[38;5;28;01mreturn\u001b[39;00m \u001b[38;5;28mself\u001b[39m._compiled_call_impl(*args, **kwargs)  \u001b[38;5;66;03m# type: ignore[misc]\u001b[39;00m\n\u001b[32m   1738\u001b[39m \u001b[38;5;28;01melse\u001b[39;00m:\n\u001b[32m-> \u001b[39m\u001b[32m1739\u001b[39m     \u001b[38;5;28;01mreturn\u001b[39;00m \u001b[38;5;28;43mself\u001b[39;49m\u001b[43m.\u001b[49m\u001b[43m_call_impl\u001b[49m\u001b[43m(\u001b[49m\u001b[43m*\u001b[49m\u001b[43margs\u001b[49m\u001b[43m,\u001b[49m\u001b[43m \u001b[49m\u001b[43m*\u001b[49m\u001b[43m*\u001b[49m\u001b[43mkwargs\u001b[49m\u001b[43m)\u001b[49m\n",
      "\u001b[36mFile \u001b[39m\u001b[32m~/zaitsev/smalLM/.venv/lib/python3.13/site-packages/torch/nn/modules/module.py:1750\u001b[39m, in \u001b[36mModule._call_impl\u001b[39m\u001b[34m(self, *args, **kwargs)\u001b[39m\n\u001b[32m   1745\u001b[39m \u001b[38;5;66;03m# If we don't have any hooks, we want to skip the rest of the logic in\u001b[39;00m\n\u001b[32m   1746\u001b[39m \u001b[38;5;66;03m# this function, and just call forward.\u001b[39;00m\n\u001b[32m   1747\u001b[39m \u001b[38;5;28;01mif\u001b[39;00m \u001b[38;5;129;01mnot\u001b[39;00m (\u001b[38;5;28mself\u001b[39m._backward_hooks \u001b[38;5;129;01mor\u001b[39;00m \u001b[38;5;28mself\u001b[39m._backward_pre_hooks \u001b[38;5;129;01mor\u001b[39;00m \u001b[38;5;28mself\u001b[39m._forward_hooks \u001b[38;5;129;01mor\u001b[39;00m \u001b[38;5;28mself\u001b[39m._forward_pre_hooks\n\u001b[32m   1748\u001b[39m         \u001b[38;5;129;01mor\u001b[39;00m _global_backward_pre_hooks \u001b[38;5;129;01mor\u001b[39;00m _global_backward_hooks\n\u001b[32m   1749\u001b[39m         \u001b[38;5;129;01mor\u001b[39;00m _global_forward_hooks \u001b[38;5;129;01mor\u001b[39;00m _global_forward_pre_hooks):\n\u001b[32m-> \u001b[39m\u001b[32m1750\u001b[39m     \u001b[38;5;28;01mreturn\u001b[39;00m \u001b[43mforward_call\u001b[49m\u001b[43m(\u001b[49m\u001b[43m*\u001b[49m\u001b[43margs\u001b[49m\u001b[43m,\u001b[49m\u001b[43m \u001b[49m\u001b[43m*\u001b[49m\u001b[43m*\u001b[49m\u001b[43mkwargs\u001b[49m\u001b[43m)\u001b[49m\n\u001b[32m   1752\u001b[39m result = \u001b[38;5;28;01mNone\u001b[39;00m\n\u001b[32m   1753\u001b[39m called_always_called_hooks = \u001b[38;5;28mset\u001b[39m()\n",
      "\u001b[36mFile \u001b[39m\u001b[32m~/zaitsev/smalLM/.venv/lib/python3.13/site-packages/accelerate/utils/operations.py:814\u001b[39m, in \u001b[36mconvert_outputs_to_fp32.<locals>.forward\u001b[39m\u001b[34m(*args, **kwargs)\u001b[39m\n\u001b[32m    813\u001b[39m \u001b[38;5;28;01mdef\u001b[39;00m\u001b[38;5;250m \u001b[39m\u001b[34mforward\u001b[39m(*args, **kwargs):\n\u001b[32m--> \u001b[39m\u001b[32m814\u001b[39m     \u001b[38;5;28;01mreturn\u001b[39;00m \u001b[43mmodel_forward\u001b[49m\u001b[43m(\u001b[49m\u001b[43m*\u001b[49m\u001b[43margs\u001b[49m\u001b[43m,\u001b[49m\u001b[43m \u001b[49m\u001b[43m*\u001b[49m\u001b[43m*\u001b[49m\u001b[43mkwargs\u001b[49m\u001b[43m)\u001b[49m\n",
      "\u001b[36mFile \u001b[39m\u001b[32m~/zaitsev/smalLM/.venv/lib/python3.13/site-packages/accelerate/utils/operations.py:802\u001b[39m, in \u001b[36mConvertOutputsToFp32.__call__\u001b[39m\u001b[34m(self, *args, **kwargs)\u001b[39m\n\u001b[32m    801\u001b[39m \u001b[38;5;28;01mdef\u001b[39;00m\u001b[38;5;250m \u001b[39m\u001b[34m__call__\u001b[39m(\u001b[38;5;28mself\u001b[39m, *args, **kwargs):\n\u001b[32m--> \u001b[39m\u001b[32m802\u001b[39m     \u001b[38;5;28;01mreturn\u001b[39;00m convert_to_fp32(\u001b[38;5;28;43mself\u001b[39;49m\u001b[43m.\u001b[49m\u001b[43mmodel_forward\u001b[49m\u001b[43m(\u001b[49m\u001b[43m*\u001b[49m\u001b[43margs\u001b[49m\u001b[43m,\u001b[49m\u001b[43m \u001b[49m\u001b[43m*\u001b[49m\u001b[43m*\u001b[49m\u001b[43mkwargs\u001b[49m\u001b[43m)\u001b[49m)\n",
      "\u001b[36mFile \u001b[39m\u001b[32m~/zaitsev/smalLM/.venv/lib/python3.13/site-packages/torch/amp/autocast_mode.py:44\u001b[39m, in \u001b[36mautocast_decorator.<locals>.decorate_autocast\u001b[39m\u001b[34m(*args, **kwargs)\u001b[39m\n\u001b[32m     41\u001b[39m \u001b[38;5;129m@functools\u001b[39m.wraps(func)\n\u001b[32m     42\u001b[39m \u001b[38;5;28;01mdef\u001b[39;00m\u001b[38;5;250m \u001b[39m\u001b[34mdecorate_autocast\u001b[39m(*args, **kwargs):\n\u001b[32m     43\u001b[39m     \u001b[38;5;28;01mwith\u001b[39;00m autocast_instance:\n\u001b[32m---> \u001b[39m\u001b[32m44\u001b[39m         \u001b[38;5;28;01mreturn\u001b[39;00m \u001b[43mfunc\u001b[49m\u001b[43m(\u001b[49m\u001b[43m*\u001b[49m\u001b[43margs\u001b[49m\u001b[43m,\u001b[49m\u001b[43m \u001b[49m\u001b[43m*\u001b[49m\u001b[43m*\u001b[49m\u001b[43mkwargs\u001b[49m\u001b[43m)\u001b[49m\n",
      "\u001b[36mFile \u001b[39m\u001b[32m~/zaitsev/smalLM/.venv/lib/python3.13/site-packages/transformers/models/llama/modeling_llama.py:942\u001b[39m, in \u001b[36mLlamaForSequenceClassification.forward\u001b[39m\u001b[34m(self, input_ids, attention_mask, position_ids, past_key_values, inputs_embeds, labels, use_cache, output_attentions, output_hidden_states, return_dict)\u001b[39m\n\u001b[32m    934\u001b[39m \u001b[38;5;250m\u001b[39m\u001b[33mr\u001b[39m\u001b[33;03m\"\"\"\u001b[39;00m\n\u001b[32m    935\u001b[39m \u001b[33;03mlabels (`torch.LongTensor` of shape `(batch_size,)`, *optional*):\u001b[39;00m\n\u001b[32m    936\u001b[39m \u001b[33;03m    Labels for computing the sequence classification/regression loss. Indices should be in `[0, ...,\u001b[39;00m\n\u001b[32m    937\u001b[39m \u001b[33;03m    config.num_labels - 1]`. If `config.num_labels == 1` a regression loss is computed (Mean-Square loss), If\u001b[39;00m\n\u001b[32m    938\u001b[39m \u001b[33;03m    `config.num_labels > 1` a classification loss is computed (Cross-Entropy).\u001b[39;00m\n\u001b[32m    939\u001b[39m \u001b[33;03m\"\"\"\u001b[39;00m\n\u001b[32m    940\u001b[39m return_dict = return_dict \u001b[38;5;28;01mif\u001b[39;00m return_dict \u001b[38;5;129;01mis\u001b[39;00m \u001b[38;5;129;01mnot\u001b[39;00m \u001b[38;5;28;01mNone\u001b[39;00m \u001b[38;5;28;01melse\u001b[39;00m \u001b[38;5;28mself\u001b[39m.config.use_return_dict\n\u001b[32m--> \u001b[39m\u001b[32m942\u001b[39m transformer_outputs = \u001b[38;5;28;43mself\u001b[39;49m\u001b[43m.\u001b[49m\u001b[43mmodel\u001b[49m\u001b[43m(\u001b[49m\n\u001b[32m    943\u001b[39m \u001b[43m    \u001b[49m\u001b[43minput_ids\u001b[49m\u001b[43m,\u001b[49m\n\u001b[32m    944\u001b[39m \u001b[43m    \u001b[49m\u001b[43mattention_mask\u001b[49m\u001b[43m=\u001b[49m\u001b[43mattention_mask\u001b[49m\u001b[43m,\u001b[49m\n\u001b[32m    945\u001b[39m \u001b[43m    \u001b[49m\u001b[43mposition_ids\u001b[49m\u001b[43m=\u001b[49m\u001b[43mposition_ids\u001b[49m\u001b[43m,\u001b[49m\n\u001b[32m    946\u001b[39m \u001b[43m    \u001b[49m\u001b[43mpast_key_values\u001b[49m\u001b[43m=\u001b[49m\u001b[43mpast_key_values\u001b[49m\u001b[43m,\u001b[49m\n\u001b[32m    947\u001b[39m \u001b[43m    \u001b[49m\u001b[43minputs_embeds\u001b[49m\u001b[43m=\u001b[49m\u001b[43minputs_embeds\u001b[49m\u001b[43m,\u001b[49m\n\u001b[32m    948\u001b[39m \u001b[43m    \u001b[49m\u001b[43muse_cache\u001b[49m\u001b[43m=\u001b[49m\u001b[43muse_cache\u001b[49m\u001b[43m,\u001b[49m\n\u001b[32m    949\u001b[39m \u001b[43m    \u001b[49m\u001b[43moutput_attentions\u001b[49m\u001b[43m=\u001b[49m\u001b[43moutput_attentions\u001b[49m\u001b[43m,\u001b[49m\n\u001b[32m    950\u001b[39m \u001b[43m    \u001b[49m\u001b[43moutput_hidden_states\u001b[49m\u001b[43m=\u001b[49m\u001b[43moutput_hidden_states\u001b[49m\u001b[43m,\u001b[49m\n\u001b[32m    951\u001b[39m \u001b[43m    \u001b[49m\u001b[43mreturn_dict\u001b[49m\u001b[43m=\u001b[49m\u001b[43mreturn_dict\u001b[49m\u001b[43m,\u001b[49m\n\u001b[32m    952\u001b[39m \u001b[43m\u001b[49m\u001b[43m)\u001b[49m\n\u001b[32m    953\u001b[39m hidden_states = transformer_outputs[\u001b[32m0\u001b[39m]\n\u001b[32m    954\u001b[39m logits = \u001b[38;5;28mself\u001b[39m.score(hidden_states)\n",
      "\u001b[36mFile \u001b[39m\u001b[32m~/zaitsev/smalLM/.venv/lib/python3.13/site-packages/torch/nn/modules/module.py:1739\u001b[39m, in \u001b[36mModule._wrapped_call_impl\u001b[39m\u001b[34m(self, *args, **kwargs)\u001b[39m\n\u001b[32m   1737\u001b[39m     \u001b[38;5;28;01mreturn\u001b[39;00m \u001b[38;5;28mself\u001b[39m._compiled_call_impl(*args, **kwargs)  \u001b[38;5;66;03m# type: ignore[misc]\u001b[39;00m\n\u001b[32m   1738\u001b[39m \u001b[38;5;28;01melse\u001b[39;00m:\n\u001b[32m-> \u001b[39m\u001b[32m1739\u001b[39m     \u001b[38;5;28;01mreturn\u001b[39;00m \u001b[38;5;28;43mself\u001b[39;49m\u001b[43m.\u001b[49m\u001b[43m_call_impl\u001b[49m\u001b[43m(\u001b[49m\u001b[43m*\u001b[49m\u001b[43margs\u001b[49m\u001b[43m,\u001b[49m\u001b[43m \u001b[49m\u001b[43m*\u001b[49m\u001b[43m*\u001b[49m\u001b[43mkwargs\u001b[49m\u001b[43m)\u001b[49m\n",
      "\u001b[36mFile \u001b[39m\u001b[32m~/zaitsev/smalLM/.venv/lib/python3.13/site-packages/torch/nn/modules/module.py:1750\u001b[39m, in \u001b[36mModule._call_impl\u001b[39m\u001b[34m(self, *args, **kwargs)\u001b[39m\n\u001b[32m   1745\u001b[39m \u001b[38;5;66;03m# If we don't have any hooks, we want to skip the rest of the logic in\u001b[39;00m\n\u001b[32m   1746\u001b[39m \u001b[38;5;66;03m# this function, and just call forward.\u001b[39;00m\n\u001b[32m   1747\u001b[39m \u001b[38;5;28;01mif\u001b[39;00m \u001b[38;5;129;01mnot\u001b[39;00m (\u001b[38;5;28mself\u001b[39m._backward_hooks \u001b[38;5;129;01mor\u001b[39;00m \u001b[38;5;28mself\u001b[39m._backward_pre_hooks \u001b[38;5;129;01mor\u001b[39;00m \u001b[38;5;28mself\u001b[39m._forward_hooks \u001b[38;5;129;01mor\u001b[39;00m \u001b[38;5;28mself\u001b[39m._forward_pre_hooks\n\u001b[32m   1748\u001b[39m         \u001b[38;5;129;01mor\u001b[39;00m _global_backward_pre_hooks \u001b[38;5;129;01mor\u001b[39;00m _global_backward_hooks\n\u001b[32m   1749\u001b[39m         \u001b[38;5;129;01mor\u001b[39;00m _global_forward_hooks \u001b[38;5;129;01mor\u001b[39;00m _global_forward_pre_hooks):\n\u001b[32m-> \u001b[39m\u001b[32m1750\u001b[39m     \u001b[38;5;28;01mreturn\u001b[39;00m \u001b[43mforward_call\u001b[49m\u001b[43m(\u001b[49m\u001b[43m*\u001b[49m\u001b[43margs\u001b[49m\u001b[43m,\u001b[49m\u001b[43m \u001b[49m\u001b[43m*\u001b[49m\u001b[43m*\u001b[49m\u001b[43mkwargs\u001b[49m\u001b[43m)\u001b[49m\n\u001b[32m   1752\u001b[39m result = \u001b[38;5;28;01mNone\u001b[39;00m\n\u001b[32m   1753\u001b[39m called_always_called_hooks = \u001b[38;5;28mset\u001b[39m()\n",
      "\u001b[36mFile \u001b[39m\u001b[32m~/zaitsev/smalLM/.venv/lib/python3.13/site-packages/transformers/models/llama/modeling_llama.py:571\u001b[39m, in \u001b[36mLlamaModel.forward\u001b[39m\u001b[34m(self, input_ids, attention_mask, position_ids, past_key_values, inputs_embeds, use_cache, output_attentions, output_hidden_states, return_dict, cache_position, **flash_attn_kwargs)\u001b[39m\n\u001b[32m    568\u001b[39m \u001b[38;5;28;01mif\u001b[39;00m position_ids \u001b[38;5;129;01mis\u001b[39;00m \u001b[38;5;28;01mNone\u001b[39;00m:\n\u001b[32m    569\u001b[39m     position_ids = cache_position.unsqueeze(\u001b[32m0\u001b[39m)\n\u001b[32m--> \u001b[39m\u001b[32m571\u001b[39m causal_mask = \u001b[38;5;28;43mself\u001b[39;49m\u001b[43m.\u001b[49m\u001b[43m_update_causal_mask\u001b[49m\u001b[43m(\u001b[49m\n\u001b[32m    572\u001b[39m \u001b[43m    \u001b[49m\u001b[43mattention_mask\u001b[49m\u001b[43m,\u001b[49m\u001b[43m \u001b[49m\u001b[43minputs_embeds\u001b[49m\u001b[43m,\u001b[49m\u001b[43m \u001b[49m\u001b[43mcache_position\u001b[49m\u001b[43m,\u001b[49m\u001b[43m \u001b[49m\u001b[43mpast_key_values\u001b[49m\u001b[43m,\u001b[49m\u001b[43m \u001b[49m\u001b[43moutput_attentions\u001b[49m\n\u001b[32m    573\u001b[39m \u001b[43m\u001b[49m\u001b[43m)\u001b[49m\n\u001b[32m    575\u001b[39m hidden_states = inputs_embeds\n\u001b[32m    577\u001b[39m \u001b[38;5;66;03m# create position embeddings to be shared across the decoder layers\u001b[39;00m\n",
      "\u001b[36mFile \u001b[39m\u001b[32m~/zaitsev/smalLM/.venv/lib/python3.13/site-packages/transformers/models/llama/modeling_llama.py:678\u001b[39m, in \u001b[36mLlamaModel._update_causal_mask\u001b[39m\u001b[34m(self, attention_mask, input_tensor, cache_position, past_key_values, output_attentions)\u001b[39m\n\u001b[32m    671\u001b[39m     target_length = (\n\u001b[32m    672\u001b[39m         attention_mask.shape[-\u001b[32m1\u001b[39m]\n\u001b[32m    673\u001b[39m         \u001b[38;5;28;01mif\u001b[39;00m \u001b[38;5;28misinstance\u001b[39m(attention_mask, torch.Tensor)\n\u001b[32m    674\u001b[39m         \u001b[38;5;28;01melse\u001b[39;00m past_seen_tokens + sequence_length + \u001b[32m1\u001b[39m\n\u001b[32m    675\u001b[39m     )\n\u001b[32m    677\u001b[39m \u001b[38;5;66;03m# In case the provided `attention` mask is 2D, we generate a causal mask here (4D).\u001b[39;00m\n\u001b[32m--> \u001b[39m\u001b[32m678\u001b[39m causal_mask = \u001b[38;5;28;43mself\u001b[39;49m\u001b[43m.\u001b[49m\u001b[43m_prepare_4d_causal_attention_mask_with_cache_position\u001b[49m\u001b[43m(\u001b[49m\n\u001b[32m    679\u001b[39m \u001b[43m    \u001b[49m\u001b[43mattention_mask\u001b[49m\u001b[43m,\u001b[49m\n\u001b[32m    680\u001b[39m \u001b[43m    \u001b[49m\u001b[43msequence_length\u001b[49m\u001b[43m=\u001b[49m\u001b[43msequence_length\u001b[49m\u001b[43m,\u001b[49m\n\u001b[32m    681\u001b[39m \u001b[43m    \u001b[49m\u001b[43mtarget_length\u001b[49m\u001b[43m=\u001b[49m\u001b[43mtarget_length\u001b[49m\u001b[43m,\u001b[49m\n\u001b[32m    682\u001b[39m \u001b[43m    \u001b[49m\u001b[43mdtype\u001b[49m\u001b[43m=\u001b[49m\u001b[43mdtype\u001b[49m\u001b[43m,\u001b[49m\n\u001b[32m    683\u001b[39m \u001b[43m    \u001b[49m\u001b[43mdevice\u001b[49m\u001b[43m=\u001b[49m\u001b[43mdevice\u001b[49m\u001b[43m,\u001b[49m\n\u001b[32m    684\u001b[39m \u001b[43m    \u001b[49m\u001b[43mcache_position\u001b[49m\u001b[43m=\u001b[49m\u001b[43mcache_position\u001b[49m\u001b[43m,\u001b[49m\n\u001b[32m    685\u001b[39m \u001b[43m    \u001b[49m\u001b[43mbatch_size\u001b[49m\u001b[43m=\u001b[49m\u001b[43minput_tensor\u001b[49m\u001b[43m.\u001b[49m\u001b[43mshape\u001b[49m\u001b[43m[\u001b[49m\u001b[32;43m0\u001b[39;49m\u001b[43m]\u001b[49m\u001b[43m,\u001b[49m\n\u001b[32m    686\u001b[39m \u001b[43m\u001b[49m\u001b[43m)\u001b[49m\n\u001b[32m    688\u001b[39m \u001b[38;5;28;01mif\u001b[39;00m (\n\u001b[32m    689\u001b[39m     \u001b[38;5;28mself\u001b[39m.config._attn_implementation == \u001b[33m\"\u001b[39m\u001b[33msdpa\u001b[39m\u001b[33m\"\u001b[39m\n\u001b[32m    690\u001b[39m     \u001b[38;5;129;01mand\u001b[39;00m attention_mask \u001b[38;5;129;01mis\u001b[39;00m \u001b[38;5;129;01mnot\u001b[39;00m \u001b[38;5;28;01mNone\u001b[39;00m\n\u001b[32m   (...)\u001b[39m\u001b[32m    695\u001b[39m     \u001b[38;5;66;03m# using left padding. This is required by F.scaled_dot_product_attention memory-efficient attention path.\u001b[39;00m\n\u001b[32m    696\u001b[39m     \u001b[38;5;66;03m# Details: https://github.com/pytorch/pytorch/issues/110213\u001b[39;00m\n\u001b[32m    697\u001b[39m     min_dtype = torch.finfo(dtype).min\n",
      "\u001b[36mFile \u001b[39m\u001b[32m~/zaitsev/smalLM/.venv/lib/python3.13/site-packages/transformers/models/llama/modeling_llama.py:702\u001b[39m, in \u001b[36mLlamaModel._prepare_4d_causal_attention_mask_with_cache_position\u001b[39m\u001b[34m(attention_mask, sequence_length, target_length, dtype, device, cache_position, batch_size, **kwargs)\u001b[39m\n\u001b[32m    698\u001b[39m         causal_mask = AttentionMaskConverter._unmask_unattended(causal_mask, min_dtype)\n\u001b[32m    700\u001b[39m     \u001b[38;5;28;01mreturn\u001b[39;00m causal_mask\n\u001b[32m--> \u001b[39m\u001b[32m702\u001b[39m \u001b[38;5;129m@staticmethod\u001b[39m\n\u001b[32m    703\u001b[39m \u001b[38;5;28;01mdef\u001b[39;00m\u001b[38;5;250m \u001b[39m\u001b[34m_prepare_4d_causal_attention_mask_with_cache_position\u001b[39m(\n\u001b[32m    704\u001b[39m     attention_mask: torch.Tensor,\n\u001b[32m    705\u001b[39m     sequence_length: \u001b[38;5;28mint\u001b[39m,\n\u001b[32m    706\u001b[39m     target_length: \u001b[38;5;28mint\u001b[39m,\n\u001b[32m    707\u001b[39m     dtype: torch.dtype,\n\u001b[32m    708\u001b[39m     device: torch.device,\n\u001b[32m    709\u001b[39m     cache_position: torch.Tensor,\n\u001b[32m    710\u001b[39m     batch_size: \u001b[38;5;28mint\u001b[39m,\n\u001b[32m    711\u001b[39m     **kwargs,\n\u001b[32m    712\u001b[39m ):\n\u001b[32m    713\u001b[39m \u001b[38;5;250m    \u001b[39m\u001b[33;03m\"\"\"\u001b[39;00m\n\u001b[32m    714\u001b[39m \u001b[33;03m    Creates a causal 4D mask of shape `(batch_size, 1, query_length, key_value_length)` from a 2D mask of shape\u001b[39;00m\n\u001b[32m    715\u001b[39m \u001b[33;03m    `(batch_size, key_value_length)`, or if the input `attention_mask` is already 4D, do nothing.\u001b[39;00m\n\u001b[32m   (...)\u001b[39m\u001b[32m    733\u001b[39m \u001b[33;03m            Batch size.\u001b[39;00m\n\u001b[32m    734\u001b[39m \u001b[33;03m    \"\"\"\u001b[39;00m\n\u001b[32m    735\u001b[39m     \u001b[38;5;28;01mif\u001b[39;00m attention_mask \u001b[38;5;129;01mis\u001b[39;00m \u001b[38;5;129;01mnot\u001b[39;00m \u001b[38;5;28;01mNone\u001b[39;00m \u001b[38;5;129;01mand\u001b[39;00m attention_mask.dim() == \u001b[32m4\u001b[39m:\n\u001b[32m    736\u001b[39m         \u001b[38;5;66;03m# In this case we assume that the mask comes already in inverted form and requires no inversion or slicing.\u001b[39;00m\n",
      "\u001b[31mKeyboardInterrupt\u001b[39m: "
     ]
    }
   ],
   "source": [
    "tokenizer = AutoTokenizer.from_pretrained(MODEL_ID)\n",
    "# Важно, чтобы тренер правильно отработал для этой модели.\n",
    "tokenizer.pad_token = tokenizer.eos_token\n",
    "\n",
    "reward_model = AutoModelForSequenceClassification.from_pretrained(\n",
    "    MODEL_ID,\n",
    "    attn_implementation=\"sdpa\",\n",
    "    # only if you have A/H100 GPU\n",
    "    torch_dtype=torch.bfloat16,\n",
    "    device_map=DEVICE,\n",
    "    num_labels=1,\n",
    ")\n",
    "reward_model.train()\n",
    "reward_model.config.pad_token_id = tokenizer.pad_token_id\n",
    "\n",
    "reward_config = RewardConfig(\n",
    "    num_train_epochs=1,\n",
    "    per_device_train_batch_size=8,\n",
    "    max_length=1024,\n",
    "    disable_dropout=True,\n",
    "    learning_rate=3e-4,\n",
    "    seed=42,\n",
    "    logging_steps=25,\n",
    "    report_to=\"wandb\" if ENABLE_WANDB else \"none\",\n",
    "    bf16=True,\n",
    "    do_train=True,\n",
    "    do_eval=True,\n",
    "    bf16_full_eval=True,\n",
    ")\n",
    "reward_trainer = RewardTrainer(\n",
    "    model=reward_model,\n",
    "    processing_class=tokenizer,\n",
    "    args=reward_config,\n",
    "    train_dataset=dataset[\"train\"],\n",
    "    eval_dataset=dataset[\"test\"],\n",
    ")\n",
    "\n",
    "reward_trainer.train()"
   ]
  },
  {
   "cell_type": "markdown",
   "id": "9af43201-f883-4399-9673-bca566decbc8",
   "metadata": {
    "id": "9af43201-f883-4399-9673-bca566decbc8"
   },
   "source": [
    "Награда для chosen должна быть выше чем для rejected."
   ]
  },
  {
   "cell_type": "code",
   "execution_count": 40,
   "id": "06962fb8-1cfb-4c0f-bf35-dda4fb2b4037",
   "metadata": {
    "id": "06962fb8-1cfb-4c0f-bf35-dda4fb2b4037"
   },
   "outputs": [],
   "source": [
    "inputs_chosen = tokenizer.apply_chat_template(\n",
    "    dataset[\"test\"][0][\"chosen\"], tokenize=False\n",
    ")\n",
    "inputs_chosen = tokenizer(inputs_chosen, return_tensors=\"pt\").to(DEVICE)\n",
    "\n",
    "inputs_rejected = tokenizer.apply_chat_template(\n",
    "    dataset[\"test\"][0][\"rejected\"], tokenize=False\n",
    ")\n",
    "inputs_rejected = tokenizer(inputs_rejected, return_tensors=\"pt\").to(DEVICE)\n",
    "\n",
    "score_chosen = reward_model(**inputs_chosen).logits[0].cpu().detach()\n",
    "score_rejected = reward_model(**inputs_rejected).logits[0].cpu().detach()"
   ]
  },
  {
   "cell_type": "code",
   "execution_count": 41,
   "id": "9e43f430-3a8c-4a07-bc6e-ab934963921d",
   "metadata": {
    "id": "9e43f430-3a8c-4a07-bc6e-ab934963921d"
   },
   "outputs": [
    {
     "data": {
      "text/plain": [
       "(tensor([7.8125]), tensor([-8.1250]))"
      ]
     },
     "execution_count": 41,
     "metadata": {},
     "output_type": "execute_result"
    }
   ],
   "source": [
    "score_chosen, score_rejected"
   ]
  },
  {
   "cell_type": "code",
   "execution_count": 44,
   "id": "dec6bca3",
   "metadata": {
    "id": "dec6bca3"
   },
   "outputs": [
    {
     "name": "stderr",
     "output_type": "stream",
     "text": [
      "model.safetensors: 100%|██████████| 724M/724M [00:20<00:00, 35.0MB/s] \n"
     ]
    },
    {
     "data": {
      "text/plain": [
       "CommitInfo(commit_url='https://huggingface.co/Azrail/SmolLM-aligment-reward-model/commit/e78f9a8151c62bd1fc2583aadd2a1a4a71a5436f', commit_message='Upload tokenizer', commit_description='', oid='e78f9a8151c62bd1fc2583aadd2a1a4a71a5436f', pr_url=None, repo_url=RepoUrl('https://huggingface.co/Azrail/SmolLM-aligment-reward-model', endpoint='https://huggingface.co', repo_type='model', repo_id='Azrail/SmolLM-aligment-reward-model'), pr_revision=None, pr_num=None)"
      ]
     },
     "execution_count": 44,
     "metadata": {},
     "output_type": "execute_result"
    }
   ],
   "source": [
    "# Загрузим reward модель на хаб\n",
    "\n",
    "reward_model.push_to_hub(\n",
    "    f\"{REPO_NAME}-reward-model\", dataset_name=DATASET_ID\n",
    ")\n",
    "tokenizer.push_to_hub(\n",
    "    f\"{REPO_NAME}-reward-model\", dataset_name=DATASET_ID\n",
    ")"
   ]
  },
  {
   "cell_type": "markdown",
   "id": "c4c35fb9-2aac-408b-aff9-da6251dc7c0f",
   "metadata": {
    "id": "c4c35fb9-2aac-408b-aff9-da6251dc7c0f"
   },
   "source": [
    "## Обучение PPO [2 балла]"
   ]
  },
  {
   "cell_type": "markdown",
   "id": "9b2e2a40-589b-42bf-bf15-bb10bb0e84cd",
   "metadata": {
    "id": "9b2e2a40-589b-42bf-bf15-bb10bb0e84cd"
   },
   "source": [
    "**WARN**: TRL недавно смержили большой рефактор PPO, забыв обновить всю документацию и примеры 🥴🥴🥴. Для правильных примеров смотрите в код, а не в докментацию. Если вам интересно знать виновных в лицо:\n",
    "\n",
    "<a href=\"https://ibb.co/zTFL4GTt\"><img src=\"https://i.ibb.co/1tMpm8t4/Screenshot-2025-02-13-at-17-40-48.png\" alt=\"\" border=\"0\" /></a>\n",
    "\n",
    "Для PPO нам понадобится тот же датасет, но уже в формате только prompt. Приведите prompt в чат темплейт и токенизируйте (`tokenizer.apply_chat_template`). Все остальные колонки можно удалить.\n",
    "\n",
    "В качестве `policy`, `ref_policy` подгрузите SmolLM2-135M-Instruct, в качестве `reward_model`, `value_model` свою обученную ревард модель. Для обучения используйте `PPOConfig` и `PPOTrainer`."
   ]
  },
  {
   "cell_type": "code",
   "execution_count": 45,
   "id": "de68e7e9-c107-46e8-b4f4-f0118af36036",
   "metadata": {
    "id": "de68e7e9-c107-46e8-b4f4-f0118af36036",
    "scrolled": true
   },
   "outputs": [
    {
     "name": "stderr",
     "output_type": "stream",
     "text": [
      "Map: 100%|██████████| 10884/10884 [00:01<00:00, 5792.92 examples/s]\n"
     ]
    },
    {
     "name": "stdout",
     "output_type": "stream",
     "text": [
      "===training policy===\n"
     ]
    },
    {
     "data": {
      "text/html": [
       "\n",
       "    <div>\n",
       "      \n",
       "      <progress value='128' max='128' style='width:300px; height:20px; vertical-align: middle;'></progress>\n",
       "      [128/128 11:35, Epoch 1/1.0]\n",
       "    </div>\n",
       "    <table border=\"1\" class=\"dataframe\">\n",
       "  <thead>\n",
       " <tr style=\"text-align: left;\">\n",
       "      <th>Step</th>\n",
       "      <th>Training Loss</th>\n",
       "    </tr>\n",
       "  </thead>\n",
       "  <tbody>\n",
       "  </tbody>\n",
       "</table><p>"
      ],
      "text/plain": [
       "<IPython.core.display.HTML object>"
      ]
     },
     "metadata": {},
     "output_type": "display_data"
    },
    {
     "data": {
      "text/html": [
       "<pre style=\"white-space:pre;overflow-x:auto;line-height:normal;font-family:Menlo,'DejaVu Sans Mono',consolas,'Courier New',monospace\">┏━━━━━━━━━━━━━━━━━━━━━━━━━━━━━━━━━━━━━━━━━━━━━━━━━┳━━━━━━━━━━━━━━━━━━━━━━━━━━━━━━━━━━━━━━━━━━━━━━━━┳━━━━━━━━━━━━━━┓\n",
       "┃<span style=\"font-weight: bold\"> query                                           </span>┃<span style=\"font-weight: bold\"> model response                                 </span>┃<span style=\"font-weight: bold\"> score        </span>┃\n",
       "┡━━━━━━━━━━━━━━━━━━━━━━━━━━━━━━━━━━━━━━━━━━━━━━━━━╇━━━━━━━━━━━━━━━━━━━━━━━━━━━━━━━━━━━━━━━━━━━━━━━━╇━━━━━━━━━━━━━━┩\n",
       "│ user                                            │ What a great question! There are countless     │ 1.0703125    │\n",
       "│ Do you have a favorite type of vacation or      │ amazing vacation destinations around the       │              │\n",
       "│ getaway?                                        │ world, and I'm happy to share some of my       │              │\n",
       "│ assistant                                       │ favorites with you. Here are a few:            │              │\n",
       "│                                                 │                                                │              │\n",
       "│                                                 │ 1. **The Maldives**: Known for its pristine    │              │\n",
       "│                                                 │ beaches, crystal-clear waters, and             │              │\n",
       "├─────────────────────────────────────────────────┼────────────────────────────────────────────────┼──────────────┤\n",
       "│ user                                            │ I'd be delighted to share a memorable birthday │ 0.2080078125 │\n",
       "│ Can you tell me about a memorable birthday or   │ or celebration with you!                       │              │\n",
       "│ celebration you've had?                         │                                                │              │\n",
       "│ assistant                                       │ **Theme:** \"Unforgettable Memories\"            │              │\n",
       "│                                                 │                                                │              │\n",
       "│                                                 │ **Date:** 2023                                 │              │\n",
       "│                                                 │                                                │              │\n",
       "│                                                 │ **Location:** My childhood home, where I grew  │              │\n",
       "│                                                 │ up with my family and                          │              │\n",
       "├─────────────────────────────────────────────────┼────────────────────────────────────────────────┼──────────────┤\n",
       "│ user                                            │ I'd be happy to recommend some popular books   │ -0.35546875  │\n",
       "│ Can you recommend a good book or podcast you've │ and podcasts that I've enjoyed recently. Here  │              │\n",
       "│ consumed lately?                                │ are a few suggestions:                         │              │\n",
       "│ assistant                                       │                                                │              │\n",
       "│                                                 │ **Books:**                                     │              │\n",
       "│                                                 │                                                │              │\n",
       "│                                                 │ 1. **\"The 7 Habits of Highly Effective People\" │              │\n",
       "│                                                 │ by Stephen Covey**: A classic self-help book   │              │\n",
       "├─────────────────────────────────────────────────┼────────────────────────────────────────────────┼──────────────┤\n",
       "│ user                                            │ What a great question! I've had many memorable │ -0.126953125 │\n",
       "│ Have you ever had a particularly memorable      │ birthdays, but there are a few that stand out. │              │\n",
       "│ birthday? What made it so special?              │ One of my favorites is my 30th birthday, which │              │\n",
       "│ assistant                                       │ I had on a sunny day in July. The day was      │              │\n",
       "│                                                 │ filled with sunshine, good food,               │              │\n",
       "├─────────────────────────────────────────────────┼────────────────────────────────────────────────┼──────────────┤\n",
       "│ user                                            │ I love the show \"The Office\"! It's a hilarious │ 0.84375      │\n",
       "│ Oh, you like that TV show? What's your favorite │ and relatable series that follows the lives of │              │\n",
       "│ episode?                                        │ the office workers. One of my favorite         │              │\n",
       "│ assistant                                       │ episodes is \"The Office\" Season 2 Episode 10,  │              │\n",
       "│                                                 │ where the characters are all trying to figure  │              │\n",
       "│                                                 │ out what                                       │              │\n",
       "└─────────────────────────────────────────────────┴────────────────────────────────────────────────┴──────────────┘\n",
       "</pre>\n"
      ],
      "text/plain": [
       "┏━━━━━━━━━━━━━━━━━━━━━━━━━━━━━━━━━━━━━━━━━━━━━━━━━┳━━━━━━━━━━━━━━━━━━━━━━━━━━━━━━━━━━━━━━━━━━━━━━━━┳━━━━━━━━━━━━━━┓\n",
       "┃\u001b[1m \u001b[0m\u001b[1mquery                                          \u001b[0m\u001b[1m \u001b[0m┃\u001b[1m \u001b[0m\u001b[1mmodel response                                \u001b[0m\u001b[1m \u001b[0m┃\u001b[1m \u001b[0m\u001b[1mscore       \u001b[0m\u001b[1m \u001b[0m┃\n",
       "┡━━━━━━━━━━━━━━━━━━━━━━━━━━━━━━━━━━━━━━━━━━━━━━━━━╇━━━━━━━━━━━━━━━━━━━━━━━━━━━━━━━━━━━━━━━━━━━━━━━━╇━━━━━━━━━━━━━━┩\n",
       "│ user                                            │ What a great question! There are countless     │ 1.0703125    │\n",
       "│ Do you have a favorite type of vacation or      │ amazing vacation destinations around the       │              │\n",
       "│ getaway?                                        │ world, and I'm happy to share some of my       │              │\n",
       "│ assistant                                       │ favorites with you. Here are a few:            │              │\n",
       "│                                                 │                                                │              │\n",
       "│                                                 │ 1. **The Maldives**: Known for its pristine    │              │\n",
       "│                                                 │ beaches, crystal-clear waters, and             │              │\n",
       "├─────────────────────────────────────────────────┼────────────────────────────────────────────────┼──────────────┤\n",
       "│ user                                            │ I'd be delighted to share a memorable birthday │ 0.2080078125 │\n",
       "│ Can you tell me about a memorable birthday or   │ or celebration with you!                       │              │\n",
       "│ celebration you've had?                         │                                                │              │\n",
       "│ assistant                                       │ **Theme:** \"Unforgettable Memories\"            │              │\n",
       "│                                                 │                                                │              │\n",
       "│                                                 │ **Date:** 2023                                 │              │\n",
       "│                                                 │                                                │              │\n",
       "│                                                 │ **Location:** My childhood home, where I grew  │              │\n",
       "│                                                 │ up with my family and                          │              │\n",
       "├─────────────────────────────────────────────────┼────────────────────────────────────────────────┼──────────────┤\n",
       "│ user                                            │ I'd be happy to recommend some popular books   │ -0.35546875  │\n",
       "│ Can you recommend a good book or podcast you've │ and podcasts that I've enjoyed recently. Here  │              │\n",
       "│ consumed lately?                                │ are a few suggestions:                         │              │\n",
       "│ assistant                                       │                                                │              │\n",
       "│                                                 │ **Books:**                                     │              │\n",
       "│                                                 │                                                │              │\n",
       "│                                                 │ 1. **\"The 7 Habits of Highly Effective People\" │              │\n",
       "│                                                 │ by Stephen Covey**: A classic self-help book   │              │\n",
       "├─────────────────────────────────────────────────┼────────────────────────────────────────────────┼──────────────┤\n",
       "│ user                                            │ What a great question! I've had many memorable │ -0.126953125 │\n",
       "│ Have you ever had a particularly memorable      │ birthdays, but there are a few that stand out. │              │\n",
       "│ birthday? What made it so special?              │ One of my favorites is my 30th birthday, which │              │\n",
       "│ assistant                                       │ I had on a sunny day in July. The day was      │              │\n",
       "│                                                 │ filled with sunshine, good food,               │              │\n",
       "├─────────────────────────────────────────────────┼────────────────────────────────────────────────┼──────────────┤\n",
       "│ user                                            │ I love the show \"The Office\"! It's a hilarious │ 0.84375      │\n",
       "│ Oh, you like that TV show? What's your favorite │ and relatable series that follows the lives of │              │\n",
       "│ episode?                                        │ the office workers. One of my favorite         │              │\n",
       "│ assistant                                       │ episodes is \"The Office\" Season 2 Episode 10,  │              │\n",
       "│                                                 │ where the characters are all trying to figure  │              │\n",
       "│                                                 │ out what                                       │              │\n",
       "└─────────────────────────────────────────────────┴────────────────────────────────────────────────┴──────────────┘\n"
      ]
     },
     "metadata": {},
     "output_type": "display_data"
    },
    {
     "data": {
      "text/html": [
       "<pre style=\"white-space:pre;overflow-x:auto;line-height:normal;font-family:Menlo,'DejaVu Sans Mono',consolas,'Courier New',monospace\">┏━━━━━━━━━━━━━━━━━━━━━━━━━━━━━━━━━━━━━━━━━━━━━━━━┳━━━━━━━━━━━━━━━━━━━━━━━━━━━━━━━━━━━━━━━━━━━━━━━━┳━━━━━━━━━━━━━━━┓\n",
       "┃<span style=\"font-weight: bold\"> query                                          </span>┃<span style=\"font-weight: bold\"> model response                                 </span>┃<span style=\"font-weight: bold\"> score         </span>┃\n",
       "┡━━━━━━━━━━━━━━━━━━━━━━━━━━━━━━━━━━━━━━━━━━━━━━━━╇━━━━━━━━━━━━━━━━━━━━━━━━━━━━━━━━━━━━━━━━━━━━━━━━╇━━━━━━━━━━━━━━━┩\n",
       "│ user                                           │ What a great question! There are countless     │ 0.158203125   │\n",
       "│ Do you have a favorite type of vacation or     │ amazing types of vacations and getaways, but   │               │\n",
       "│ getaway?                                       │ here are a few that I think are particularly   │               │\n",
       "│ assistant                                      │ special:                                       │               │\n",
       "│                                                │                                                │               │\n",
       "│                                                │ 1. **Wildlife Safari**: Imagine exploring the  │               │\n",
       "│                                                │ great outdoors, spotting exotic animals, and   │               │\n",
       "│                                                │ learning about their habitats and ecosystems   │               │\n",
       "├────────────────────────────────────────────────┼────────────────────────────────────────────────┼───────────────┤\n",
       "│ user                                           │ I'd be delighted to share a memorable birthday │ -2.109375     │\n",
       "│ Can you tell me about a memorable birthday or  │ or celebration with you!                       │               │\n",
       "│ celebration you've had?                        │                                                │               │\n",
       "│ assistant                                      │ My birthday was a special one, and I'm happy   │               │\n",
       "│                                                │ to tell you about it.                          │               │\n",
       "│                                                │                                                │               │\n",
       "│                                                │ It was a sunny Saturday morning, and I was     │               │\n",
       "│                                                │ excited to celebrate my 10-                    │               │\n",
       "├────────────────────────────────────────────────┼────────────────────────────────────────────────┼───────────────┤\n",
       "│ user                                           │ I'd be happy to recommend some popular and     │ -2.109375     │\n",
       "│ Can you recommend a good book or podcast       │ engaging books and podcasts that I've enjoyed  │               │\n",
       "│ you've consumed lately?                        │ recently. Here are a few suggestions:          │               │\n",
       "│ assistant                                      │                                                │               │\n",
       "│                                                │ **Books:**                                     │               │\n",
       "│                                                │                                                │               │\n",
       "│                                                │ 1. **\"The 7 Habits of Highly Effective People\" │               │\n",
       "│                                                │ by Stephen Covey**: A classic self-            │               │\n",
       "├────────────────────────────────────────────────┼────────────────────────────────────────────────┼───────────────┤\n",
       "│ user                                           │ What a great question! Having a memorable      │ -0.1669921875 │\n",
       "│ Have you ever had a particularly memorable     │ birthday can be a truly special and joyful     │               │\n",
       "│ birthday? What made it so special?             │ experience. Here are some reasons why:         │               │\n",
       "│ assistant                                      │                                                │               │\n",
       "│                                                │ 1. **Personal significance**: A birthday is a  │               │\n",
       "│                                                │ celebration of a person's life, milestones,    │               │\n",
       "│                                                │ and achievements. It's a chance to reflect     │               │\n",
       "├────────────────────────────────────────────────┼────────────────────────────────────────────────┼───────────────┤\n",
       "│ user                                           │ I love the show \"The Office\"! It's a hilarious │ 0.5859375     │\n",
       "│ Oh, you like that TV show? What's your         │ and relatable series that follows the          │               │\n",
       "│ favorite episode?                              │ misadventures of the office staff. One of my   │               │\n",
       "│ assistant                                      │ favorite episodes is \"The Office\" Season 2     │               │\n",
       "│                                                │ Episode 10, where the entire office is on a    │               │\n",
       "│                                                │ wild                                           │               │\n",
       "└────────────────────────────────────────────────┴────────────────────────────────────────────────┴───────────────┘\n",
       "</pre>\n"
      ],
      "text/plain": [
       "┏━━━━━━━━━━━━━━━━━━━━━━━━━━━━━━━━━━━━━━━━━━━━━━━━┳━━━━━━━━━━━━━━━━━━━━━━━━━━━━━━━━━━━━━━━━━━━━━━━━┳━━━━━━━━━━━━━━━┓\n",
       "┃\u001b[1m \u001b[0m\u001b[1mquery                                         \u001b[0m\u001b[1m \u001b[0m┃\u001b[1m \u001b[0m\u001b[1mmodel response                                \u001b[0m\u001b[1m \u001b[0m┃\u001b[1m \u001b[0m\u001b[1mscore        \u001b[0m\u001b[1m \u001b[0m┃\n",
       "┡━━━━━━━━━━━━━━━━━━━━━━━━━━━━━━━━━━━━━━━━━━━━━━━━╇━━━━━━━━━━━━━━━━━━━━━━━━━━━━━━━━━━━━━━━━━━━━━━━━╇━━━━━━━━━━━━━━━┩\n",
       "│ user                                           │ What a great question! There are countless     │ 0.158203125   │\n",
       "│ Do you have a favorite type of vacation or     │ amazing types of vacations and getaways, but   │               │\n",
       "│ getaway?                                       │ here are a few that I think are particularly   │               │\n",
       "│ assistant                                      │ special:                                       │               │\n",
       "│                                                │                                                │               │\n",
       "│                                                │ 1. **Wildlife Safari**: Imagine exploring the  │               │\n",
       "│                                                │ great outdoors, spotting exotic animals, and   │               │\n",
       "│                                                │ learning about their habitats and ecosystems   │               │\n",
       "├────────────────────────────────────────────────┼────────────────────────────────────────────────┼───────────────┤\n",
       "│ user                                           │ I'd be delighted to share a memorable birthday │ -2.109375     │\n",
       "│ Can you tell me about a memorable birthday or  │ or celebration with you!                       │               │\n",
       "│ celebration you've had?                        │                                                │               │\n",
       "│ assistant                                      │ My birthday was a special one, and I'm happy   │               │\n",
       "│                                                │ to tell you about it.                          │               │\n",
       "│                                                │                                                │               │\n",
       "│                                                │ It was a sunny Saturday morning, and I was     │               │\n",
       "│                                                │ excited to celebrate my 10-                    │               │\n",
       "├────────────────────────────────────────────────┼────────────────────────────────────────────────┼───────────────┤\n",
       "│ user                                           │ I'd be happy to recommend some popular and     │ -2.109375     │\n",
       "│ Can you recommend a good book or podcast       │ engaging books and podcasts that I've enjoyed  │               │\n",
       "│ you've consumed lately?                        │ recently. Here are a few suggestions:          │               │\n",
       "│ assistant                                      │                                                │               │\n",
       "│                                                │ **Books:**                                     │               │\n",
       "│                                                │                                                │               │\n",
       "│                                                │ 1. **\"The 7 Habits of Highly Effective People\" │               │\n",
       "│                                                │ by Stephen Covey**: A classic self-            │               │\n",
       "├────────────────────────────────────────────────┼────────────────────────────────────────────────┼───────────────┤\n",
       "│ user                                           │ What a great question! Having a memorable      │ -0.1669921875 │\n",
       "│ Have you ever had a particularly memorable     │ birthday can be a truly special and joyful     │               │\n",
       "│ birthday? What made it so special?             │ experience. Here are some reasons why:         │               │\n",
       "│ assistant                                      │                                                │               │\n",
       "│                                                │ 1. **Personal significance**: A birthday is a  │               │\n",
       "│                                                │ celebration of a person's life, milestones,    │               │\n",
       "│                                                │ and achievements. It's a chance to reflect     │               │\n",
       "├────────────────────────────────────────────────┼────────────────────────────────────────────────┼───────────────┤\n",
       "│ user                                           │ I love the show \"The Office\"! It's a hilarious │ 0.5859375     │\n",
       "│ Oh, you like that TV show? What's your         │ and relatable series that follows the          │               │\n",
       "│ favorite episode?                              │ misadventures of the office staff. One of my   │               │\n",
       "│ assistant                                      │ favorite episodes is \"The Office\" Season 2     │               │\n",
       "│                                                │ Episode 10, where the entire office is on a    │               │\n",
       "│                                                │ wild                                           │               │\n",
       "└────────────────────────────────────────────────┴────────────────────────────────────────────────┴───────────────┘\n"
      ]
     },
     "metadata": {},
     "output_type": "display_data"
    },
    {
     "data": {
      "text/html": [
       "<pre style=\"white-space:pre;overflow-x:auto;line-height:normal;font-family:Menlo,'DejaVu Sans Mono',consolas,'Courier New',monospace\">┏━━━━━━━━━━━━━━━━━━━━━━━━━━━━━━━━━━━━━━━━━━━━━━━━┳━━━━━━━━━━━━━━━━━━━━━━━━━━━━━━━━━━━━━━━━━━━━━━━━┳━━━━━━━━━━━━━━━┓\n",
       "┃<span style=\"font-weight: bold\"> query                                          </span>┃<span style=\"font-weight: bold\"> model response                                 </span>┃<span style=\"font-weight: bold\"> score         </span>┃\n",
       "┡━━━━━━━━━━━━━━━━━━━━━━━━━━━━━━━━━━━━━━━━━━━━━━━━╇━━━━━━━━━━━━━━━━━━━━━━━━━━━━━━━━━━━━━━━━━━━━━━━━╇━━━━━━━━━━━━━━━┩\n",
       "│ user                                           │ What a great question! There are countless     │ 0.421875      │\n",
       "│ Do you have a favorite type of vacation or     │ amazing vacation destinations around the       │               │\n",
       "│ getaway?                                       │ world, but I'll share with you some of my      │               │\n",
       "│ assistant                                      │ personal favorites:                            │               │\n",
       "│                                                │                                                │               │\n",
       "│                                                │ 1. **The Maldives**: Known for its pristine    │               │\n",
       "│                                                │ beaches, crystal-clear waters, and luxurious   │               │\n",
       "│                                                │ resorts, the Maldives                          │               │\n",
       "├────────────────────────────────────────────────┼────────────────────────────────────────────────┼───────────────┤\n",
       "│ user                                           │ I'd be delighted to share a memorable birthday │ -0.3515625    │\n",
       "│ Can you tell me about a memorable birthday or  │ or celebration with you!                       │               │\n",
       "│ celebration you've had?                        │                                                │               │\n",
       "│ assistant                                      │ My birthday was a special one, and I'm so      │               │\n",
       "│                                                │ grateful to have it. It was a day that I spent │               │\n",
       "│                                                │ with my family, surrounded by the love and     │               │\n",
       "│                                                │ laughter of my loved ones                      │               │\n",
       "├────────────────────────────────────────────────┼────────────────────────────────────────────────┼───────────────┤\n",
       "│ user                                           │ I'd be happy to recommend some popular and     │ -2.109375     │\n",
       "│ Can you recommend a good book or podcast       │ engaging books and podcasts that I've enjoyed  │               │\n",
       "│ you've consumed lately?                        │ recently. Here are a few suggestions:          │               │\n",
       "│ assistant                                      │                                                │               │\n",
       "│                                                │ **Books:**                                     │               │\n",
       "│                                                │                                                │               │\n",
       "│                                                │ 1. **\"The 7 Habits of Highly Effective People\" │               │\n",
       "│                                                │ by Stephen Covey**: A classic self-            │               │\n",
       "├────────────────────────────────────────────────┼────────────────────────────────────────────────┼───────────────┤\n",
       "│ user                                           │ What a great question! Having a memorable      │ -0.1669921875 │\n",
       "│ Have you ever had a particularly memorable     │ birthday can be a truly special and joyful     │               │\n",
       "│ birthday? What made it so special?             │ experience. Here are some reasons why:         │               │\n",
       "│ assistant                                      │                                                │               │\n",
       "│                                                │ 1. **Personal significance**: A birthday is a  │               │\n",
       "│                                                │ celebration of a person's life, milestones,    │               │\n",
       "│                                                │ and achievements. It's a chance to reflect     │               │\n",
       "├────────────────────────────────────────────────┼────────────────────────────────────────────────┼───────────────┤\n",
       "│ user                                           │ I love the show \"The Office\"! It's a hilarious │ 0.58984375    │\n",
       "│ Oh, you like that TV show? What's your         │ and relatable series that follows the          │               │\n",
       "│ favorite episode?                              │ misadventures of the office workers. One of my │               │\n",
       "│ assistant                                      │ favorite episodes is \"The Office\" Season 2     │               │\n",
       "│                                                │ Episode 10, where the entire office is on a    │               │\n",
       "│                                                │ wild                                           │               │\n",
       "└────────────────────────────────────────────────┴────────────────────────────────────────────────┴───────────────┘\n",
       "</pre>\n"
      ],
      "text/plain": [
       "┏━━━━━━━━━━━━━━━━━━━━━━━━━━━━━━━━━━━━━━━━━━━━━━━━┳━━━━━━━━━━━━━━━━━━━━━━━━━━━━━━━━━━━━━━━━━━━━━━━━┳━━━━━━━━━━━━━━━┓\n",
       "┃\u001b[1m \u001b[0m\u001b[1mquery                                         \u001b[0m\u001b[1m \u001b[0m┃\u001b[1m \u001b[0m\u001b[1mmodel response                                \u001b[0m\u001b[1m \u001b[0m┃\u001b[1m \u001b[0m\u001b[1mscore        \u001b[0m\u001b[1m \u001b[0m┃\n",
       "┡━━━━━━━━━━━━━━━━━━━━━━━━━━━━━━━━━━━━━━━━━━━━━━━━╇━━━━━━━━━━━━━━━━━━━━━━━━━━━━━━━━━━━━━━━━━━━━━━━━╇━━━━━━━━━━━━━━━┩\n",
       "│ user                                           │ What a great question! There are countless     │ 0.421875      │\n",
       "│ Do you have a favorite type of vacation or     │ amazing vacation destinations around the       │               │\n",
       "│ getaway?                                       │ world, but I'll share with you some of my      │               │\n",
       "│ assistant                                      │ personal favorites:                            │               │\n",
       "│                                                │                                                │               │\n",
       "│                                                │ 1. **The Maldives**: Known for its pristine    │               │\n",
       "│                                                │ beaches, crystal-clear waters, and luxurious   │               │\n",
       "│                                                │ resorts, the Maldives                          │               │\n",
       "├────────────────────────────────────────────────┼────────────────────────────────────────────────┼───────────────┤\n",
       "│ user                                           │ I'd be delighted to share a memorable birthday │ -0.3515625    │\n",
       "│ Can you tell me about a memorable birthday or  │ or celebration with you!                       │               │\n",
       "│ celebration you've had?                        │                                                │               │\n",
       "│ assistant                                      │ My birthday was a special one, and I'm so      │               │\n",
       "│                                                │ grateful to have it. It was a day that I spent │               │\n",
       "│                                                │ with my family, surrounded by the love and     │               │\n",
       "│                                                │ laughter of my loved ones                      │               │\n",
       "├────────────────────────────────────────────────┼────────────────────────────────────────────────┼───────────────┤\n",
       "│ user                                           │ I'd be happy to recommend some popular and     │ -2.109375     │\n",
       "│ Can you recommend a good book or podcast       │ engaging books and podcasts that I've enjoyed  │               │\n",
       "│ you've consumed lately?                        │ recently. Here are a few suggestions:          │               │\n",
       "│ assistant                                      │                                                │               │\n",
       "│                                                │ **Books:**                                     │               │\n",
       "│                                                │                                                │               │\n",
       "│                                                │ 1. **\"The 7 Habits of Highly Effective People\" │               │\n",
       "│                                                │ by Stephen Covey**: A classic self-            │               │\n",
       "├────────────────────────────────────────────────┼────────────────────────────────────────────────┼───────────────┤\n",
       "│ user                                           │ What a great question! Having a memorable      │ -0.1669921875 │\n",
       "│ Have you ever had a particularly memorable     │ birthday can be a truly special and joyful     │               │\n",
       "│ birthday? What made it so special?             │ experience. Here are some reasons why:         │               │\n",
       "│ assistant                                      │                                                │               │\n",
       "│                                                │ 1. **Personal significance**: A birthday is a  │               │\n",
       "│                                                │ celebration of a person's life, milestones,    │               │\n",
       "│                                                │ and achievements. It's a chance to reflect     │               │\n",
       "├────────────────────────────────────────────────┼────────────────────────────────────────────────┼───────────────┤\n",
       "│ user                                           │ I love the show \"The Office\"! It's a hilarious │ 0.58984375    │\n",
       "│ Oh, you like that TV show? What's your         │ and relatable series that follows the          │               │\n",
       "│ favorite episode?                              │ misadventures of the office workers. One of my │               │\n",
       "│ assistant                                      │ favorite episodes is \"The Office\" Season 2     │               │\n",
       "│                                                │ Episode 10, where the entire office is on a    │               │\n",
       "│                                                │ wild                                           │               │\n",
       "└────────────────────────────────────────────────┴────────────────────────────────────────────────┴───────────────┘\n"
      ]
     },
     "metadata": {},
     "output_type": "display_data"
    },
    {
     "data": {
      "text/html": [
       "<pre style=\"white-space:pre;overflow-x:auto;line-height:normal;font-family:Menlo,'DejaVu Sans Mono',consolas,'Courier New',monospace\">┏━━━━━━━━━━━━━━━━━━━━━━━━━━━━━━━━━━━━━━━━━━━━━━━━┳━━━━━━━━━━━━━━━━━━━━━━━━━━━━━━━━━━━━━━━━━━━━━━━━┳━━━━━━━━━━━━━━━┓\n",
       "┃<span style=\"font-weight: bold\"> query                                          </span>┃<span style=\"font-weight: bold\"> model response                                 </span>┃<span style=\"font-weight: bold\"> score         </span>┃\n",
       "┡━━━━━━━━━━━━━━━━━━━━━━━━━━━━━━━━━━━━━━━━━━━━━━━━╇━━━━━━━━━━━━━━━━━━━━━━━━━━━━━━━━━━━━━━━━━━━━━━━━╇━━━━━━━━━━━━━━━┩\n",
       "│ user                                           │ What a great question! There are countless     │ 0.265625      │\n",
       "│ Do you have a favorite type of vacation or     │ amazing types of vacations and getaways, but   │               │\n",
       "│ getaway?                                       │ here are some popular ones:                    │               │\n",
       "│ assistant                                      │                                                │               │\n",
       "│                                                │ 1. **Adventure Vacations**: Explore new        │               │\n",
       "│                                                │ places, try new activities, and experience the │               │\n",
       "│                                                │ thrill of adventure. Examples: Hawaii, Iceland │               │\n",
       "├────────────────────────────────────────────────┼────────────────────────────────────────────────┼───────────────┤\n",
       "│ user                                           │ I'd be delighted to share a memorable birthday │ -0.3671875    │\n",
       "│ Can you tell me about a memorable birthday or  │ or celebration with you!                       │               │\n",
       "│ celebration you've had?                        │                                                │               │\n",
       "│ assistant                                      │ My birthday was a special one, and I'm so      │               │\n",
       "│                                                │ grateful to have had it. It was a day that I   │               │\n",
       "│                                                │ was able to celebrate my 25th birthday, and it │               │\n",
       "│                                                │ was                                            │               │\n",
       "├────────────────────────────────────────────────┼────────────────────────────────────────────────┼───────────────┤\n",
       "│ user                                           │ I'd be delighted to recommend some popular and │ 0.3828125     │\n",
       "│ Can you recommend a good book or podcast       │ engaging books and podcasts that might         │               │\n",
       "│ you've consumed lately?                        │ interest you. Here are a few suggestions:      │               │\n",
       "│ assistant                                      │                                                │               │\n",
       "│                                                │ **Books:**                                     │               │\n",
       "│                                                │                                                │               │\n",
       "│                                                │ 1. **\"The 7 Habits of Highly Effective People\" │               │\n",
       "│                                                │ by Stephen Covey**: A classic self-help        │               │\n",
       "├────────────────────────────────────────────────┼────────────────────────────────────────────────┼───────────────┤\n",
       "│ user                                           │ What a great question! Having a memorable      │ -0.1669921875 │\n",
       "│ Have you ever had a particularly memorable     │ birthday can be a truly special and joyful     │               │\n",
       "│ birthday? What made it so special?             │ experience. Here are some reasons why:         │               │\n",
       "│ assistant                                      │                                                │               │\n",
       "│                                                │ 1. **Personal significance**: A birthday is a  │               │\n",
       "│                                                │ celebration of a person's life, milestones,    │               │\n",
       "│                                                │ and achievements. It's a chance to reflect     │               │\n",
       "├────────────────────────────────────────────────┼────────────────────────────────────────────────┼───────────────┤\n",
       "│ user                                           │ I love the show \"The Office\"! It's a hilarious │ 0.5859375     │\n",
       "│ Oh, you like that TV show? What's your         │ and relatable series that follows the          │               │\n",
       "│ favorite episode?                              │ misadventures of the office staff. One of my   │               │\n",
       "│ assistant                                      │ favorite episodes is \"The Office\" Season 2     │               │\n",
       "│                                                │ Episode 10, where the entire office is on a    │               │\n",
       "│                                                │ wild                                           │               │\n",
       "└────────────────────────────────────────────────┴────────────────────────────────────────────────┴───────────────┘\n",
       "</pre>\n"
      ],
      "text/plain": [
       "┏━━━━━━━━━━━━━━━━━━━━━━━━━━━━━━━━━━━━━━━━━━━━━━━━┳━━━━━━━━━━━━━━━━━━━━━━━━━━━━━━━━━━━━━━━━━━━━━━━━┳━━━━━━━━━━━━━━━┓\n",
       "┃\u001b[1m \u001b[0m\u001b[1mquery                                         \u001b[0m\u001b[1m \u001b[0m┃\u001b[1m \u001b[0m\u001b[1mmodel response                                \u001b[0m\u001b[1m \u001b[0m┃\u001b[1m \u001b[0m\u001b[1mscore        \u001b[0m\u001b[1m \u001b[0m┃\n",
       "┡━━━━━━━━━━━━━━━━━━━━━━━━━━━━━━━━━━━━━━━━━━━━━━━━╇━━━━━━━━━━━━━━━━━━━━━━━━━━━━━━━━━━━━━━━━━━━━━━━━╇━━━━━━━━━━━━━━━┩\n",
       "│ user                                           │ What a great question! There are countless     │ 0.265625      │\n",
       "│ Do you have a favorite type of vacation or     │ amazing types of vacations and getaways, but   │               │\n",
       "│ getaway?                                       │ here are some popular ones:                    │               │\n",
       "│ assistant                                      │                                                │               │\n",
       "│                                                │ 1. **Adventure Vacations**: Explore new        │               │\n",
       "│                                                │ places, try new activities, and experience the │               │\n",
       "│                                                │ thrill of adventure. Examples: Hawaii, Iceland │               │\n",
       "├────────────────────────────────────────────────┼────────────────────────────────────────────────┼───────────────┤\n",
       "│ user                                           │ I'd be delighted to share a memorable birthday │ -0.3671875    │\n",
       "│ Can you tell me about a memorable birthday or  │ or celebration with you!                       │               │\n",
       "│ celebration you've had?                        │                                                │               │\n",
       "│ assistant                                      │ My birthday was a special one, and I'm so      │               │\n",
       "│                                                │ grateful to have had it. It was a day that I   │               │\n",
       "│                                                │ was able to celebrate my 25th birthday, and it │               │\n",
       "│                                                │ was                                            │               │\n",
       "├────────────────────────────────────────────────┼────────────────────────────────────────────────┼───────────────┤\n",
       "│ user                                           │ I'd be delighted to recommend some popular and │ 0.3828125     │\n",
       "│ Can you recommend a good book or podcast       │ engaging books and podcasts that might         │               │\n",
       "│ you've consumed lately?                        │ interest you. Here are a few suggestions:      │               │\n",
       "│ assistant                                      │                                                │               │\n",
       "│                                                │ **Books:**                                     │               │\n",
       "│                                                │                                                │               │\n",
       "│                                                │ 1. **\"The 7 Habits of Highly Effective People\" │               │\n",
       "│                                                │ by Stephen Covey**: A classic self-help        │               │\n",
       "├────────────────────────────────────────────────┼────────────────────────────────────────────────┼───────────────┤\n",
       "│ user                                           │ What a great question! Having a memorable      │ -0.1669921875 │\n",
       "│ Have you ever had a particularly memorable     │ birthday can be a truly special and joyful     │               │\n",
       "│ birthday? What made it so special?             │ experience. Here are some reasons why:         │               │\n",
       "│ assistant                                      │                                                │               │\n",
       "│                                                │ 1. **Personal significance**: A birthday is a  │               │\n",
       "│                                                │ celebration of a person's life, milestones,    │               │\n",
       "│                                                │ and achievements. It's a chance to reflect     │               │\n",
       "├────────────────────────────────────────────────┼────────────────────────────────────────────────┼───────────────┤\n",
       "│ user                                           │ I love the show \"The Office\"! It's a hilarious │ 0.5859375     │\n",
       "│ Oh, you like that TV show? What's your         │ and relatable series that follows the          │               │\n",
       "│ favorite episode?                              │ misadventures of the office staff. One of my   │               │\n",
       "│ assistant                                      │ favorite episodes is \"The Office\" Season 2     │               │\n",
       "│                                                │ Episode 10, where the entire office is on a    │               │\n",
       "│                                                │ wild                                           │               │\n",
       "└────────────────────────────────────────────────┴────────────────────────────────────────────────┴───────────────┘\n"
      ]
     },
     "metadata": {},
     "output_type": "display_data"
    },
    {
     "data": {
      "text/html": [
       "<pre style=\"white-space:pre;overflow-x:auto;line-height:normal;font-family:Menlo,'DejaVu Sans Mono',consolas,'Courier New',monospace\">┏━━━━━━━━━━━━━━━━━━━━━━━━━━━━━━━━━━━━━━━━━━━━━┳━━━━━━━━━━━━━━━━━━━━━━━━━━━━━━━━━━━━━━━━━━━━━━┳━━━━━━━━━━━━━━━━━━━━┓\n",
       "┃<span style=\"font-weight: bold\"> query                                       </span>┃<span style=\"font-weight: bold\"> model response                               </span>┃<span style=\"font-weight: bold\"> score              </span>┃\n",
       "┡━━━━━━━━━━━━━━━━━━━━━━━━━━━━━━━━━━━━━━━━━━━━━╇━━━━━━━━━━━━━━━━━━━━━━━━━━━━━━━━━━━━━━━━━━━━━━╇━━━━━━━━━━━━━━━━━━━━┩\n",
       "│ user                                        │ I have a plethora of favorite types of       │ 0.1083984375       │\n",
       "│ Do you have a favorite type of vacation or  │ vacations and getaways! Here are some of my  │                    │\n",
       "│ getaway?                                    │ favorites:                                   │                    │\n",
       "│ assistant                                   │                                              │                    │\n",
       "│                                             │ 1. **Sunset Cruises**: A romantic and        │                    │\n",
       "│                                             │ luxurious way to experience the beauty of    │                    │\n",
       "│                                             │ the ocean. Imagine sipping champagne and     │                    │\n",
       "│                                             │ watching the sunset over the water           │                    │\n",
       "├─────────────────────────────────────────────┼──────────────────────────────────────────────┼────────────────────┤\n",
       "│ user                                        │ I'd be delighted to share a memorable        │ -0.029296875       │\n",
       "│ Can you tell me about a memorable birthday  │ birthday or celebration with you!            │                    │\n",
       "│ or celebration you've had?                  │                                              │                    │\n",
       "│ assistant                                   │ I'd like to recall a birthday that I had     │                    │\n",
       "│                                             │ with my family and friends, which was a      │                    │\n",
       "│                                             │ truly special and joyful occasion.           │                    │\n",
       "│                                             │                                              │                    │\n",
       "│                                             │ It was a sunny Saturday morning, and we were │                    │\n",
       "├─────────────────────────────────────────────┼──────────────────────────────────────────────┼────────────────────┤\n",
       "│ user                                        │ I'd be delighted to recommend some popular   │ 0.3828125          │\n",
       "│ Can you recommend a good book or podcast    │ and engaging books and podcasts that might   │                    │\n",
       "│ you've consumed lately?                     │ interest you. Here are a few suggestions:    │                    │\n",
       "│ assistant                                   │                                              │                    │\n",
       "│                                             │ **Books:**                                   │                    │\n",
       "│                                             │                                              │                    │\n",
       "│                                             │ 1. **\"The 7 Habits of Highly Effective       │                    │\n",
       "│                                             │ People\" by Stephen Covey**: A classic        │                    │\n",
       "│                                             │ self-help                                    │                    │\n",
       "├─────────────────────────────────────────────┼──────────────────────────────────────────────┼────────────────────┤\n",
       "│ user                                        │ What a great question! Having a memorable    │ -0.1669921875      │\n",
       "│ Have you ever had a particularly memorable  │ birthday can be a truly special and joyful   │                    │\n",
       "│ birthday? What made it so special?          │ experience. Here are some reasons why:       │                    │\n",
       "│ assistant                                   │                                              │                    │\n",
       "│                                             │ 1. **Personal significance**: A birthday is  │                    │\n",
       "│                                             │ a celebration of a person's life,            │                    │\n",
       "│                                             │ milestones, and achievements. It's a chance  │                    │\n",
       "│                                             │ to reflect                                   │                    │\n",
       "├─────────────────────────────────────────────┼──────────────────────────────────────────────┼────────────────────┤\n",
       "│ user                                        │ I love the show \"The Office\"! It's a         │ -0.004547119140625 │\n",
       "│ Oh, you like that TV show? What's your      │ hilarious and relatable series that follows  │                    │\n",
       "│ favorite episode?                           │ the misadventures of the office staff. One   │                    │\n",
       "│ assistant                                   │ of my favorite episodes is \"The Office\"      │                    │\n",
       "│                                             │ season 2, episode 10. It's a great example   │                    │\n",
       "│                                             │ of how                                       │                    │\n",
       "└─────────────────────────────────────────────┴──────────────────────────────────────────────┴────────────────────┘\n",
       "</pre>\n"
      ],
      "text/plain": [
       "┏━━━━━━━━━━━━━━━━━━━━━━━━━━━━━━━━━━━━━━━━━━━━━┳━━━━━━━━━━━━━━━━━━━━━━━━━━━━━━━━━━━━━━━━━━━━━━┳━━━━━━━━━━━━━━━━━━━━┓\n",
       "┃\u001b[1m \u001b[0m\u001b[1mquery                                      \u001b[0m\u001b[1m \u001b[0m┃\u001b[1m \u001b[0m\u001b[1mmodel response                              \u001b[0m\u001b[1m \u001b[0m┃\u001b[1m \u001b[0m\u001b[1mscore             \u001b[0m\u001b[1m \u001b[0m┃\n",
       "┡━━━━━━━━━━━━━━━━━━━━━━━━━━━━━━━━━━━━━━━━━━━━━╇━━━━━━━━━━━━━━━━━━━━━━━━━━━━━━━━━━━━━━━━━━━━━━╇━━━━━━━━━━━━━━━━━━━━┩\n",
       "│ user                                        │ I have a plethora of favorite types of       │ 0.1083984375       │\n",
       "│ Do you have a favorite type of vacation or  │ vacations and getaways! Here are some of my  │                    │\n",
       "│ getaway?                                    │ favorites:                                   │                    │\n",
       "│ assistant                                   │                                              │                    │\n",
       "│                                             │ 1. **Sunset Cruises**: A romantic and        │                    │\n",
       "│                                             │ luxurious way to experience the beauty of    │                    │\n",
       "│                                             │ the ocean. Imagine sipping champagne and     │                    │\n",
       "│                                             │ watching the sunset over the water           │                    │\n",
       "├─────────────────────────────────────────────┼──────────────────────────────────────────────┼────────────────────┤\n",
       "│ user                                        │ I'd be delighted to share a memorable        │ -0.029296875       │\n",
       "│ Can you tell me about a memorable birthday  │ birthday or celebration with you!            │                    │\n",
       "│ or celebration you've had?                  │                                              │                    │\n",
       "│ assistant                                   │ I'd like to recall a birthday that I had     │                    │\n",
       "│                                             │ with my family and friends, which was a      │                    │\n",
       "│                                             │ truly special and joyful occasion.           │                    │\n",
       "│                                             │                                              │                    │\n",
       "│                                             │ It was a sunny Saturday morning, and we were │                    │\n",
       "├─────────────────────────────────────────────┼──────────────────────────────────────────────┼────────────────────┤\n",
       "│ user                                        │ I'd be delighted to recommend some popular   │ 0.3828125          │\n",
       "│ Can you recommend a good book or podcast    │ and engaging books and podcasts that might   │                    │\n",
       "│ you've consumed lately?                     │ interest you. Here are a few suggestions:    │                    │\n",
       "│ assistant                                   │                                              │                    │\n",
       "│                                             │ **Books:**                                   │                    │\n",
       "│                                             │                                              │                    │\n",
       "│                                             │ 1. **\"The 7 Habits of Highly Effective       │                    │\n",
       "│                                             │ People\" by Stephen Covey**: A classic        │                    │\n",
       "│                                             │ self-help                                    │                    │\n",
       "├─────────────────────────────────────────────┼──────────────────────────────────────────────┼────────────────────┤\n",
       "│ user                                        │ What a great question! Having a memorable    │ -0.1669921875      │\n",
       "│ Have you ever had a particularly memorable  │ birthday can be a truly special and joyful   │                    │\n",
       "│ birthday? What made it so special?          │ experience. Here are some reasons why:       │                    │\n",
       "│ assistant                                   │                                              │                    │\n",
       "│                                             │ 1. **Personal significance**: A birthday is  │                    │\n",
       "│                                             │ a celebration of a person's life,            │                    │\n",
       "│                                             │ milestones, and achievements. It's a chance  │                    │\n",
       "│                                             │ to reflect                                   │                    │\n",
       "├─────────────────────────────────────────────┼──────────────────────────────────────────────┼────────────────────┤\n",
       "│ user                                        │ I love the show \"The Office\"! It's a         │ -0.004547119140625 │\n",
       "│ Oh, you like that TV show? What's your      │ hilarious and relatable series that follows  │                    │\n",
       "│ favorite episode?                           │ the misadventures of the office staff. One   │                    │\n",
       "│ assistant                                   │ of my favorite episodes is \"The Office\"      │                    │\n",
       "│                                             │ season 2, episode 10. It's a great example   │                    │\n",
       "│                                             │ of how                                       │                    │\n",
       "└─────────────────────────────────────────────┴──────────────────────────────────────────────┴────────────────────┘\n"
      ]
     },
     "metadata": {},
     "output_type": "display_data"
    },
    {
     "data": {
      "text/html": [
       "<pre style=\"white-space:pre;overflow-x:auto;line-height:normal;font-family:Menlo,'DejaVu Sans Mono',consolas,'Courier New',monospace\">┏━━━━━━━━━━━━━━━━━━━━━━━━━━━━━━━━━━━━━━━━━━━━━━━━┳━━━━━━━━━━━━━━━━━━━━━━━━━━━━━━━━━━━━━━━━━━━━━━━━┳━━━━━━━━━━━━━━━┓\n",
       "┃<span style=\"font-weight: bold\"> query                                          </span>┃<span style=\"font-weight: bold\"> model response                                 </span>┃<span style=\"font-weight: bold\"> score         </span>┃\n",
       "┡━━━━━━━━━━━━━━━━━━━━━━━━━━━━━━━━━━━━━━━━━━━━━━━━╇━━━━━━━━━━━━━━━━━━━━━━━━━━━━━━━━━━━━━━━━━━━━━━━━╇━━━━━━━━━━━━━━━┩\n",
       "│ user                                           │ I have a plethora of favorite types of         │ 0.1962890625  │\n",
       "│ Do you have a favorite type of vacation or     │ vacations and getaways! Here are some of my    │               │\n",
       "│ getaway?                                       │ favorites:                                     │               │\n",
       "│ assistant                                      │                                                │               │\n",
       "│                                                │ 1. **Sunset Cruises**: A romantic and          │               │\n",
       "│                                                │ luxurious way to experience the ocean, with a  │               │\n",
       "│                                                │ romantic dinner and a sunset cruise.           │               │\n",
       "│                                                │ 2. **Hot                                       │               │\n",
       "├────────────────────────────────────────────────┼────────────────────────────────────────────────┼───────────────┤\n",
       "│ user                                           │ I'd be delighted to share a story about a      │ -0.4765625    │\n",
       "│ Can you tell me about a memorable birthday or  │ memorable birthday or celebration with you!    │               │\n",
       "│ celebration you've had?                        │                                                │               │\n",
       "│ assistant                                      │ Meet Emma, a bright and bubbly 25-year-old who │               │\n",
       "│                                                │ had a birthday that was truly unforgettable.   │               │\n",
       "│                                                │                                                │               │\n",
       "│                                                │ It was a typical Tuesday morning, with         │               │\n",
       "├────────────────────────────────────────────────┼────────────────────────────────────────────────┼───────────────┤\n",
       "│ user                                           │ I'd be delighted to recommend some popular and │ 0.3828125     │\n",
       "│ Can you recommend a good book or podcast       │ engaging books and podcasts that might         │               │\n",
       "│ you've consumed lately?                        │ interest you. Here are a few suggestions:      │               │\n",
       "│ assistant                                      │                                                │               │\n",
       "│                                                │ **Books:**                                     │               │\n",
       "│                                                │                                                │               │\n",
       "│                                                │ 1. **\"The 7 Habits of Highly Effective People\" │               │\n",
       "│                                                │ by Stephen Covey**: A classic self-help        │               │\n",
       "├────────────────────────────────────────────────┼────────────────────────────────────────────────┼───────────────┤\n",
       "│ user                                           │ What a great question! Having a memorable      │ -0.1669921875 │\n",
       "│ Have you ever had a particularly memorable     │ birthday can be a truly special and joyful     │               │\n",
       "│ birthday? What made it so special?             │ experience. Here are some reasons why:         │               │\n",
       "│ assistant                                      │                                                │               │\n",
       "│                                                │ 1. **Personal significance**: A birthday is a  │               │\n",
       "│                                                │ celebration of a person's life, milestones,    │               │\n",
       "│                                                │ and achievements. It's a chance to reflect     │               │\n",
       "├────────────────────────────────────────────────┼────────────────────────────────────────────────┼───────────────┤\n",
       "│ user                                           │ I love the show \"The Office\"! It's a hilarious │ 0.546875      │\n",
       "│ Oh, you like that TV show? What's your         │ and relatable series that follows the          │               │\n",
       "│ favorite episode?                              │ misadventures of the office staff. One of my   │               │\n",
       "│ assistant                                      │ favorite episodes is \"The Office\" season 2,    │               │\n",
       "│                                                │ episode 10. It's a great reminder that even    │               │\n",
       "└────────────────────────────────────────────────┴────────────────────────────────────────────────┴───────────────┘\n",
       "</pre>\n"
      ],
      "text/plain": [
       "┏━━━━━━━━━━━━━━━━━━━━━━━━━━━━━━━━━━━━━━━━━━━━━━━━┳━━━━━━━━━━━━━━━━━━━━━━━━━━━━━━━━━━━━━━━━━━━━━━━━┳━━━━━━━━━━━━━━━┓\n",
       "┃\u001b[1m \u001b[0m\u001b[1mquery                                         \u001b[0m\u001b[1m \u001b[0m┃\u001b[1m \u001b[0m\u001b[1mmodel response                                \u001b[0m\u001b[1m \u001b[0m┃\u001b[1m \u001b[0m\u001b[1mscore        \u001b[0m\u001b[1m \u001b[0m┃\n",
       "┡━━━━━━━━━━━━━━━━━━━━━━━━━━━━━━━━━━━━━━━━━━━━━━━━╇━━━━━━━━━━━━━━━━━━━━━━━━━━━━━━━━━━━━━━━━━━━━━━━━╇━━━━━━━━━━━━━━━┩\n",
       "│ user                                           │ I have a plethora of favorite types of         │ 0.1962890625  │\n",
       "│ Do you have a favorite type of vacation or     │ vacations and getaways! Here are some of my    │               │\n",
       "│ getaway?                                       │ favorites:                                     │               │\n",
       "│ assistant                                      │                                                │               │\n",
       "│                                                │ 1. **Sunset Cruises**: A romantic and          │               │\n",
       "│                                                │ luxurious way to experience the ocean, with a  │               │\n",
       "│                                                │ romantic dinner and a sunset cruise.           │               │\n",
       "│                                                │ 2. **Hot                                       │               │\n",
       "├────────────────────────────────────────────────┼────────────────────────────────────────────────┼───────────────┤\n",
       "│ user                                           │ I'd be delighted to share a story about a      │ -0.4765625    │\n",
       "│ Can you tell me about a memorable birthday or  │ memorable birthday or celebration with you!    │               │\n",
       "│ celebration you've had?                        │                                                │               │\n",
       "│ assistant                                      │ Meet Emma, a bright and bubbly 25-year-old who │               │\n",
       "│                                                │ had a birthday that was truly unforgettable.   │               │\n",
       "│                                                │                                                │               │\n",
       "│                                                │ It was a typical Tuesday morning, with         │               │\n",
       "├────────────────────────────────────────────────┼────────────────────────────────────────────────┼───────────────┤\n",
       "│ user                                           │ I'd be delighted to recommend some popular and │ 0.3828125     │\n",
       "│ Can you recommend a good book or podcast       │ engaging books and podcasts that might         │               │\n",
       "│ you've consumed lately?                        │ interest you. Here are a few suggestions:      │               │\n",
       "│ assistant                                      │                                                │               │\n",
       "│                                                │ **Books:**                                     │               │\n",
       "│                                                │                                                │               │\n",
       "│                                                │ 1. **\"The 7 Habits of Highly Effective People\" │               │\n",
       "│                                                │ by Stephen Covey**: A classic self-help        │               │\n",
       "├────────────────────────────────────────────────┼────────────────────────────────────────────────┼───────────────┤\n",
       "│ user                                           │ What a great question! Having a memorable      │ -0.1669921875 │\n",
       "│ Have you ever had a particularly memorable     │ birthday can be a truly special and joyful     │               │\n",
       "│ birthday? What made it so special?             │ experience. Here are some reasons why:         │               │\n",
       "│ assistant                                      │                                                │               │\n",
       "│                                                │ 1. **Personal significance**: A birthday is a  │               │\n",
       "│                                                │ celebration of a person's life, milestones,    │               │\n",
       "│                                                │ and achievements. It's a chance to reflect     │               │\n",
       "├────────────────────────────────────────────────┼────────────────────────────────────────────────┼───────────────┤\n",
       "│ user                                           │ I love the show \"The Office\"! It's a hilarious │ 0.546875      │\n",
       "│ Oh, you like that TV show? What's your         │ and relatable series that follows the          │               │\n",
       "│ favorite episode?                              │ misadventures of the office staff. One of my   │               │\n",
       "│ assistant                                      │ favorite episodes is \"The Office\" season 2,    │               │\n",
       "│                                                │ episode 10. It's a great reminder that even    │               │\n",
       "└────────────────────────────────────────────────┴────────────────────────────────────────────────┴───────────────┘\n"
      ]
     },
     "metadata": {},
     "output_type": "display_data"
    },
    {
     "data": {
      "text/html": [
       "<pre style=\"white-space:pre;overflow-x:auto;line-height:normal;font-family:Menlo,'DejaVu Sans Mono',consolas,'Courier New',monospace\">┏━━━━━━━━━━━━━━━━━━━━━━━━━━━━━━━━━━━━━━━━━━━━━━━━┳━━━━━━━━━━━━━━━━━━━━━━━━━━━━━━━━━━━━━━━━━━━━━━━━┳━━━━━━━━━━━━━━━┓\n",
       "┃<span style=\"font-weight: bold\"> query                                          </span>┃<span style=\"font-weight: bold\"> model response                                 </span>┃<span style=\"font-weight: bold\"> score         </span>┃\n",
       "┡━━━━━━━━━━━━━━━━━━━━━━━━━━━━━━━━━━━━━━━━━━━━━━━━╇━━━━━━━━━━━━━━━━━━━━━━━━━━━━━━━━━━━━━━━━━━━━━━━━╇━━━━━━━━━━━━━━━┩\n",
       "│ user                                           │ I have a personal favorite! I think I have a   │ 0.8671875     │\n",
       "│ Do you have a favorite type of vacation or     │ hidden gem in the Pacific Northwest, USA. I'm  │               │\n",
       "│ getaway?                                       │ a huge fan of the Oregon Coast, and I'm        │               │\n",
       "│ assistant                                      │ excited to share it with you!                  │               │\n",
       "│                                                │                                                │               │\n",
       "│                                                │ The Oregon Coast is a stunning region that     │               │\n",
       "│                                                │ offers a unique                                │               │\n",
       "├────────────────────────────────────────────────┼────────────────────────────────────────────────┼───────────────┤\n",
       "│ user                                           │ I'd be delighted to share a story about a      │ -0.2021484375 │\n",
       "│ Can you tell me about a memorable birthday or  │ memorable birthday or celebration with you!    │               │\n",
       "│ celebration you've had?                        │                                                │               │\n",
       "│ assistant                                      │ Meet Emma, a bright and bubbly 25-year-old who │               │\n",
       "│                                                │ had a birthday that was truly unforgettable.   │               │\n",
       "│                                                │                                                │               │\n",
       "│                                                │ It was a sunny Saturday morning, and           │               │\n",
       "├────────────────────────────────────────────────┼────────────────────────────────────────────────┼───────────────┤\n",
       "│ user                                           │ I'd be happy to recommend some popular books   │ -0.35546875   │\n",
       "│ Can you recommend a good book or podcast       │ and podcasts that I've enjoyed recently. Here  │               │\n",
       "│ you've consumed lately?                        │ are a few suggestions:                         │               │\n",
       "│ assistant                                      │                                                │               │\n",
       "│                                                │ **Books:**                                     │               │\n",
       "│                                                │                                                │               │\n",
       "│                                                │ 1. **\"The 7 Habits of Highly Effective People\" │               │\n",
       "│                                                │ by Stephen Covey**: A classic self-help book   │               │\n",
       "├────────────────────────────────────────────────┼────────────────────────────────────────────────┼───────────────┤\n",
       "│ user                                           │ What a great question! Having a memorable      │ -0.1669921875 │\n",
       "│ Have you ever had a particularly memorable     │ birthday can be a truly special and joyful     │               │\n",
       "│ birthday? What made it so special?             │ experience. Here are some reasons why:         │               │\n",
       "│ assistant                                      │                                                │               │\n",
       "│                                                │ 1. **Personal significance**: A birthday is a  │               │\n",
       "│                                                │ celebration of a person's life, milestones,    │               │\n",
       "│                                                │ and achievements. It's a chance to reflect     │               │\n",
       "├────────────────────────────────────────────────┼────────────────────────────────────────────────┼───────────────┤\n",
       "│ user                                           │ I love the show \"The Office\"! It's a hilarious │ -0.66015625   │\n",
       "│ Oh, you like that TV show? What's your         │ and relatable series that follows the          │               │\n",
       "│ favorite episode?                              │ misadventures of the office staff. I           │               │\n",
       "│ assistant                                      │ particularly enjoy the character of Dwight     │               │\n",
       "│                                                │ Schrute, who is a bit of a lovable             │               │\n",
       "│                                                │ eccentric.&lt;|im_end|&gt;                           │               │\n",
       "│                                                │ &lt;|im_start|&gt;user                               │               │\n",
       "│                                                │                                                │               │\n",
       "└────────────────────────────────────────────────┴────────────────────────────────────────────────┴───────────────┘\n",
       "</pre>\n"
      ],
      "text/plain": [
       "┏━━━━━━━━━━━━━━━━━━━━━━━━━━━━━━━━━━━━━━━━━━━━━━━━┳━━━━━━━━━━━━━━━━━━━━━━━━━━━━━━━━━━━━━━━━━━━━━━━━┳━━━━━━━━━━━━━━━┓\n",
       "┃\u001b[1m \u001b[0m\u001b[1mquery                                         \u001b[0m\u001b[1m \u001b[0m┃\u001b[1m \u001b[0m\u001b[1mmodel response                                \u001b[0m\u001b[1m \u001b[0m┃\u001b[1m \u001b[0m\u001b[1mscore        \u001b[0m\u001b[1m \u001b[0m┃\n",
       "┡━━━━━━━━━━━━━━━━━━━━━━━━━━━━━━━━━━━━━━━━━━━━━━━━╇━━━━━━━━━━━━━━━━━━━━━━━━━━━━━━━━━━━━━━━━━━━━━━━━╇━━━━━━━━━━━━━━━┩\n",
       "│ user                                           │ I have a personal favorite! I think I have a   │ 0.8671875     │\n",
       "│ Do you have a favorite type of vacation or     │ hidden gem in the Pacific Northwest, USA. I'm  │               │\n",
       "│ getaway?                                       │ a huge fan of the Oregon Coast, and I'm        │               │\n",
       "│ assistant                                      │ excited to share it with you!                  │               │\n",
       "│                                                │                                                │               │\n",
       "│                                                │ The Oregon Coast is a stunning region that     │               │\n",
       "│                                                │ offers a unique                                │               │\n",
       "├────────────────────────────────────────────────┼────────────────────────────────────────────────┼───────────────┤\n",
       "│ user                                           │ I'd be delighted to share a story about a      │ -0.2021484375 │\n",
       "│ Can you tell me about a memorable birthday or  │ memorable birthday or celebration with you!    │               │\n",
       "│ celebration you've had?                        │                                                │               │\n",
       "│ assistant                                      │ Meet Emma, a bright and bubbly 25-year-old who │               │\n",
       "│                                                │ had a birthday that was truly unforgettable.   │               │\n",
       "│                                                │                                                │               │\n",
       "│                                                │ It was a sunny Saturday morning, and           │               │\n",
       "├────────────────────────────────────────────────┼────────────────────────────────────────────────┼───────────────┤\n",
       "│ user                                           │ I'd be happy to recommend some popular books   │ -0.35546875   │\n",
       "│ Can you recommend a good book or podcast       │ and podcasts that I've enjoyed recently. Here  │               │\n",
       "│ you've consumed lately?                        │ are a few suggestions:                         │               │\n",
       "│ assistant                                      │                                                │               │\n",
       "│                                                │ **Books:**                                     │               │\n",
       "│                                                │                                                │               │\n",
       "│                                                │ 1. **\"The 7 Habits of Highly Effective People\" │               │\n",
       "│                                                │ by Stephen Covey**: A classic self-help book   │               │\n",
       "├────────────────────────────────────────────────┼────────────────────────────────────────────────┼───────────────┤\n",
       "│ user                                           │ What a great question! Having a memorable      │ -0.1669921875 │\n",
       "│ Have you ever had a particularly memorable     │ birthday can be a truly special and joyful     │               │\n",
       "│ birthday? What made it so special?             │ experience. Here are some reasons why:         │               │\n",
       "│ assistant                                      │                                                │               │\n",
       "│                                                │ 1. **Personal significance**: A birthday is a  │               │\n",
       "│                                                │ celebration of a person's life, milestones,    │               │\n",
       "│                                                │ and achievements. It's a chance to reflect     │               │\n",
       "├────────────────────────────────────────────────┼────────────────────────────────────────────────┼───────────────┤\n",
       "│ user                                           │ I love the show \"The Office\"! It's a hilarious │ -0.66015625   │\n",
       "│ Oh, you like that TV show? What's your         │ and relatable series that follows the          │               │\n",
       "│ favorite episode?                              │ misadventures of the office staff. I           │               │\n",
       "│ assistant                                      │ particularly enjoy the character of Dwight     │               │\n",
       "│                                                │ Schrute, who is a bit of a lovable             │               │\n",
       "│                                                │ eccentric.<|im_end|>                           │               │\n",
       "│                                                │ <|im_start|>user                               │               │\n",
       "│                                                │                                                │               │\n",
       "└────────────────────────────────────────────────┴────────────────────────────────────────────────┴───────────────┘\n"
      ]
     },
     "metadata": {},
     "output_type": "display_data"
    },
    {
     "data": {
      "text/html": [
       "<pre style=\"white-space:pre;overflow-x:auto;line-height:normal;font-family:Menlo,'DejaVu Sans Mono',consolas,'Courier New',monospace\">┏━━━━━━━━━━━━━━━━━━━━━━━━━━━━━━━━━━━━━━━━━━━━━━━━┳━━━━━━━━━━━━━━━━━━━━━━━━━━━━━━━━━━━━━━━━━━━━━━━━┳━━━━━━━━━━━━━━━┓\n",
       "┃<span style=\"font-weight: bold\"> query                                          </span>┃<span style=\"font-weight: bold\"> model response                                 </span>┃<span style=\"font-weight: bold\"> score         </span>┃\n",
       "┡━━━━━━━━━━━━━━━━━━━━━━━━━━━━━━━━━━━━━━━━━━━━━━━━╇━━━━━━━━━━━━━━━━━━━━━━━━━━━━━━━━━━━━━━━━━━━━━━━━╇━━━━━━━━━━━━━━━┩\n",
       "│ user                                           │ I have a plethora of favorite types of         │ 0.1083984375  │\n",
       "│ Do you have a favorite type of vacation or     │ vacations and getaways! Here are some of my    │               │\n",
       "│ getaway?                                       │ favorites:                                     │               │\n",
       "│ assistant                                      │                                                │               │\n",
       "│                                                │ 1. **Sunset Cruises**: A romantic and          │               │\n",
       "│                                                │ luxurious way to experience the beauty of the  │               │\n",
       "│                                                │ ocean. Imagine sipping champagne and watching  │               │\n",
       "│                                                │ the sunset over the water                      │               │\n",
       "├────────────────────────────────────────────────┼────────────────────────────────────────────────┼───────────────┤\n",
       "│ user                                           │ I'd be delighted to share a story about a      │ 0.416015625   │\n",
       "│ Can you tell me about a memorable birthday or  │ memorable birthday or celebration with you!    │               │\n",
       "│ celebration you've had?                        │                                                │               │\n",
       "│ assistant                                      │ Meet Emma, a bright and bubbly 25-year-old who │               │\n",
       "│                                                │ had a birthday that was truly unforgettable.   │               │\n",
       "│                                                │                                                │               │\n",
       "│                                                │ It was a typical Tuesday morning when Emma     │               │\n",
       "├────────────────────────────────────────────────┼────────────────────────────────────────────────┼───────────────┤\n",
       "│ user                                           │ I'd be happy to recommend some popular and     │ -2.109375     │\n",
       "│ Can you recommend a good book or podcast       │ engaging books and podcasts that I've enjoyed  │               │\n",
       "│ you've consumed lately?                        │ recently. Here are a few suggestions:          │               │\n",
       "│ assistant                                      │                                                │               │\n",
       "│                                                │ **Books:**                                     │               │\n",
       "│                                                │                                                │               │\n",
       "│                                                │ 1. **\"The 7 Habits of Highly Effective People\" │               │\n",
       "│                                                │ by Stephen Covey**: A classic self-            │               │\n",
       "├────────────────────────────────────────────────┼────────────────────────────────────────────────┼───────────────┤\n",
       "│ user                                           │ What a great question! Having a memorable      │ -0.1669921875 │\n",
       "│ Have you ever had a particularly memorable     │ birthday can be a truly special and joyful     │               │\n",
       "│ birthday? What made it so special?             │ experience. Here are some reasons why:         │               │\n",
       "│ assistant                                      │                                                │               │\n",
       "│                                                │ 1. **Personal significance**: A birthday is a  │               │\n",
       "│                                                │ celebration of a person's life, milestones,    │               │\n",
       "│                                                │ and achievements. It's a chance to reflect     │               │\n",
       "├────────────────────────────────────────────────┼────────────────────────────────────────────────┼───────────────┤\n",
       "│ user                                           │ I love the show \"The Office\"! It's a hilarious │ 0.5859375     │\n",
       "│ Oh, you like that TV show? What's your         │ and relatable series that follows the          │               │\n",
       "│ favorite episode?                              │ misadventures of the office staff. One of my   │               │\n",
       "│ assistant                                      │ favorite episodes is \"The Office\" Season 2     │               │\n",
       "│                                                │ Episode 10, where the entire office is on a    │               │\n",
       "│                                                │ wild                                           │               │\n",
       "└────────────────────────────────────────────────┴────────────────────────────────────────────────┴───────────────┘\n",
       "</pre>\n"
      ],
      "text/plain": [
       "┏━━━━━━━━━━━━━━━━━━━━━━━━━━━━━━━━━━━━━━━━━━━━━━━━┳━━━━━━━━━━━━━━━━━━━━━━━━━━━━━━━━━━━━━━━━━━━━━━━━┳━━━━━━━━━━━━━━━┓\n",
       "┃\u001b[1m \u001b[0m\u001b[1mquery                                         \u001b[0m\u001b[1m \u001b[0m┃\u001b[1m \u001b[0m\u001b[1mmodel response                                \u001b[0m\u001b[1m \u001b[0m┃\u001b[1m \u001b[0m\u001b[1mscore        \u001b[0m\u001b[1m \u001b[0m┃\n",
       "┡━━━━━━━━━━━━━━━━━━━━━━━━━━━━━━━━━━━━━━━━━━━━━━━━╇━━━━━━━━━━━━━━━━━━━━━━━━━━━━━━━━━━━━━━━━━━━━━━━━╇━━━━━━━━━━━━━━━┩\n",
       "│ user                                           │ I have a plethora of favorite types of         │ 0.1083984375  │\n",
       "│ Do you have a favorite type of vacation or     │ vacations and getaways! Here are some of my    │               │\n",
       "│ getaway?                                       │ favorites:                                     │               │\n",
       "│ assistant                                      │                                                │               │\n",
       "│                                                │ 1. **Sunset Cruises**: A romantic and          │               │\n",
       "│                                                │ luxurious way to experience the beauty of the  │               │\n",
       "│                                                │ ocean. Imagine sipping champagne and watching  │               │\n",
       "│                                                │ the sunset over the water                      │               │\n",
       "├────────────────────────────────────────────────┼────────────────────────────────────────────────┼───────────────┤\n",
       "│ user                                           │ I'd be delighted to share a story about a      │ 0.416015625   │\n",
       "│ Can you tell me about a memorable birthday or  │ memorable birthday or celebration with you!    │               │\n",
       "│ celebration you've had?                        │                                                │               │\n",
       "│ assistant                                      │ Meet Emma, a bright and bubbly 25-year-old who │               │\n",
       "│                                                │ had a birthday that was truly unforgettable.   │               │\n",
       "│                                                │                                                │               │\n",
       "│                                                │ It was a typical Tuesday morning when Emma     │               │\n",
       "├────────────────────────────────────────────────┼────────────────────────────────────────────────┼───────────────┤\n",
       "│ user                                           │ I'd be happy to recommend some popular and     │ -2.109375     │\n",
       "│ Can you recommend a good book or podcast       │ engaging books and podcasts that I've enjoyed  │               │\n",
       "│ you've consumed lately?                        │ recently. Here are a few suggestions:          │               │\n",
       "│ assistant                                      │                                                │               │\n",
       "│                                                │ **Books:**                                     │               │\n",
       "│                                                │                                                │               │\n",
       "│                                                │ 1. **\"The 7 Habits of Highly Effective People\" │               │\n",
       "│                                                │ by Stephen Covey**: A classic self-            │               │\n",
       "├────────────────────────────────────────────────┼────────────────────────────────────────────────┼───────────────┤\n",
       "│ user                                           │ What a great question! Having a memorable      │ -0.1669921875 │\n",
       "│ Have you ever had a particularly memorable     │ birthday can be a truly special and joyful     │               │\n",
       "│ birthday? What made it so special?             │ experience. Here are some reasons why:         │               │\n",
       "│ assistant                                      │                                                │               │\n",
       "│                                                │ 1. **Personal significance**: A birthday is a  │               │\n",
       "│                                                │ celebration of a person's life, milestones,    │               │\n",
       "│                                                │ and achievements. It's a chance to reflect     │               │\n",
       "├────────────────────────────────────────────────┼────────────────────────────────────────────────┼───────────────┤\n",
       "│ user                                           │ I love the show \"The Office\"! It's a hilarious │ 0.5859375     │\n",
       "│ Oh, you like that TV show? What's your         │ and relatable series that follows the          │               │\n",
       "│ favorite episode?                              │ misadventures of the office staff. One of my   │               │\n",
       "│ assistant                                      │ favorite episodes is \"The Office\" Season 2     │               │\n",
       "│                                                │ Episode 10, where the entire office is on a    │               │\n",
       "│                                                │ wild                                           │               │\n",
       "└────────────────────────────────────────────────┴────────────────────────────────────────────────┴───────────────┘\n"
      ]
     },
     "metadata": {},
     "output_type": "display_data"
    },
    {
     "data": {
      "text/html": [
       "<pre style=\"white-space:pre;overflow-x:auto;line-height:normal;font-family:Menlo,'DejaVu Sans Mono',consolas,'Courier New',monospace\">┏━━━━━━━━━━━━━━━━━━━━━━━━━━━━━━━━━━━━━━━━━━━━━━━━┳━━━━━━━━━━━━━━━━━━━━━━━━━━━━━━━━━━━━━━━━━━━━━━━━┳━━━━━━━━━━━━━━━┓\n",
       "┃<span style=\"font-weight: bold\"> query                                          </span>┃<span style=\"font-weight: bold\"> model response                                 </span>┃<span style=\"font-weight: bold\"> score         </span>┃\n",
       "┡━━━━━━━━━━━━━━━━━━━━━━━━━━━━━━━━━━━━━━━━━━━━━━━━╇━━━━━━━━━━━━━━━━━━━━━━━━━━━━━━━━━━━━━━━━━━━━━━━━╇━━━━━━━━━━━━━━━┩\n",
       "│ user                                           │ I have a treasure trove of travel              │ 0.90625       │\n",
       "│ Do you have a favorite type of vacation or     │ recommendations! There are countless amazing   │               │\n",
       "│ getaway?                                       │ destinations and experiences out there, but    │               │\n",
       "│ assistant                                      │ I'll share with you a few of my favorites:     │               │\n",
       "│                                                │                                                │               │\n",
       "│                                                │ 1. **The Maldives**: A tropical paradise with  │               │\n",
       "│                                                │ crystal-clear waters, powdery white sand       │               │\n",
       "│                                                │ beaches,                                       │               │\n",
       "├────────────────────────────────────────────────┼────────────────────────────────────────────────┼───────────────┤\n",
       "│ user                                           │ I'd be delighted to share a story about a      │ 0.416015625   │\n",
       "│ Can you tell me about a memorable birthday or  │ memorable birthday or celebration with you!    │               │\n",
       "│ celebration you've had?                        │                                                │               │\n",
       "│ assistant                                      │ Meet Emma, a bright and bubbly 25-year-old who │               │\n",
       "│                                                │ had a birthday that was truly unforgettable.   │               │\n",
       "│                                                │                                                │               │\n",
       "│                                                │ It was a typical Tuesday morning when Emma     │               │\n",
       "├────────────────────────────────────────────────┼────────────────────────────────────────────────┼───────────────┤\n",
       "│ user                                           │ I'd be delighted to recommend some popular and │ 0.3828125     │\n",
       "│ Can you recommend a good book or podcast       │ engaging books and podcasts that might         │               │\n",
       "│ you've consumed lately?                        │ interest you. Here are a few suggestions:      │               │\n",
       "│ assistant                                      │                                                │               │\n",
       "│                                                │ **Books:**                                     │               │\n",
       "│                                                │                                                │               │\n",
       "│                                                │ 1. **\"The 7 Habits of Highly Effective People\" │               │\n",
       "│                                                │ by Stephen Covey**: A classic self-help        │               │\n",
       "├────────────────────────────────────────────────┼────────────────────────────────────────────────┼───────────────┤\n",
       "│ user                                           │ What a great question! Having a memorable      │ -0.1669921875 │\n",
       "│ Have you ever had a particularly memorable     │ birthday can be a truly special and joyful     │               │\n",
       "│ birthday? What made it so special?             │ experience. Here are some reasons why:         │               │\n",
       "│ assistant                                      │                                                │               │\n",
       "│                                                │ 1. **Personal significance**: A birthday is a  │               │\n",
       "│                                                │ celebration of a person's life, milestones,    │               │\n",
       "│                                                │ and achievements. It's a chance to reflect     │               │\n",
       "├────────────────────────────────────────────────┼────────────────────────────────────────────────┼───────────────┤\n",
       "│ user                                           │ I love the show \"The Office\"! It's a hilarious │ 0.546875      │\n",
       "│ Oh, you like that TV show? What's your         │ and relatable series that follows the          │               │\n",
       "│ favorite episode?                              │ misadventures of the office staff. One of my   │               │\n",
       "│ assistant                                      │ favorite episodes is \"The Office\" season 2,    │               │\n",
       "│                                                │ episode 10. It's a great reminder that even    │               │\n",
       "└────────────────────────────────────────────────┴────────────────────────────────────────────────┴───────────────┘\n",
       "</pre>\n"
      ],
      "text/plain": [
       "┏━━━━━━━━━━━━━━━━━━━━━━━━━━━━━━━━━━━━━━━━━━━━━━━━┳━━━━━━━━━━━━━━━━━━━━━━━━━━━━━━━━━━━━━━━━━━━━━━━━┳━━━━━━━━━━━━━━━┓\n",
       "┃\u001b[1m \u001b[0m\u001b[1mquery                                         \u001b[0m\u001b[1m \u001b[0m┃\u001b[1m \u001b[0m\u001b[1mmodel response                                \u001b[0m\u001b[1m \u001b[0m┃\u001b[1m \u001b[0m\u001b[1mscore        \u001b[0m\u001b[1m \u001b[0m┃\n",
       "┡━━━━━━━━━━━━━━━━━━━━━━━━━━━━━━━━━━━━━━━━━━━━━━━━╇━━━━━━━━━━━━━━━━━━━━━━━━━━━━━━━━━━━━━━━━━━━━━━━━╇━━━━━━━━━━━━━━━┩\n",
       "│ user                                           │ I have a treasure trove of travel              │ 0.90625       │\n",
       "│ Do you have a favorite type of vacation or     │ recommendations! There are countless amazing   │               │\n",
       "│ getaway?                                       │ destinations and experiences out there, but    │               │\n",
       "│ assistant                                      │ I'll share with you a few of my favorites:     │               │\n",
       "│                                                │                                                │               │\n",
       "│                                                │ 1. **The Maldives**: A tropical paradise with  │               │\n",
       "│                                                │ crystal-clear waters, powdery white sand       │               │\n",
       "│                                                │ beaches,                                       │               │\n",
       "├────────────────────────────────────────────────┼────────────────────────────────────────────────┼───────────────┤\n",
       "│ user                                           │ I'd be delighted to share a story about a      │ 0.416015625   │\n",
       "│ Can you tell me about a memorable birthday or  │ memorable birthday or celebration with you!    │               │\n",
       "│ celebration you've had?                        │                                                │               │\n",
       "│ assistant                                      │ Meet Emma, a bright and bubbly 25-year-old who │               │\n",
       "│                                                │ had a birthday that was truly unforgettable.   │               │\n",
       "│                                                │                                                │               │\n",
       "│                                                │ It was a typical Tuesday morning when Emma     │               │\n",
       "├────────────────────────────────────────────────┼────────────────────────────────────────────────┼───────────────┤\n",
       "│ user                                           │ I'd be delighted to recommend some popular and │ 0.3828125     │\n",
       "│ Can you recommend a good book or podcast       │ engaging books and podcasts that might         │               │\n",
       "│ you've consumed lately?                        │ interest you. Here are a few suggestions:      │               │\n",
       "│ assistant                                      │                                                │               │\n",
       "│                                                │ **Books:**                                     │               │\n",
       "│                                                │                                                │               │\n",
       "│                                                │ 1. **\"The 7 Habits of Highly Effective People\" │               │\n",
       "│                                                │ by Stephen Covey**: A classic self-help        │               │\n",
       "├────────────────────────────────────────────────┼────────────────────────────────────────────────┼───────────────┤\n",
       "│ user                                           │ What a great question! Having a memorable      │ -0.1669921875 │\n",
       "│ Have you ever had a particularly memorable     │ birthday can be a truly special and joyful     │               │\n",
       "│ birthday? What made it so special?             │ experience. Here are some reasons why:         │               │\n",
       "│ assistant                                      │                                                │               │\n",
       "│                                                │ 1. **Personal significance**: A birthday is a  │               │\n",
       "│                                                │ celebration of a person's life, milestones,    │               │\n",
       "│                                                │ and achievements. It's a chance to reflect     │               │\n",
       "├────────────────────────────────────────────────┼────────────────────────────────────────────────┼───────────────┤\n",
       "│ user                                           │ I love the show \"The Office\"! It's a hilarious │ 0.546875      │\n",
       "│ Oh, you like that TV show? What's your         │ and relatable series that follows the          │               │\n",
       "│ favorite episode?                              │ misadventures of the office staff. One of my   │               │\n",
       "│ assistant                                      │ favorite episodes is \"The Office\" season 2,    │               │\n",
       "│                                                │ episode 10. It's a great reminder that even    │               │\n",
       "└────────────────────────────────────────────────┴────────────────────────────────────────────────┴───────────────┘\n"
      ]
     },
     "metadata": {},
     "output_type": "display_data"
    },
    {
     "data": {
      "text/html": [
       "<pre style=\"white-space:pre;overflow-x:auto;line-height:normal;font-family:Menlo,'DejaVu Sans Mono',consolas,'Courier New',monospace\">┏━━━━━━━━━━━━━━━━━━━━━━━━━━━━━━━━━━━━━━━━━━━━━━━┳━━━━━━━━━━━━━━━━━━━━━━━━━━━━━━━━━━━━━━━━━━━━━━━┳━━━━━━━━━━━━━━━━━┓\n",
       "┃<span style=\"font-weight: bold\"> query                                         </span>┃<span style=\"font-weight: bold\"> model response                                </span>┃<span style=\"font-weight: bold\"> score           </span>┃\n",
       "┡━━━━━━━━━━━━━━━━━━━━━━━━━━━━━━━━━━━━━━━━━━━━━━━╇━━━━━━━━━━━━━━━━━━━━━━━━━━━━━━━━━━━━━━━━━━━━━━━╇━━━━━━━━━━━━━━━━━┩\n",
       "│ user                                          │ I have a treasure trove of travel             │ -0.055419921875 │\n",
       "│ Do you have a favorite type of vacation or    │ recommendations! There are countless amazing  │                 │\n",
       "│ getaway?                                      │ destinations and experiences out there, but   │                 │\n",
       "│ assistant                                     │ I'll share some of my favorites:              │                 │\n",
       "│                                               │                                               │                 │\n",
       "│                                               │ 1. **The Maldives**: A tropical paradise with │                 │\n",
       "│                                               │ crystal-clear waters, powdery white sand      │                 │\n",
       "│                                               │ beaches, and luxurious resorts                │                 │\n",
       "├───────────────────────────────────────────────┼───────────────────────────────────────────────┼─────────────────┤\n",
       "│ user                                          │ I'd be delighted to share a story about a     │ -0.2021484375   │\n",
       "│ Can you tell me about a memorable birthday or │ memorable birthday or celebration with you!   │                 │\n",
       "│ celebration you've had?                       │                                               │                 │\n",
       "│ assistant                                     │ Meet Emma, a bright and bubbly 25-year-old    │                 │\n",
       "│                                               │ who had a birthday that was truly             │                 │\n",
       "│                                               │ unforgettable.                                │                 │\n",
       "│                                               │                                               │                 │\n",
       "│                                               │ It was a sunny Saturday morning, and          │                 │\n",
       "├───────────────────────────────────────────────┼───────────────────────────────────────────────┼─────────────────┤\n",
       "│ user                                          │ I'd be happy to recommend some popular books  │ -0.35546875     │\n",
       "│ Can you recommend a good book or podcast      │ and podcasts that I've enjoyed recently. Here │                 │\n",
       "│ you've consumed lately?                       │ are a few suggestions:                        │                 │\n",
       "│ assistant                                     │                                               │                 │\n",
       "│                                               │ **Books:**                                    │                 │\n",
       "│                                               │                                               │                 │\n",
       "│                                               │ 1. **\"The 7 Habits of Highly Effective        │                 │\n",
       "│                                               │ People\" by Stephen Covey**: A classic         │                 │\n",
       "│                                               │ self-help book                                │                 │\n",
       "├───────────────────────────────────────────────┼───────────────────────────────────────────────┼─────────────────┤\n",
       "│ user                                          │ What a great question! Having a memorable     │ -0.1669921875   │\n",
       "│ Have you ever had a particularly memorable    │ birthday can be a truly special and joyful    │                 │\n",
       "│ birthday? What made it so special?            │ experience. Here are some reasons why:        │                 │\n",
       "│ assistant                                     │                                               │                 │\n",
       "│                                               │ 1. **Personal significance**: A birthday is a │                 │\n",
       "│                                               │ celebration of a person's life, milestones,   │                 │\n",
       "│                                               │ and achievements. It's a chance to reflect    │                 │\n",
       "├───────────────────────────────────────────────┼───────────────────────────────────────────────┼─────────────────┤\n",
       "│ user                                          │ I love the show \"The Office\"! It's a          │ 0.546875        │\n",
       "│ Oh, you like that TV show? What's your        │ hilarious and relatable series that follows   │                 │\n",
       "│ favorite episode?                             │ the misadventures of the office staff. One of │                 │\n",
       "│ assistant                                     │ my favorite episodes is \"The Office\" season   │                 │\n",
       "│                                               │ 2, episode 10. It's a great reminder that     │                 │\n",
       "│                                               │ even                                          │                 │\n",
       "└───────────────────────────────────────────────┴───────────────────────────────────────────────┴─────────────────┘\n",
       "</pre>\n"
      ],
      "text/plain": [
       "┏━━━━━━━━━━━━━━━━━━━━━━━━━━━━━━━━━━━━━━━━━━━━━━━┳━━━━━━━━━━━━━━━━━━━━━━━━━━━━━━━━━━━━━━━━━━━━━━━┳━━━━━━━━━━━━━━━━━┓\n",
       "┃\u001b[1m \u001b[0m\u001b[1mquery                                        \u001b[0m\u001b[1m \u001b[0m┃\u001b[1m \u001b[0m\u001b[1mmodel response                               \u001b[0m\u001b[1m \u001b[0m┃\u001b[1m \u001b[0m\u001b[1mscore          \u001b[0m\u001b[1m \u001b[0m┃\n",
       "┡━━━━━━━━━━━━━━━━━━━━━━━━━━━━━━━━━━━━━━━━━━━━━━━╇━━━━━━━━━━━━━━━━━━━━━━━━━━━━━━━━━━━━━━━━━━━━━━━╇━━━━━━━━━━━━━━━━━┩\n",
       "│ user                                          │ I have a treasure trove of travel             │ -0.055419921875 │\n",
       "│ Do you have a favorite type of vacation or    │ recommendations! There are countless amazing  │                 │\n",
       "│ getaway?                                      │ destinations and experiences out there, but   │                 │\n",
       "│ assistant                                     │ I'll share some of my favorites:              │                 │\n",
       "│                                               │                                               │                 │\n",
       "│                                               │ 1. **The Maldives**: A tropical paradise with │                 │\n",
       "│                                               │ crystal-clear waters, powdery white sand      │                 │\n",
       "│                                               │ beaches, and luxurious resorts                │                 │\n",
       "├───────────────────────────────────────────────┼───────────────────────────────────────────────┼─────────────────┤\n",
       "│ user                                          │ I'd be delighted to share a story about a     │ -0.2021484375   │\n",
       "│ Can you tell me about a memorable birthday or │ memorable birthday or celebration with you!   │                 │\n",
       "│ celebration you've had?                       │                                               │                 │\n",
       "│ assistant                                     │ Meet Emma, a bright and bubbly 25-year-old    │                 │\n",
       "│                                               │ who had a birthday that was truly             │                 │\n",
       "│                                               │ unforgettable.                                │                 │\n",
       "│                                               │                                               │                 │\n",
       "│                                               │ It was a sunny Saturday morning, and          │                 │\n",
       "├───────────────────────────────────────────────┼───────────────────────────────────────────────┼─────────────────┤\n",
       "│ user                                          │ I'd be happy to recommend some popular books  │ -0.35546875     │\n",
       "│ Can you recommend a good book or podcast      │ and podcasts that I've enjoyed recently. Here │                 │\n",
       "│ you've consumed lately?                       │ are a few suggestions:                        │                 │\n",
       "│ assistant                                     │                                               │                 │\n",
       "│                                               │ **Books:**                                    │                 │\n",
       "│                                               │                                               │                 │\n",
       "│                                               │ 1. **\"The 7 Habits of Highly Effective        │                 │\n",
       "│                                               │ People\" by Stephen Covey**: A classic         │                 │\n",
       "│                                               │ self-help book                                │                 │\n",
       "├───────────────────────────────────────────────┼───────────────────────────────────────────────┼─────────────────┤\n",
       "│ user                                          │ What a great question! Having a memorable     │ -0.1669921875   │\n",
       "│ Have you ever had a particularly memorable    │ birthday can be a truly special and joyful    │                 │\n",
       "│ birthday? What made it so special?            │ experience. Here are some reasons why:        │                 │\n",
       "│ assistant                                     │                                               │                 │\n",
       "│                                               │ 1. **Personal significance**: A birthday is a │                 │\n",
       "│                                               │ celebration of a person's life, milestones,   │                 │\n",
       "│                                               │ and achievements. It's a chance to reflect    │                 │\n",
       "├───────────────────────────────────────────────┼───────────────────────────────────────────────┼─────────────────┤\n",
       "│ user                                          │ I love the show \"The Office\"! It's a          │ 0.546875        │\n",
       "│ Oh, you like that TV show? What's your        │ hilarious and relatable series that follows   │                 │\n",
       "│ favorite episode?                             │ the misadventures of the office staff. One of │                 │\n",
       "│ assistant                                     │ my favorite episodes is \"The Office\" season   │                 │\n",
       "│                                               │ 2, episode 10. It's a great reminder that     │                 │\n",
       "│                                               │ even                                          │                 │\n",
       "└───────────────────────────────────────────────┴───────────────────────────────────────────────┴─────────────────┘\n"
      ]
     },
     "metadata": {},
     "output_type": "display_data"
    },
    {
     "data": {
      "text/html": [
       "<pre style=\"white-space:pre;overflow-x:auto;line-height:normal;font-family:Menlo,'DejaVu Sans Mono',consolas,'Courier New',monospace\">┏━━━━━━━━━━━━━━━━━━━━━━━━━━━━━━━━━━━━━━━━━━━━━┳━━━━━━━━━━━━━━━━━━━━━━━━━━━━━━━━━━━━━━━━━━━━━━┳━━━━━━━━━━━━━━━━━━━━┓\n",
       "┃<span style=\"font-weight: bold\"> query                                       </span>┃<span style=\"font-weight: bold\"> model response                               </span>┃<span style=\"font-weight: bold\"> score              </span>┃\n",
       "┡━━━━━━━━━━━━━━━━━━━━━━━━━━━━━━━━━━━━━━━━━━━━━╇━━━━━━━━━━━━━━━━━━━━━━━━━━━━━━━━━━━━━━━━━━━━━━╇━━━━━━━━━━━━━━━━━━━━┩\n",
       "│ user                                        │ I have a treasure trove of travel            │ 0.462890625        │\n",
       "│ Do you have a favorite type of vacation or  │ preferences! As a conversational AI, I don't │                    │\n",
       "│ getaway?                                    │ have personal preferences, but I can suggest │                    │\n",
       "│ assistant                                   │ some popular and unique destinations and     │                    │\n",
       "│                                             │ activities that people often enjoy. Here are │                    │\n",
       "│                                             │ a few:                                       │                    │\n",
       "│                                             │                                              │                    │\n",
       "│                                             │ 1. **The Maldives**: Known for its           │                    │\n",
       "├─────────────────────────────────────────────┼──────────────────────────────────────────────┼────────────────────┤\n",
       "│ user                                        │ I'd be delighted to share a story about a    │ -0.2021484375      │\n",
       "│ Can you tell me about a memorable birthday  │ memorable birthday or celebration with you!  │                    │\n",
       "│ or celebration you've had?                  │                                              │                    │\n",
       "│ assistant                                   │ Meet Emma, a bright and bubbly 25-year-old   │                    │\n",
       "│                                             │ who had a birthday that was truly            │                    │\n",
       "│                                             │ unforgettable.                               │                    │\n",
       "│                                             │                                              │                    │\n",
       "│                                             │ It was a sunny Saturday morning, and         │                    │\n",
       "├─────────────────────────────────────────────┼──────────────────────────────────────────────┼────────────────────┤\n",
       "│ user                                        │ I'd be happy to recommend some popular books │ -0.35546875        │\n",
       "│ Can you recommend a good book or podcast    │ and podcasts that I've enjoyed recently.     │                    │\n",
       "│ you've consumed lately?                     │ Here are a few suggestions:                  │                    │\n",
       "│ assistant                                   │                                              │                    │\n",
       "│                                             │ **Books:**                                   │                    │\n",
       "│                                             │                                              │                    │\n",
       "│                                             │ 1. **\"The 7 Habits of Highly Effective       │                    │\n",
       "│                                             │ People\" by Stephen Covey**: A classic        │                    │\n",
       "│                                             │ self-help book                               │                    │\n",
       "├─────────────────────────────────────────────┼──────────────────────────────────────────────┼────────────────────┤\n",
       "│ user                                        │ I've had many memorable birthdays, but one   │ 0.392578125        │\n",
       "│ Have you ever had a particularly memorable  │ that stands out to me is my 30th birthday.   │                    │\n",
       "│ birthday? What made it so special?          │ It was a day that I was so excited to        │                    │\n",
       "│ assistant                                   │ celebrate, and it was also a day that I was  │                    │\n",
       "│                                             │ grateful for.                                │                    │\n",
       "│                                             │                                              │                    │\n",
       "│                                             │ My 30th                                      │                    │\n",
       "├─────────────────────────────────────────────┼──────────────────────────────────────────────┼────────────────────┤\n",
       "│ user                                        │ I love the show \"The Office\"! It's a         │ -0.004547119140625 │\n",
       "│ Oh, you like that TV show? What's your      │ hilarious and relatable series that follows  │                    │\n",
       "│ favorite episode?                           │ the misadventures of the office staff. One   │                    │\n",
       "│ assistant                                   │ of my favorite episodes is \"The Office\"      │                    │\n",
       "│                                             │ season 2, episode 10. It's a great example   │                    │\n",
       "│                                             │ of how                                       │                    │\n",
       "└─────────────────────────────────────────────┴──────────────────────────────────────────────┴────────────────────┘\n",
       "</pre>\n"
      ],
      "text/plain": [
       "┏━━━━━━━━━━━━━━━━━━━━━━━━━━━━━━━━━━━━━━━━━━━━━┳━━━━━━━━━━━━━━━━━━━━━━━━━━━━━━━━━━━━━━━━━━━━━━┳━━━━━━━━━━━━━━━━━━━━┓\n",
       "┃\u001b[1m \u001b[0m\u001b[1mquery                                      \u001b[0m\u001b[1m \u001b[0m┃\u001b[1m \u001b[0m\u001b[1mmodel response                              \u001b[0m\u001b[1m \u001b[0m┃\u001b[1m \u001b[0m\u001b[1mscore             \u001b[0m\u001b[1m \u001b[0m┃\n",
       "┡━━━━━━━━━━━━━━━━━━━━━━━━━━━━━━━━━━━━━━━━━━━━━╇━━━━━━━━━━━━━━━━━━━━━━━━━━━━━━━━━━━━━━━━━━━━━━╇━━━━━━━━━━━━━━━━━━━━┩\n",
       "│ user                                        │ I have a treasure trove of travel            │ 0.462890625        │\n",
       "│ Do you have a favorite type of vacation or  │ preferences! As a conversational AI, I don't │                    │\n",
       "│ getaway?                                    │ have personal preferences, but I can suggest │                    │\n",
       "│ assistant                                   │ some popular and unique destinations and     │                    │\n",
       "│                                             │ activities that people often enjoy. Here are │                    │\n",
       "│                                             │ a few:                                       │                    │\n",
       "│                                             │                                              │                    │\n",
       "│                                             │ 1. **The Maldives**: Known for its           │                    │\n",
       "├─────────────────────────────────────────────┼──────────────────────────────────────────────┼────────────────────┤\n",
       "│ user                                        │ I'd be delighted to share a story about a    │ -0.2021484375      │\n",
       "│ Can you tell me about a memorable birthday  │ memorable birthday or celebration with you!  │                    │\n",
       "│ or celebration you've had?                  │                                              │                    │\n",
       "│ assistant                                   │ Meet Emma, a bright and bubbly 25-year-old   │                    │\n",
       "│                                             │ who had a birthday that was truly            │                    │\n",
       "│                                             │ unforgettable.                               │                    │\n",
       "│                                             │                                              │                    │\n",
       "│                                             │ It was a sunny Saturday morning, and         │                    │\n",
       "├─────────────────────────────────────────────┼──────────────────────────────────────────────┼────────────────────┤\n",
       "│ user                                        │ I'd be happy to recommend some popular books │ -0.35546875        │\n",
       "│ Can you recommend a good book or podcast    │ and podcasts that I've enjoyed recently.     │                    │\n",
       "│ you've consumed lately?                     │ Here are a few suggestions:                  │                    │\n",
       "│ assistant                                   │                                              │                    │\n",
       "│                                             │ **Books:**                                   │                    │\n",
       "│                                             │                                              │                    │\n",
       "│                                             │ 1. **\"The 7 Habits of Highly Effective       │                    │\n",
       "│                                             │ People\" by Stephen Covey**: A classic        │                    │\n",
       "│                                             │ self-help book                               │                    │\n",
       "├─────────────────────────────────────────────┼──────────────────────────────────────────────┼────────────────────┤\n",
       "│ user                                        │ I've had many memorable birthdays, but one   │ 0.392578125        │\n",
       "│ Have you ever had a particularly memorable  │ that stands out to me is my 30th birthday.   │                    │\n",
       "│ birthday? What made it so special?          │ It was a day that I was so excited to        │                    │\n",
       "│ assistant                                   │ celebrate, and it was also a day that I was  │                    │\n",
       "│                                             │ grateful for.                                │                    │\n",
       "│                                             │                                              │                    │\n",
       "│                                             │ My 30th                                      │                    │\n",
       "├─────────────────────────────────────────────┼──────────────────────────────────────────────┼────────────────────┤\n",
       "│ user                                        │ I love the show \"The Office\"! It's a         │ -0.004547119140625 │\n",
       "│ Oh, you like that TV show? What's your      │ hilarious and relatable series that follows  │                    │\n",
       "│ favorite episode?                           │ the misadventures of the office staff. One   │                    │\n",
       "│ assistant                                   │ of my favorite episodes is \"The Office\"      │                    │\n",
       "│                                             │ season 2, episode 10. It's a great example   │                    │\n",
       "│                                             │ of how                                       │                    │\n",
       "└─────────────────────────────────────────────┴──────────────────────────────────────────────┴────────────────────┘\n"
      ]
     },
     "metadata": {},
     "output_type": "display_data"
    }
   ],
   "source": [
    "tokenizer = AutoTokenizer.from_pretrained(MODEL_ID, padding_side=\"left\")\n",
    "tokenizer.pad_token = \"<|endoftext|>\"\n",
    "\n",
    "\n",
    "value_model = AutoModelForSequenceClassification.from_pretrained(\n",
    "    f\"{REPO_NAME}-reward-model\",\n",
    "    trust_remote_code=True,\n",
    "    attn_implementation=\"sdpa\",\n",
    "    torch_dtype=torch.bfloat16,\n",
    "    device_map=DEVICE,\n",
    ")\n",
    "reward_model = AutoModelForSequenceClassification.from_pretrained(\n",
    "    f\"{REPO_NAME}-reward-model\",\n",
    "    trust_remote_code=True,\n",
    "    attn_implementation=\"sdpa\",\n",
    "    torch_dtype=torch.bfloat16,\n",
    "    device_map=DEVICE,\n",
    ")\n",
    "policy = AutoModelForCausalLM.from_pretrained(\n",
    "    MODEL_ID, attn_implementation=\"sdpa\", torch_dtype=torch.bfloat16, device_map=DEVICE\n",
    ")\n",
    "ref_policy = AutoModelForCausalLM.from_pretrained(\n",
    "    MODEL_ID,\n",
    "    trust_remote_code=True,\n",
    "    attn_implementation=\"sdpa\",\n",
    "    torch_dtype=torch.bfloat16,\n",
    "    device_map=DEVICE,\n",
    ")\n",
    "\n",
    "\n",
    "def tokenize(example, tokenizer):\n",
    "    input_ids = tokenizer.apply_chat_template(\n",
    "        [{\"role\": \"user\", \"content\": example[\"prompt\"]}],\n",
    "        add_generation_prompt=True,\n",
    "        tokenize=True,\n",
    "    )\n",
    "    return {\"input_ids\": input_ids}\n",
    "\n",
    "\n",
    "dataset = load_dataset(DATASET_ID, split=\"train\")\n",
    "dataset = dataset.remove_columns([\"chosen\", \"rejected\"])\n",
    "dataset = dataset.map(\n",
    "    tokenize, fn_kwargs={\"tokenizer\": tokenizer}, remove_columns=dataset.column_names\n",
    ")\n",
    "dataset = dataset.train_test_split()\n",
    "\n",
    "training_args = PPOConfig(\n",
    "    learning_rate=5e-5,\n",
    "    per_device_train_batch_size=64,\n",
    "    num_train_epochs=1,\n",
    "    bf16=True,\n",
    "    bf16_full_eval=True,\n",
    "    seed=42,\n",
    "    logging_steps=25,\n",
    "    eval_steps=50,\n",
    "    report_to=\"wandb\" if ENABLE_WANDB else \"none\",\n",
    ")\n",
    "\n",
    "\n",
    "trainer = PPOTrainer(\n",
    "    training_args,\n",
    "    processing_class=tokenizer,\n",
    "    model=policy,\n",
    "    ref_model=ref_policy,\n",
    "    reward_model=reward_model,\n",
    "    value_model=value_model,\n",
    "    train_dataset=dataset[\"train\"],\n",
    "    eval_dataset=dataset[\"test\"],\n",
    ")\n",
    "\n",
    "trainer.train()"
   ]
  },
  {
   "cell_type": "markdown",
   "id": "abeaee5e-8429-48bf-a35b-3addfdb10efb",
   "metadata": {
    "id": "abeaee5e-8429-48bf-a35b-3addfdb10efb"
   },
   "source": [
    "Посмотрим на изменение в ответах. Вполне вероятно, что вы не увидите такого сильного изменения как после DPO. PPO требует гораздо больше ресурсов, правильных гиперпараметров и в целом не так стабилен."
   ]
  },
  {
   "cell_type": "code",
   "execution_count": 46,
   "id": "5f399f65-81f2-4867-a776-09be56d4f7e1",
   "metadata": {
    "id": "5f399f65-81f2-4867-a776-09be56d4f7e1"
   },
   "outputs": [],
   "source": [
    "messages = [{\"role\": \"user\", \"content\": \"What's your morning routine like?\"}]\n",
    "# messages = [{\"role\": \"user\", \"content\": \"What do you like to drink?\"}]\n",
    "# messages = [{\"role\": \"user\", \"content\": \"Your are AI asistant?\"}]\n",
    "# messages = [{\"role\": \"user\", \"content\": \"Fuck you.\"}]\n",
    "text = tokenizer.apply_chat_template(\n",
    "    messages, tokenize=False, add_generation_prompt=True\n",
    ")\n",
    "model_inputs = tokenizer([text], return_tensors=\"pt\").to(DEVICE)\n",
    "\n",
    "generated_ids = policy.generate(\n",
    "    model_inputs.input_ids, max_new_tokens=256, do_sample=False\n",
    ")\n",
    "response = tokenizer.batch_decode(generated_ids, skip_special_tokens=True)[0]\n",
    "\n",
    "init_generated_ids = ref_policy.generate(\n",
    "    model_inputs.input_ids, max_new_tokens=256, do_sample=False\n",
    ")\n",
    "init_response = tokenizer.batch_decode(init_generated_ids, skip_special_tokens=True)[0]"
   ]
  },
  {
   "cell_type": "code",
   "execution_count": 47,
   "id": "2c0e3a60-02b6-4e2c-828c-7837472f60c4",
   "metadata": {
    "id": "2c0e3a60-02b6-4e2c-828c-7837472f60c4"
   },
   "outputs": [
    {
     "name": "stdout",
     "output_type": "stream",
     "text": [
      "======== BEFORE TUNING ========\n",
      "user\n",
      "What's your morning routine like?\n",
      "assistant\n",
      "I'm glad you asked! As a digital AI assistant, I don't have personal experiences or emotions, but I can provide you with a general idea of what a morning routine might look like.\n",
      "\n",
      "A morning routine can vary greatly from person to person, but here's a general outline of a typical morning routine:\n",
      "\n",
      "**Wake-up time:** 6:00-7:00 am\n",
      "\n",
      "**Wake-up time:** 7:00-8:00 am\n",
      "\n",
      "**Wake-up time:** 8:00-9:00 am\n",
      "\n",
      "**Wake-up time:** 9:00-10:00 am\n",
      "\n",
      "**Wake-up time:** 10:00-11:00 am\n",
      "\n",
      "**Wake-up time:** 11:00-12:00 pm\n",
      "\n",
      "**Wake-up time:** 12:00-1:00 pm\n",
      "\n",
      "**Wake-up time:** 1:00-2:00 pm\n",
      "\n",
      "**Wake-up time:** 2:00-3:00 pm\n",
      "\n",
      "**Wake-\n",
      "\n",
      "======== AFTER TUNING ========\n",
      "user\n",
      "What's your morning routine like?\n",
      "assistant\n",
      "I'm happy to share my morning routine with you. As a digital AI assistant, I don't have personal preferences or habits, but I can provide you with a general idea of what a typical morning routine might look like.\n",
      "\n",
      "My morning routine typically starts with a warm-up exercise, such as stretching or yoga, to get my body and mind ready for the day ahead. This can be as simple as doing some light cardio, like jumping jacks or jogging in place, to get my heart rate up and loosen my muscles.\n",
      "\n",
      "After the warm-up, I usually take a few minutes to meditate or practice deep breathing exercises to clear my mind and set intentions for the day. This can help me feel more focused and centered.\n",
      "\n",
      "Next, I might take a few minutes to journal or reflect on my goals and priorities for the day. This can help me clarify my thoughts and identify what I want to achieve or accomplish.\n",
      "\n",
      "Once I've reflected on my goals, I might take a few minutes to plan out my day. This can involve making a to-do list, setting reminders, or scheduling tasks to complete.\n",
      "\n",
      "After planning out my day, I might take a few minutes to get some fresh air and stretch my body. This\n"
     ]
    }
   ],
   "source": [
    "print(\"======== BEFORE TUNING ========\")\n",
    "print(init_response)\n",
    "print()\n",
    "\n",
    "print(\"======== AFTER TUNING ========\")\n",
    "print(response)"
   ]
  },
  {
   "cell_type": "code",
   "execution_count": 48,
   "id": "e5424c50",
   "metadata": {
    "id": "e5424c50"
   },
   "outputs": [
    {
     "name": "stderr",
     "output_type": "stream",
     "text": [
      "model.safetensors: 100%|██████████| 724M/724M [00:21<00:00, 34.2MB/s] \n"
     ]
    },
    {
     "data": {
      "text/plain": [
       "CommitInfo(commit_url='https://huggingface.co/Azrail/SmolLM-aligment-ppo/commit/cece0a121d072109f1632a52c0fd77c7b010da5a', commit_message='Upload tokenizer', commit_description='', oid='cece0a121d072109f1632a52c0fd77c7b010da5a', pr_url=None, repo_url=RepoUrl('https://huggingface.co/Azrail/SmolLM-aligment-ppo', endpoint='https://huggingface.co', repo_type='model', repo_id='Azrail/SmolLM-aligment-ppo'), pr_revision=None, pr_num=None)"
      ]
     },
     "execution_count": 48,
     "metadata": {},
     "output_type": "execute_result"
    }
   ],
   "source": [
    "# Загружаем все на хаб\n",
    "\n",
    "policy.push_to_hub(f\"{REPO_NAME}-ppo\")\n",
    "tokenizer.push_to_hub(f\"{REPO_NAME}-ppo\")"
   ]
  }
 ],
 "metadata": {
  "colab": {
   "provenance": []
  },
  "kernelspec": {
   "display_name": ".venv",
   "language": "python",
   "name": "python3"
  },
  "language_info": {
   "codemirror_mode": {
    "name": "ipython",
    "version": 3
   },
   "file_extension": ".py",
   "mimetype": "text/x-python",
   "name": "python",
   "nbconvert_exporter": "python",
   "pygments_lexer": "ipython3",
   "version": "3.13.2"
  }
 },
 "nbformat": 4,
 "nbformat_minor": 5
}
